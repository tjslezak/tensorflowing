{
 "cells": [
  {
   "cell_type": "code",
   "execution_count": 62,
   "metadata": {},
   "outputs": [
    {
     "data": {
      "text/plain": [
       "'2.0.0-alpha0'"
      ]
     },
     "execution_count": 62,
     "metadata": {},
     "output_type": "execute_result"
    }
   ],
   "source": [
    "import tensorflow as tf\n",
    "from tensorflow import keras\n",
    "\n",
    "from tensorflow import feature_column\n",
    "from tensorflow.keras import layers\n",
    "from sklearn.model_selection import train_test_split\n",
    "\n",
    "import numpy as np\n",
    "import pandas as pd\n",
    "import hvplot.pandas\n",
    "\n",
    "tf.__version__"
   ]
  },
  {
   "cell_type": "markdown",
   "metadata": {},
   "source": [
    "## Text Classification Example"
   ]
  },
  {
   "cell_type": "code",
   "execution_count": 4,
   "metadata": {},
   "outputs": [
    {
     "name": "stdout",
     "output_type": "stream",
     "text": [
      "Training entries: 25000, labels: 25000\n"
     ]
    }
   ],
   "source": [
    "imdb = keras.datasets.imdb\n",
    "\n",
    "(train_data, train_labels), (test_data, test_labels) = imdb.load_data(num_words=10000)\n",
    "print(\"Training entries: {}, labels: {}\".format(len(train_data), len(train_labels)))"
   ]
  },
  {
   "cell_type": "code",
   "execution_count": 5,
   "metadata": {},
   "outputs": [
    {
     "name": "stdout",
     "output_type": "stream",
     "text": [
      "[1, 14, 22, 16, 43, 530, 973, 1622, 1385, 65, 458, 4468, 66, 3941, 4, 173, 36, 256, 5, 25, 100, 43, 838, 112, 50, 670, 2, 9, 35, 480, 284, 5, 150, 4, 172, 112, 167, 2, 336, 385, 39, 4, 172, 4536, 1111, 17, 546, 38, 13, 447, 4, 192, 50, 16, 6, 147, 2025, 19, 14, 22, 4, 1920, 4613, 469, 4, 22, 71, 87, 12, 16, 43, 530, 38, 76, 15, 13, 1247, 4, 22, 17, 515, 17, 12, 16, 626, 18, 2, 5, 62, 386, 12, 8, 316, 8, 106, 5, 4, 2223, 5244, 16, 480, 66, 3785, 33, 4, 130, 12, 16, 38, 619, 5, 25, 124, 51, 36, 135, 48, 25, 1415, 33, 6, 22, 12, 215, 28, 77, 52, 5, 14, 407, 16, 82, 2, 8, 4, 107, 117, 5952, 15, 256, 4, 2, 7, 3766, 5, 723, 36, 71, 43, 530, 476, 26, 400, 317, 46, 7, 4, 2, 1029, 13, 104, 88, 4, 381, 15, 297, 98, 32, 2071, 56, 26, 141, 6, 194, 7486, 18, 4, 226, 22, 21, 134, 476, 26, 480, 5, 144, 30, 5535, 18, 51, 36, 28, 224, 92, 25, 104, 4, 226, 65, 16, 38, 1334, 88, 12, 16, 283, 5, 16, 4472, 113, 103, 32, 15, 16, 5345, 19, 178, 32]\n"
     ]
    }
   ],
   "source": [
    "print(train_data[0])"
   ]
  },
  {
   "cell_type": "code",
   "execution_count": 6,
   "metadata": {},
   "outputs": [
    {
     "data": {
      "text/plain": [
       "(218, 189)"
      ]
     },
     "execution_count": 6,
     "metadata": {},
     "output_type": "execute_result"
    }
   ],
   "source": [
    "len(train_data[0]), len(train_data[1])"
   ]
  },
  {
   "cell_type": "code",
   "execution_count": 7,
   "metadata": {},
   "outputs": [
    {
     "name": "stdout",
     "output_type": "stream",
     "text": [
      "Downloading data from https://storage.googleapis.com/tensorflow/tf-keras-datasets/imdb_word_index.json\n",
      "1646592/1641221 [==============================] - 0s 0us/step\n"
     ]
    }
   ],
   "source": [
    "# A dictionary mapping words to an integer index\n",
    "word_index = imdb.get_word_index()\n",
    "\n",
    "# The first indices are reserved\n",
    "word_index = {k:(v+3) for k,v in word_index.items()}\n",
    "word_index[\"<PAD>\"] = 0\n",
    "word_index[\"<START>\"] = 1\n",
    "word_index[\"<UNK>\"] = 2  # unknown\n",
    "word_index[\"<UNUSED>\"] = 3\n",
    "\n",
    "reverse_word_index = dict([(value, key) for (key, value) in word_index.items()])\n",
    "\n",
    "def decode_review(text):\n",
    "    return ' '.join([reverse_word_index.get(i, '?') for i in text])"
   ]
  },
  {
   "cell_type": "code",
   "execution_count": 8,
   "metadata": {},
   "outputs": [
    {
     "data": {
      "text/plain": [
       "\"<START> this film was just brilliant casting location scenery story direction everyone's really suited the part they played and you could just imagine being there robert <UNK> is an amazing actor and now the same being director <UNK> father came from the same scottish island as myself so i loved the fact there was a real connection with this film the witty remarks throughout the film were great it was just brilliant so much that i bought the film as soon as it was released for <UNK> and would recommend it to everyone to watch and the fly fishing was amazing really cried at the end it was so sad and you know what they say if you cry at a film it must have been good and this definitely was also <UNK> to the two little boy's that played the <UNK> of norman and paul they were just brilliant children are often left out of the <UNK> list i think because the stars that play them all grown up are such a big profile for the whole film but these children are amazing and should be praised for what they have done don't you think the whole story was so lovely because it was true and was someone's life after all that was shared with us all\""
      ]
     },
     "execution_count": 8,
     "metadata": {},
     "output_type": "execute_result"
    }
   ],
   "source": [
    "decode_review(train_data[0])"
   ]
  },
  {
   "cell_type": "code",
   "execution_count": 11,
   "metadata": {},
   "outputs": [
    {
     "data": {
      "text/plain": [
       "(256, 256)"
      ]
     },
     "execution_count": 11,
     "metadata": {},
     "output_type": "execute_result"
    }
   ],
   "source": [
    "train_data = keras.preprocessing.sequence.pad_sequences(train_data,\n",
    "                                                        value=word_index[\"<PAD>\"],\n",
    "                                                        padding='post',\n",
    "                                                        maxlen=256)\n",
    "\n",
    "test_data = keras.preprocessing.sequence.pad_sequences(test_data,\n",
    "                                                       value=word_index[\"<PAD>\"],\n",
    "                                                       padding='post',\n",
    "                                                       maxlen=256)\n",
    "len(train_data[0]), len(train_data[1])"
   ]
  },
  {
   "cell_type": "code",
   "execution_count": 13,
   "metadata": {},
   "outputs": [
    {
     "name": "stdout",
     "output_type": "stream",
     "text": [
      "[   1   14   22   16   43  530  973 1622 1385   65  458 4468   66 3941\n",
      "    4  173   36  256    5   25  100   43  838  112   50  670    2    9\n",
      "   35  480  284    5  150    4  172  112  167    2  336  385   39    4\n",
      "  172 4536 1111   17  546   38   13  447    4  192   50   16    6  147\n",
      " 2025   19   14   22    4 1920 4613  469    4   22   71   87   12   16\n",
      "   43  530   38   76   15   13 1247    4   22   17  515   17   12   16\n",
      "  626   18    2    5   62  386   12    8  316    8  106    5    4 2223\n",
      " 5244   16  480   66 3785   33    4  130   12   16   38  619    5   25\n",
      "  124   51   36  135   48   25 1415   33    6   22   12  215   28   77\n",
      "   52    5   14  407   16   82    2    8    4  107  117 5952   15  256\n",
      "    4    2    7 3766    5  723   36   71   43  530  476   26  400  317\n",
      "   46    7    4    2 1029   13  104   88    4  381   15  297   98   32\n",
      " 2071   56   26  141    6  194 7486   18    4  226   22   21  134  476\n",
      "   26  480    5  144   30 5535   18   51   36   28  224   92   25  104\n",
      "    4  226   65   16   38 1334   88   12   16  283    5   16 4472  113\n",
      "  103   32   15   16 5345   19  178   32    0    0    0    0    0    0\n",
      "    0    0    0    0    0    0    0    0    0    0    0    0    0    0\n",
      "    0    0    0    0    0    0    0    0    0    0    0    0    0    0\n",
      "    0    0    0    0]\n"
     ]
    }
   ],
   "source": [
    "print(train_data[0])"
   ]
  },
  {
   "cell_type": "code",
   "execution_count": 25,
   "metadata": {},
   "outputs": [
    {
     "name": "stdout",
     "output_type": "stream",
     "text": [
      "Model: \"sequential_1\"\n",
      "_________________________________________________________________\n",
      "Layer (type)                 Output Shape              Param #   \n",
      "=================================================================\n",
      "embedding_1 (Embedding)      (None, None, 16)          160000    \n",
      "_________________________________________________________________\n",
      "global_average_pooling1d_1 ( (None, 16)                0         \n",
      "_________________________________________________________________\n",
      "dense_2 (Dense)              (None, 16)                272       \n",
      "_________________________________________________________________\n",
      "dense_3 (Dense)              (None, 1)                 17        \n",
      "=================================================================\n",
      "Total params: 160,289\n",
      "Trainable params: 160,289\n",
      "Non-trainable params: 0\n",
      "_________________________________________________________________\n"
     ]
    }
   ],
   "source": [
    "model = keras.Sequential()\n",
    "model.add(keras.layers.Embedding(10000, 16))\n",
    "model.add(keras.layers.GlobalAveragePooling1D())\n",
    "model.add(keras.layers.Dense(16, activation='relu'))\n",
    "model.add(keras.layers.Dense(1, activation='sigmoid'))\n",
    "model.summary()"
   ]
  },
  {
   "cell_type": "code",
   "execution_count": 26,
   "metadata": {},
   "outputs": [],
   "source": [
    "model.compile(optimizer='adam',\n",
    "              loss='binary_crossentropy',\n",
    "              metrics=['accuracy'])"
   ]
  },
  {
   "cell_type": "code",
   "execution_count": 27,
   "metadata": {},
   "outputs": [
    {
     "data": {
      "text/plain": [
       "25000"
      ]
     },
     "execution_count": 27,
     "metadata": {},
     "output_type": "execute_result"
    }
   ],
   "source": [
    "len(train_data)"
   ]
  },
  {
   "cell_type": "code",
   "execution_count": 29,
   "metadata": {},
   "outputs": [],
   "source": [
    "x_val = train_data[:10000]\n",
    "partial_x_train = train_data[10000:]\n",
    "\n",
    "y_val = train_labels[:10000]\n",
    "partial_y_train = train_labels[10000:]"
   ]
  },
  {
   "cell_type": "code",
   "execution_count": 30,
   "metadata": {},
   "outputs": [
    {
     "name": "stdout",
     "output_type": "stream",
     "text": [
      "Train on 15000 samples, validate on 10000 samples\n",
      "Epoch 1/100\n",
      "15000/15000 [==============================] - 1s 45us/sample - loss: 0.6923 - accuracy: 0.5551 - val_loss: 0.6909 - val_accuracy: 0.6425\n",
      "Epoch 2/100\n",
      "15000/15000 [==============================] - 0s 26us/sample - loss: 0.6883 - accuracy: 0.7219 - val_loss: 0.6855 - val_accuracy: 0.7074\n",
      "Epoch 3/100\n",
      "15000/15000 [==============================] - 0s 26us/sample - loss: 0.6799 - accuracy: 0.7276 - val_loss: 0.6745 - val_accuracy: 0.7383\n",
      "Epoch 4/100\n",
      "15000/15000 [==============================] - 0s 26us/sample - loss: 0.6639 - accuracy: 0.7630 - val_loss: 0.6553 - val_accuracy: 0.7505\n",
      "Epoch 5/100\n",
      "15000/15000 [==============================] - 0s 26us/sample - loss: 0.6379 - accuracy: 0.7810 - val_loss: 0.6260 - val_accuracy: 0.7593\n",
      "Epoch 6/100\n",
      "15000/15000 [==============================] - 0s 26us/sample - loss: 0.6013 - accuracy: 0.7951 - val_loss: 0.5884 - val_accuracy: 0.7782\n",
      "Epoch 7/100\n",
      "15000/15000 [==============================] - 0s 26us/sample - loss: 0.5570 - accuracy: 0.8165 - val_loss: 0.5462 - val_accuracy: 0.8108\n",
      "Epoch 8/100\n",
      "15000/15000 [==============================] - 0s 26us/sample - loss: 0.5095 - accuracy: 0.8367 - val_loss: 0.5036 - val_accuracy: 0.8233\n",
      "Epoch 9/100\n",
      "15000/15000 [==============================] - 0s 29us/sample - loss: 0.4632 - accuracy: 0.8505 - val_loss: 0.4638 - val_accuracy: 0.8370\n",
      "Epoch 10/100\n",
      "15000/15000 [==============================] - 0s 26us/sample - loss: 0.4211 - accuracy: 0.8631 - val_loss: 0.4291 - val_accuracy: 0.8467\n",
      "Epoch 11/100\n",
      "15000/15000 [==============================] - 0s 26us/sample - loss: 0.3847 - accuracy: 0.8755 - val_loss: 0.4005 - val_accuracy: 0.8539\n",
      "Epoch 12/100\n",
      "15000/15000 [==============================] - 0s 25us/sample - loss: 0.3545 - accuracy: 0.8825 - val_loss: 0.3784 - val_accuracy: 0.8582\n",
      "Epoch 13/100\n",
      "15000/15000 [==============================] - 0s 25us/sample - loss: 0.3285 - accuracy: 0.8908 - val_loss: 0.3602 - val_accuracy: 0.8642\n",
      "Epoch 14/100\n",
      "15000/15000 [==============================] - 0s 26us/sample - loss: 0.3066 - accuracy: 0.8967 - val_loss: 0.3449 - val_accuracy: 0.8696\n",
      "Epoch 15/100\n",
      "15000/15000 [==============================] - 0s 26us/sample - loss: 0.2878 - accuracy: 0.9019 - val_loss: 0.3327 - val_accuracy: 0.8710\n",
      "Epoch 16/100\n",
      "15000/15000 [==============================] - 0s 26us/sample - loss: 0.2713 - accuracy: 0.9065 - val_loss: 0.3239 - val_accuracy: 0.8732\n",
      "Epoch 17/100\n",
      "15000/15000 [==============================] - 0s 26us/sample - loss: 0.2574 - accuracy: 0.9106 - val_loss: 0.3151 - val_accuracy: 0.8770\n",
      "Epoch 18/100\n",
      "15000/15000 [==============================] - 0s 28us/sample - loss: 0.2439 - accuracy: 0.9147 - val_loss: 0.3084 - val_accuracy: 0.8795\n",
      "Epoch 19/100\n",
      "15000/15000 [==============================] - 0s 27us/sample - loss: 0.2317 - accuracy: 0.9195 - val_loss: 0.3029 - val_accuracy: 0.8798\n",
      "Epoch 20/100\n",
      "15000/15000 [==============================] - 0s 26us/sample - loss: 0.2213 - accuracy: 0.9229 - val_loss: 0.2983 - val_accuracy: 0.8821\n",
      "Epoch 21/100\n",
      "15000/15000 [==============================] - 0s 26us/sample - loss: 0.2111 - accuracy: 0.9265 - val_loss: 0.2947 - val_accuracy: 0.8821\n",
      "Epoch 22/100\n",
      "15000/15000 [==============================] - 0s 28us/sample - loss: 0.2015 - accuracy: 0.9303 - val_loss: 0.2923 - val_accuracy: 0.8832\n",
      "Epoch 23/100\n",
      "15000/15000 [==============================] - 0s 28us/sample - loss: 0.1930 - accuracy: 0.9340 - val_loss: 0.2902 - val_accuracy: 0.8833\n",
      "Epoch 24/100\n",
      "15000/15000 [==============================] - 0s 27us/sample - loss: 0.1851 - accuracy: 0.9374 - val_loss: 0.2881 - val_accuracy: 0.8844\n",
      "Epoch 25/100\n",
      "15000/15000 [==============================] - 0s 27us/sample - loss: 0.1768 - accuracy: 0.9414 - val_loss: 0.2881 - val_accuracy: 0.8842\n",
      "Epoch 26/100\n",
      "15000/15000 [==============================] - 0s 28us/sample - loss: 0.1702 - accuracy: 0.9449 - val_loss: 0.2866 - val_accuracy: 0.8838\n",
      "Epoch 27/100\n",
      "15000/15000 [==============================] - 0s 26us/sample - loss: 0.1628 - accuracy: 0.9484 - val_loss: 0.2855 - val_accuracy: 0.8851\n",
      "Epoch 28/100\n",
      "15000/15000 [==============================] - 0s 26us/sample - loss: 0.1564 - accuracy: 0.9508 - val_loss: 0.2860 - val_accuracy: 0.8849\n",
      "Epoch 29/100\n",
      "15000/15000 [==============================] - 0s 28us/sample - loss: 0.1505 - accuracy: 0.9534 - val_loss: 0.2858 - val_accuracy: 0.8854\n",
      "Epoch 30/100\n",
      "15000/15000 [==============================] - 0s 28us/sample - loss: 0.1445 - accuracy: 0.9555 - val_loss: 0.2865 - val_accuracy: 0.8865\n",
      "Epoch 31/100\n",
      "15000/15000 [==============================] - 0s 29us/sample - loss: 0.1392 - accuracy: 0.9579 - val_loss: 0.2879 - val_accuracy: 0.8850\n",
      "Epoch 32/100\n",
      "15000/15000 [==============================] - 0s 26us/sample - loss: 0.1343 - accuracy: 0.9593 - val_loss: 0.2886 - val_accuracy: 0.8866\n",
      "Epoch 33/100\n",
      "15000/15000 [==============================] - 0s 28us/sample - loss: 0.1287 - accuracy: 0.9621 - val_loss: 0.2906 - val_accuracy: 0.8863\n",
      "Epoch 34/100\n",
      "15000/15000 [==============================] - 0s 27us/sample - loss: 0.1240 - accuracy: 0.9647 - val_loss: 0.2920 - val_accuracy: 0.8860\n",
      "Epoch 35/100\n",
      "15000/15000 [==============================] - 0s 26us/sample - loss: 0.1194 - accuracy: 0.9655 - val_loss: 0.2935 - val_accuracy: 0.8858\n",
      "Epoch 36/100\n",
      "15000/15000 [==============================] - 0s 26us/sample - loss: 0.1150 - accuracy: 0.9676 - val_loss: 0.2956 - val_accuracy: 0.8865\n",
      "Epoch 37/100\n",
      "15000/15000 [==============================] - 0s 29us/sample - loss: 0.1112 - accuracy: 0.9691 - val_loss: 0.2979 - val_accuracy: 0.8847\n",
      "Epoch 38/100\n",
      "15000/15000 [==============================] - 0s 27us/sample - loss: 0.1069 - accuracy: 0.9706 - val_loss: 0.3009 - val_accuracy: 0.8840\n",
      "Epoch 39/100\n",
      "15000/15000 [==============================] - 0s 27us/sample - loss: 0.1032 - accuracy: 0.9719 - val_loss: 0.3035 - val_accuracy: 0.8839\n",
      "Epoch 40/100\n",
      "15000/15000 [==============================] - 0s 26us/sample - loss: 0.0996 - accuracy: 0.9730 - val_loss: 0.3059 - val_accuracy: 0.8836\n",
      "Epoch 41/100\n",
      "15000/15000 [==============================] - 0s 27us/sample - loss: 0.0958 - accuracy: 0.9747 - val_loss: 0.3088 - val_accuracy: 0.8826\n",
      "Epoch 42/100\n",
      "15000/15000 [==============================] - 0s 28us/sample - loss: 0.0932 - accuracy: 0.9759 - val_loss: 0.3121 - val_accuracy: 0.8829\n",
      "Epoch 43/100\n",
      "15000/15000 [==============================] - 0s 27us/sample - loss: 0.0891 - accuracy: 0.9783 - val_loss: 0.3168 - val_accuracy: 0.8807\n",
      "Epoch 44/100\n",
      "15000/15000 [==============================] - 0s 26us/sample - loss: 0.0858 - accuracy: 0.9790 - val_loss: 0.3184 - val_accuracy: 0.8821\n",
      "Epoch 45/100\n",
      "15000/15000 [==============================] - 0s 26us/sample - loss: 0.0828 - accuracy: 0.9803 - val_loss: 0.3218 - val_accuracy: 0.8812\n",
      "Epoch 46/100\n",
      "15000/15000 [==============================] - 0s 27us/sample - loss: 0.0800 - accuracy: 0.9813 - val_loss: 0.3263 - val_accuracy: 0.8801\n",
      "Epoch 47/100\n",
      "15000/15000 [==============================] - 0s 25us/sample - loss: 0.0771 - accuracy: 0.9822 - val_loss: 0.3298 - val_accuracy: 0.8803\n",
      "Epoch 48/100\n",
      "15000/15000 [==============================] - 0s 26us/sample - loss: 0.0746 - accuracy: 0.9831 - val_loss: 0.3338 - val_accuracy: 0.8796\n",
      "Epoch 49/100\n",
      "15000/15000 [==============================] - 0s 27us/sample - loss: 0.0721 - accuracy: 0.9835 - val_loss: 0.3370 - val_accuracy: 0.8800\n",
      "Epoch 50/100\n",
      "15000/15000 [==============================] - 0s 26us/sample - loss: 0.0693 - accuracy: 0.9852 - val_loss: 0.3418 - val_accuracy: 0.8791\n",
      "Epoch 51/100\n",
      "15000/15000 [==============================] - 0s 28us/sample - loss: 0.0669 - accuracy: 0.9857 - val_loss: 0.3451 - val_accuracy: 0.8794\n",
      "Epoch 52/100\n",
      "15000/15000 [==============================] - 0s 26us/sample - loss: 0.0648 - accuracy: 0.9865 - val_loss: 0.3497 - val_accuracy: 0.8783\n",
      "Epoch 53/100\n",
      "15000/15000 [==============================] - 0s 27us/sample - loss: 0.0622 - accuracy: 0.9876 - val_loss: 0.3545 - val_accuracy: 0.8781\n",
      "Epoch 54/100\n",
      "15000/15000 [==============================] - 0s 27us/sample - loss: 0.0602 - accuracy: 0.9876 - val_loss: 0.3609 - val_accuracy: 0.8756\n",
      "Epoch 55/100\n",
      "15000/15000 [==============================] - 0s 26us/sample - loss: 0.0583 - accuracy: 0.9887 - val_loss: 0.3632 - val_accuracy: 0.8766\n",
      "Epoch 56/100\n",
      "15000/15000 [==============================] - 0s 26us/sample - loss: 0.0559 - accuracy: 0.9899 - val_loss: 0.3667 - val_accuracy: 0.8773\n",
      "Epoch 57/100\n",
      "15000/15000 [==============================] - 0s 26us/sample - loss: 0.0540 - accuracy: 0.9898 - val_loss: 0.3738 - val_accuracy: 0.8757\n",
      "Epoch 58/100\n",
      "15000/15000 [==============================] - 0s 26us/sample - loss: 0.0520 - accuracy: 0.9907 - val_loss: 0.3777 - val_accuracy: 0.8760\n",
      "Epoch 59/100\n",
      "15000/15000 [==============================] - 0s 26us/sample - loss: 0.0501 - accuracy: 0.9915 - val_loss: 0.3814 - val_accuracy: 0.8772\n",
      "Epoch 60/100\n",
      "15000/15000 [==============================] - 0s 26us/sample - loss: 0.0483 - accuracy: 0.9921 - val_loss: 0.3863 - val_accuracy: 0.8756\n",
      "Epoch 61/100\n",
      "15000/15000 [==============================] - 0s 26us/sample - loss: 0.0466 - accuracy: 0.9925 - val_loss: 0.3905 - val_accuracy: 0.8767\n",
      "Epoch 62/100\n",
      "15000/15000 [==============================] - 0s 26us/sample - loss: 0.0449 - accuracy: 0.9931 - val_loss: 0.3952 - val_accuracy: 0.8759\n",
      "Epoch 63/100\n",
      "15000/15000 [==============================] - 0s 26us/sample - loss: 0.0434 - accuracy: 0.9936 - val_loss: 0.3996 - val_accuracy: 0.8763\n",
      "Epoch 64/100\n",
      "15000/15000 [==============================] - 0s 26us/sample - loss: 0.0417 - accuracy: 0.9937 - val_loss: 0.4043 - val_accuracy: 0.8754\n",
      "Epoch 65/100\n",
      "15000/15000 [==============================] - 0s 25us/sample - loss: 0.0404 - accuracy: 0.9941 - val_loss: 0.4088 - val_accuracy: 0.8756\n",
      "Epoch 66/100\n",
      "15000/15000 [==============================] - 0s 26us/sample - loss: 0.0390 - accuracy: 0.9945 - val_loss: 0.4161 - val_accuracy: 0.8729\n",
      "Epoch 67/100\n",
      "15000/15000 [==============================] - 0s 27us/sample - loss: 0.0375 - accuracy: 0.9949 - val_loss: 0.4217 - val_accuracy: 0.8731\n",
      "Epoch 68/100\n",
      "15000/15000 [==============================] - 0s 28us/sample - loss: 0.0364 - accuracy: 0.9950 - val_loss: 0.4255 - val_accuracy: 0.8724\n",
      "Epoch 69/100\n",
      "15000/15000 [==============================] - 0s 27us/sample - loss: 0.0351 - accuracy: 0.9949 - val_loss: 0.4287 - val_accuracy: 0.8727\n",
      "Epoch 70/100\n",
      "15000/15000 [==============================] - 0s 27us/sample - loss: 0.0342 - accuracy: 0.9955 - val_loss: 0.4346 - val_accuracy: 0.8722\n",
      "Epoch 71/100\n",
      "15000/15000 [==============================] - 0s 28us/sample - loss: 0.0329 - accuracy: 0.9956 - val_loss: 0.4396 - val_accuracy: 0.8732\n",
      "Epoch 72/100\n",
      "15000/15000 [==============================] - 0s 28us/sample - loss: 0.0314 - accuracy: 0.9960 - val_loss: 0.4435 - val_accuracy: 0.8719\n",
      "Epoch 73/100\n",
      "15000/15000 [==============================] - 0s 27us/sample - loss: 0.0307 - accuracy: 0.9961 - val_loss: 0.4478 - val_accuracy: 0.8726\n",
      "Epoch 74/100\n",
      "15000/15000 [==============================] - 0s 26us/sample - loss: 0.0299 - accuracy: 0.9967 - val_loss: 0.4565 - val_accuracy: 0.8701\n",
      "Epoch 75/100\n",
      "15000/15000 [==============================] - 0s 27us/sample - loss: 0.0287 - accuracy: 0.9967 - val_loss: 0.4597 - val_accuracy: 0.8709\n",
      "Epoch 76/100\n",
      "15000/15000 [==============================] - 0s 27us/sample - loss: 0.0277 - accuracy: 0.9971 - val_loss: 0.4663 - val_accuracy: 0.8698\n",
      "Epoch 77/100\n",
      "15000/15000 [==============================] - 0s 26us/sample - loss: 0.0265 - accuracy: 0.9972 - val_loss: 0.4677 - val_accuracy: 0.8701\n",
      "Epoch 78/100\n",
      "15000/15000 [==============================] - 0s 26us/sample - loss: 0.0258 - accuracy: 0.9971 - val_loss: 0.4720 - val_accuracy: 0.8704\n",
      "Epoch 79/100\n",
      "15000/15000 [==============================] - 0s 26us/sample - loss: 0.0246 - accuracy: 0.9974 - val_loss: 0.4780 - val_accuracy: 0.8708\n",
      "Epoch 80/100\n",
      "15000/15000 [==============================] - 0s 26us/sample - loss: 0.0236 - accuracy: 0.9974 - val_loss: 0.4856 - val_accuracy: 0.8683\n",
      "Epoch 81/100\n",
      "15000/15000 [==============================] - 0s 27us/sample - loss: 0.0225 - accuracy: 0.9978 - val_loss: 0.4897 - val_accuracy: 0.8680\n",
      "Epoch 82/100\n",
      "15000/15000 [==============================] - 0s 28us/sample - loss: 0.0216 - accuracy: 0.9978 - val_loss: 0.4932 - val_accuracy: 0.8689\n",
      "Epoch 83/100\n",
      "15000/15000 [==============================] - 0s 26us/sample - loss: 0.0209 - accuracy: 0.9979 - val_loss: 0.5014 - val_accuracy: 0.8674\n",
      "Epoch 84/100\n",
      "15000/15000 [==============================] - 0s 26us/sample - loss: 0.0201 - accuracy: 0.9978 - val_loss: 0.5057 - val_accuracy: 0.8684\n",
      "Epoch 85/100\n",
      "15000/15000 [==============================] - 0s 25us/sample - loss: 0.0192 - accuracy: 0.9983 - val_loss: 0.5086 - val_accuracy: 0.8676\n",
      "Epoch 86/100\n",
      "15000/15000 [==============================] - 0s 28us/sample - loss: 0.0185 - accuracy: 0.9983 - val_loss: 0.5156 - val_accuracy: 0.8666\n",
      "Epoch 87/100\n",
      "15000/15000 [==============================] - 0s 30us/sample - loss: 0.0177 - accuracy: 0.9985 - val_loss: 0.5198 - val_accuracy: 0.8659\n",
      "Epoch 88/100\n",
      "15000/15000 [==============================] - 0s 28us/sample - loss: 0.0170 - accuracy: 0.9987 - val_loss: 0.5261 - val_accuracy: 0.8654\n",
      "Epoch 89/100\n",
      "15000/15000 [==============================] - 0s 29us/sample - loss: 0.0163 - accuracy: 0.9988 - val_loss: 0.5315 - val_accuracy: 0.8659\n",
      "Epoch 90/100\n",
      "15000/15000 [==============================] - 0s 26us/sample - loss: 0.0157 - accuracy: 0.9988 - val_loss: 0.5382 - val_accuracy: 0.8674\n",
      "Epoch 91/100\n",
      "15000/15000 [==============================] - 0s 27us/sample - loss: 0.0151 - accuracy: 0.9989 - val_loss: 0.5445 - val_accuracy: 0.8643\n",
      "Epoch 92/100\n",
      "15000/15000 [==============================] - 0s 26us/sample - loss: 0.0145 - accuracy: 0.9989 - val_loss: 0.5446 - val_accuracy: 0.8661\n",
      "Epoch 93/100\n",
      "15000/15000 [==============================] - 0s 29us/sample - loss: 0.0139 - accuracy: 0.9990 - val_loss: 0.5518 - val_accuracy: 0.8655\n",
      "Epoch 94/100\n",
      "15000/15000 [==============================] - 0s 29us/sample - loss: 0.0133 - accuracy: 0.9991 - val_loss: 0.5569 - val_accuracy: 0.8648\n",
      "Epoch 95/100\n",
      "15000/15000 [==============================] - 0s 29us/sample - loss: 0.0127 - accuracy: 0.9991 - val_loss: 0.5644 - val_accuracy: 0.8639\n",
      "Epoch 96/100\n",
      "15000/15000 [==============================] - 0s 27us/sample - loss: 0.0124 - accuracy: 0.9991 - val_loss: 0.5658 - val_accuracy: 0.8649\n",
      "Epoch 97/100\n",
      "15000/15000 [==============================] - 0s 28us/sample - loss: 0.0117 - accuracy: 0.9992 - val_loss: 0.5726 - val_accuracy: 0.8640\n",
      "Epoch 98/100\n",
      "15000/15000 [==============================] - 0s 27us/sample - loss: 0.0114 - accuracy: 0.9993 - val_loss: 0.5761 - val_accuracy: 0.8639\n",
      "Epoch 99/100\n",
      "15000/15000 [==============================] - 0s 27us/sample - loss: 0.0110 - accuracy: 0.9995 - val_loss: 0.5825 - val_accuracy: 0.8636\n",
      "Epoch 100/100\n",
      "15000/15000 [==============================] - 0s 28us/sample - loss: 0.0106 - accuracy: 0.9994 - val_loss: 0.5849 - val_accuracy: 0.8641\n"
     ]
    }
   ],
   "source": [
    "history = model.fit(partial_x_train,\n",
    "                    partial_y_train,\n",
    "                    epochs=100,\n",
    "                    batch_size=512,\n",
    "                    validation_data=(x_val, y_val),\n",
    "                    verbose=1)"
   ]
  },
  {
   "cell_type": "code",
   "execution_count": 31,
   "metadata": {},
   "outputs": [
    {
     "name": "stdout",
     "output_type": "stream",
     "text": [
      "25000/25000 [==============================] - 1s 23us/sample - loss: 0.6229 - accuracy: 0.8516\n",
      "[0.6229429714703559, 0.8516]\n"
     ]
    }
   ],
   "source": [
    "results = model.evaluate(test_data, test_labels)\n",
    "\n",
    "print(results)"
   ]
  },
  {
   "cell_type": "code",
   "execution_count": 32,
   "metadata": {},
   "outputs": [
    {
     "data": {
      "text/plain": [
       "dict_keys(['loss', 'accuracy', 'val_loss', 'val_accuracy'])"
      ]
     },
     "execution_count": 32,
     "metadata": {},
     "output_type": "execute_result"
    }
   ],
   "source": [
    "history_dict = history.history\n",
    "history_dict.keys()"
   ]
  },
  {
   "cell_type": "code",
   "execution_count": 45,
   "metadata": {},
   "outputs": [
    {
     "data": {
      "application/javascript": [
       "\n",
       "// Ugly hack - see HoloViews #2574 for more information\n",
       "if (!(document.getElementById('1007')) && !(document.getElementById('_anim_imgNone'))) {\n",
       "  console.log(\"Creating DOM nodes dynamically for assumed nbconvert export. To generate clean HTML output set HV_DOC_HTML as an environment variable.\")\n",
       "  var htmlObject = document.createElement('div');\n",
       "  htmlObject.innerHTML = `<div id='1007' style='display: table; margin: 0 auto;'>\n",
       "\n",
       "\n",
       "\n",
       "\n",
       "\n",
       "  <div class=\"bk-root\" id=\"aa1d79d4-5c8f-4c22-8ea1-9476fea93168\" data-root-id=\"1007\"></div>\n",
       "</div>`;\n",
       "  var scriptTags = document.getElementsByTagName('script');\n",
       "  var parentTag = scriptTags[scriptTags.length-1].parentNode;\n",
       "  if (parentTag.attributes.length && (parentTag.attributes[0].name == 'data-shell-mode')) {\n",
       "    alert('Displaying PyViz objects in JupyterLab requires the jupyterlab_pyviz extension to be installed, install it with:\\n\\n\\tjupyter labextension install @pyviz/jupyterlab_pyviz');\n",
       "  } else {\n",
       "    parentTag.append(htmlObject)\n",
       "  }\n",
       "}\n",
       "(function(root) {\n",
       "  function embed_document(root) {\n",
       "    \n",
       "  var docs_json = {\"baaa49b0-25b0-4a0f-8084-5201af601429\":{\"roots\":{\"references\":[{\"attributes\":{\"below\":[{\"id\":\"1016\",\"type\":\"LinearAxis\"}],\"center\":[{\"id\":\"1020\",\"type\":\"Grid\"},{\"id\":\"1025\",\"type\":\"Grid\"},{\"id\":\"1056\",\"type\":\"Legend\"}],\"left\":[{\"id\":\"1021\",\"type\":\"LinearAxis\"}],\"margin\":null,\"min_border_bottom\":10,\"min_border_left\":10,\"min_border_right\":10,\"min_border_top\":10,\"plot_height\":300,\"plot_width\":700,\"renderers\":[{\"id\":\"1048\",\"type\":\"GlyphRenderer\"},{\"id\":\"1064\",\"type\":\"GlyphRenderer\"},{\"id\":\"1081\",\"type\":\"GlyphRenderer\"},{\"id\":\"1100\",\"type\":\"GlyphRenderer\"}],\"right\":[{\"id\":\"1056\",\"type\":\"Legend\"}],\"sizing_mode\":\"fixed\",\"title\":{\"id\":\"1008\",\"type\":\"Title\"},\"toolbar\":{\"id\":\"1031\",\"type\":\"Toolbar\"},\"x_range\":{\"id\":\"1001\",\"type\":\"Range1d\"},\"x_scale\":{\"id\":\"1012\",\"type\":\"LinearScale\"},\"y_range\":{\"id\":\"1002\",\"type\":\"Range1d\"},\"y_scale\":{\"id\":\"1014\",\"type\":\"LinearScale\"}},\"id\":\"1007\",\"subtype\":\"Figure\",\"type\":\"Plot\"},{\"attributes\":{\"data_source\":{\"id\":\"1094\",\"type\":\"ColumnDataSource\"},\"glyph\":{\"id\":\"1097\",\"type\":\"Line\"},\"hover_glyph\":null,\"muted_glyph\":{\"id\":\"1099\",\"type\":\"Line\"},\"nonselection_glyph\":{\"id\":\"1098\",\"type\":\"Line\"},\"selection_glyph\":null,\"view\":{\"id\":\"1101\",\"type\":\"CDSView\"}},\"id\":\"1100\",\"type\":\"GlyphRenderer\"},{\"attributes\":{\"label\":{\"value\":\"accuracy\"},\"renderers\":[{\"id\":\"1064\",\"type\":\"GlyphRenderer\"}]},\"id\":\"1074\",\"type\":\"LegendItem\"},{\"attributes\":{\"axis_label\":\"\",\"bounds\":\"auto\",\"formatter\":{\"id\":\"1041\",\"type\":\"BasicTickFormatter\"},\"major_label_orientation\":\"horizontal\",\"ticker\":{\"id\":\"1022\",\"type\":\"BasicTicker\"}},\"id\":\"1021\",\"type\":\"LinearAxis\"},{\"attributes\":{},\"id\":\"1076\",\"type\":\"Selection\"},{\"attributes\":{\"line_alpha\":0.1,\"line_color\":\"#1f77b4\",\"line_width\":2,\"x\":{\"field\":\"index\"},\"y\":{\"field\":\"value\"}},\"id\":\"1046\",\"type\":\"Line\"},{\"attributes\":{\"label\":{\"value\":\"loss\"},\"renderers\":[{\"id\":\"1048\",\"type\":\"GlyphRenderer\"}]},\"id\":\"1057\",\"type\":\"LegendItem\"},{\"attributes\":{\"line_color\":\"#2ca02c\",\"line_width\":2,\"x\":{\"field\":\"index\"},\"y\":{\"field\":\"value\"}},\"id\":\"1078\",\"type\":\"Line\"},{\"attributes\":{\"source\":{\"id\":\"1075\",\"type\":\"ColumnDataSource\"}},\"id\":\"1082\",\"type\":\"CDSView\"},{\"attributes\":{},\"id\":\"1027\",\"type\":\"PanTool\"},{\"attributes\":{\"line_alpha\":0.2,\"line_color\":\"#d62728\",\"line_width\":2,\"x\":{\"field\":\"index\"},\"y\":{\"field\":\"value\"}},\"id\":\"1099\",\"type\":\"Line\"},{\"attributes\":{},\"id\":\"1059\",\"type\":\"Selection\"},{\"attributes\":{\"callback\":null,\"data\":{\"Variable\":[\"accuracy\",\"accuracy\",\"accuracy\",\"accuracy\",\"accuracy\",\"accuracy\",\"accuracy\",\"accuracy\",\"accuracy\",\"accuracy\",\"accuracy\",\"accuracy\",\"accuracy\",\"accuracy\",\"accuracy\",\"accuracy\",\"accuracy\",\"accuracy\",\"accuracy\",\"accuracy\",\"accuracy\",\"accuracy\",\"accuracy\",\"accuracy\",\"accuracy\",\"accuracy\",\"accuracy\",\"accuracy\",\"accuracy\",\"accuracy\",\"accuracy\",\"accuracy\",\"accuracy\",\"accuracy\",\"accuracy\",\"accuracy\",\"accuracy\",\"accuracy\",\"accuracy\",\"accuracy\",\"accuracy\",\"accuracy\",\"accuracy\",\"accuracy\",\"accuracy\",\"accuracy\",\"accuracy\",\"accuracy\",\"accuracy\",\"accuracy\",\"accuracy\",\"accuracy\",\"accuracy\",\"accuracy\",\"accuracy\",\"accuracy\",\"accuracy\",\"accuracy\",\"accuracy\",\"accuracy\",\"accuracy\",\"accuracy\",\"accuracy\",\"accuracy\",\"accuracy\",\"accuracy\",\"accuracy\",\"accuracy\",\"accuracy\",\"accuracy\",\"accuracy\",\"accuracy\",\"accuracy\",\"accuracy\",\"accuracy\",\"accuracy\",\"accuracy\",\"accuracy\",\"accuracy\",\"accuracy\",\"accuracy\",\"accuracy\",\"accuracy\",\"accuracy\",\"accuracy\",\"accuracy\",\"accuracy\",\"accuracy\",\"accuracy\",\"accuracy\",\"accuracy\",\"accuracy\",\"accuracy\",\"accuracy\",\"accuracy\",\"accuracy\",\"accuracy\",\"accuracy\",\"accuracy\",\"accuracy\"],\"index\":[0,1,2,3,4,5,6,7,8,9,10,11,12,13,14,15,16,17,18,19,20,21,22,23,24,25,26,27,28,29,30,31,32,33,34,35,36,37,38,39,40,41,42,43,44,45,46,47,48,49,50,51,52,53,54,55,56,57,58,59,60,61,62,63,64,65,66,67,68,69,70,71,72,73,74,75,76,77,78,79,80,81,82,83,84,85,86,87,88,89,90,91,92,93,94,95,96,97,98,99],\"value\":{\"__ndarray__\":\"AAAAAKfD4T8AAAAgiBnnPwAAAMB/SOc/AAAAAH9q6D8AAADA8/3oPwAAAIC7cek/AAAAgAoh6j8AAAAAhcbqPwAAAKCRN+s/AAAAwMme6z8AAACAXgTsPwAAAIC2Pew/AAAAAG+B7D8AAABAfrHsPwAAAECj3Ow/AAAAQFIC7T8AAACgoiPtPwAAAOB+Re0/AAAAINFs7T8AAACgH4jtPwAAAEAppu0/AAAAoL7E7T8AAAAAVOPtPwAAAEAu/+0/AAAA4PIf7j8AAAAAWTzuPwAAAABLWe4/AAAAIPRs7j8AAADAQILuPwAAAKC6k+4/AAAAANim7j8AAAAAULLuPwAAAODLye4/AAAAoIze7j8AAAAgpuXuPwAAAECU9u4/AAAAIJgC7z8AAADAJw/vPwAAACCIGe8/AAAA4NAi7z8AAAAgeDDvPwAAAIDYOu8/AAAA4PVN7z8AAADA91PvPwAAAEBYXu8/AAAAYIlm7z8AAADALm7vPwAAAEBIde8/AAAAII947z8AAAAgwobvPwAAAOCUiu8/AAAAgCKR7z8AAABga5rvPwAAAGBrmu8/AAAAILSj7z8AAACgiK3vPwAAAABxrO8/AAAAYBa07z8AAAAgpLrvPwAAAKACv+8/AAAAQNXC7z8AAACAv8fvPwAAAECSy+8/AAAA4KnM7z8AAADA8M/vPwAAAMCr0u8/AAAAoPLV7z8AAABACtfvPwAAAGB+1u8/AAAA4Nza7z8AAACA9NvvPwAAAGA73+8/AAAAQMff7z8AAACAseTvPwAAAEA95e8/AAAAIITo7z8AAAAAEOnvPwAAAGD45+8/AAAAYLPq7z8AAABgs+rvPwAAAED67e8/AAAAQPrt7z8AAAAghu7vPwAAAED67e8/AAAA4Mzx7z8AAADgzPHvPwAAAGBw8+8/AAAAoJ/17z8AAABgK/bvPwAAAGAr9u8/AAAAQLf27z8AAABAt/bvPwAAAODO9+8/AAAAoFr47z8AAACA5vjvPwAAAKBa+O8/AAAAQHL57z8AAADgifrvPwAAAICh++8/AAAAwBX77z8=\",\"dtype\":\"float64\",\"shape\":[100]}},\"selected\":{\"id\":\"1059\",\"type\":\"Selection\"},\"selection_policy\":{\"id\":\"1090\",\"type\":\"UnionRenderers\"}},\"id\":\"1058\",\"type\":\"ColumnDataSource\"},{\"attributes\":{},\"id\":\"1071\",\"type\":\"UnionRenderers\"},{\"attributes\":{\"text\":\"\",\"text_color\":{\"value\":\"black\"},\"text_font_size\":{\"value\":\"12pt\"}},\"id\":\"1008\",\"type\":\"Title\"},{\"attributes\":{},\"id\":\"1012\",\"type\":\"LinearScale\"},{\"attributes\":{\"callback\":null,\"end\":0.9994666576385498,\"reset_end\":0.9994666576385498,\"reset_start\":0.010596771970391274,\"start\":0.010596771970391274,\"tags\":[[[\"value\",\"value\",null]]]},\"id\":\"1002\",\"type\":\"Range1d\"},{\"attributes\":{\"line_color\":\"#d62728\",\"line_width\":2,\"x\":{\"field\":\"index\"},\"y\":{\"field\":\"value\"}},\"id\":\"1097\",\"type\":\"Line\"},{\"attributes\":{\"overlay\":{\"id\":\"1055\",\"type\":\"BoxAnnotation\"}},\"id\":\"1029\",\"type\":\"BoxZoomTool\"},{\"attributes\":{},\"id\":\"1111\",\"type\":\"UnionRenderers\"},{\"attributes\":{},\"id\":\"1017\",\"type\":\"BasicTicker\"},{\"attributes\":{\"line_color\":\"#ff7f0e\",\"line_width\":2,\"x\":{\"field\":\"index\"},\"y\":{\"field\":\"value\"}},\"id\":\"1061\",\"type\":\"Line\"},{\"attributes\":{\"grid_line_color\":{\"value\":null},\"ticker\":{\"id\":\"1017\",\"type\":\"BasicTicker\"}},\"id\":\"1020\",\"type\":\"Grid\"},{\"attributes\":{\"data_source\":{\"id\":\"1042\",\"type\":\"ColumnDataSource\"},\"glyph\":{\"id\":\"1045\",\"type\":\"Line\"},\"hover_glyph\":null,\"muted_glyph\":{\"id\":\"1047\",\"type\":\"Line\"},\"nonselection_glyph\":{\"id\":\"1046\",\"type\":\"Line\"},\"selection_glyph\":null,\"view\":{\"id\":\"1049\",\"type\":\"CDSView\"}},\"id\":\"1048\",\"type\":\"GlyphRenderer\"},{\"attributes\":{},\"id\":\"1041\",\"type\":\"BasicTickFormatter\"},{\"attributes\":{\"line_alpha\":0.2,\"line_color\":\"#ff7f0e\",\"line_width\":2,\"x\":{\"field\":\"index\"},\"y\":{\"field\":\"value\"}},\"id\":\"1063\",\"type\":\"Line\"},{\"attributes\":{\"data_source\":{\"id\":\"1058\",\"type\":\"ColumnDataSource\"},\"glyph\":{\"id\":\"1061\",\"type\":\"Line\"},\"hover_glyph\":null,\"muted_glyph\":{\"id\":\"1063\",\"type\":\"Line\"},\"nonselection_glyph\":{\"id\":\"1062\",\"type\":\"Line\"},\"selection_glyph\":null,\"view\":{\"id\":\"1065\",\"type\":\"CDSView\"}},\"id\":\"1064\",\"type\":\"GlyphRenderer\"},{\"attributes\":{},\"id\":\"1026\",\"type\":\"SaveTool\"},{\"attributes\":{\"source\":{\"id\":\"1094\",\"type\":\"ColumnDataSource\"}},\"id\":\"1101\",\"type\":\"CDSView\"},{\"attributes\":{\"callback\":null,\"data\":{\"Variable\":[\"val_loss\",\"val_loss\",\"val_loss\",\"val_loss\",\"val_loss\",\"val_loss\",\"val_loss\",\"val_loss\",\"val_loss\",\"val_loss\",\"val_loss\",\"val_loss\",\"val_loss\",\"val_loss\",\"val_loss\",\"val_loss\",\"val_loss\",\"val_loss\",\"val_loss\",\"val_loss\",\"val_loss\",\"val_loss\",\"val_loss\",\"val_loss\",\"val_loss\",\"val_loss\",\"val_loss\",\"val_loss\",\"val_loss\",\"val_loss\",\"val_loss\",\"val_loss\",\"val_loss\",\"val_loss\",\"val_loss\",\"val_loss\",\"val_loss\",\"val_loss\",\"val_loss\",\"val_loss\",\"val_loss\",\"val_loss\",\"val_loss\",\"val_loss\",\"val_loss\",\"val_loss\",\"val_loss\",\"val_loss\",\"val_loss\",\"val_loss\",\"val_loss\",\"val_loss\",\"val_loss\",\"val_loss\",\"val_loss\",\"val_loss\",\"val_loss\",\"val_loss\",\"val_loss\",\"val_loss\",\"val_loss\",\"val_loss\",\"val_loss\",\"val_loss\",\"val_loss\",\"val_loss\",\"val_loss\",\"val_loss\",\"val_loss\",\"val_loss\",\"val_loss\",\"val_loss\",\"val_loss\",\"val_loss\",\"val_loss\",\"val_loss\",\"val_loss\",\"val_loss\",\"val_loss\",\"val_loss\",\"val_loss\",\"val_loss\",\"val_loss\",\"val_loss\",\"val_loss\",\"val_loss\",\"val_loss\",\"val_loss\",\"val_loss\",\"val_loss\",\"val_loss\",\"val_loss\",\"val_loss\",\"val_loss\",\"val_loss\",\"val_loss\",\"val_loss\",\"val_loss\",\"val_loss\",\"val_loss\"],\"index\":[0,1,2,3,4,5,6,7,8,9,10,11,12,13,14,15,16,17,18,19,20,21,22,23,24,25,26,27,28,29,30,31,32,33,34,35,36,37,38,39,40,41,42,43,44,45,46,47,48,49,50,51,52,53,54,55,56,57,58,59,60,61,62,63,64,65,66,67,68,69,70,71,72,73,74,75,76,77,78,79,80,81,82,83,84,85,86,87,88,89,90,91,92,93,94,95,96,97,98,99],\"value\":{\"__ndarray__\":\"iIVasz8c5j82PL2yZO/lP9ejcL1IleU/8tJNYuf35D+8BRL0gQjkP15LyKdP1OI/2IFzRtd64T8pXI+iYx3gP0Ck3z6nr90/bVZ9jvF12z/OGVEa9qHZP+VhoXbwNtg/C7Wm2VAN1z8Jih/D3xLWP1RSJyCYS9U/4XoUDqm61D/FjzGXAirUPyv2lz2BvdM/LSEfxN1i0z/ZPXn4vhfTPwyTqaKi29I/v30duIm00j/LEMc6hZLSP6MjuVxFcNI/mEwVTPJw0j8Q6bdPS1fSP1vTvMOlRdI/swxxrIxN0j+8dJM4QUrSP+58P7VGVdI/mbuWEN9s0j/D0yuFGXjSP36MuevymNI/F0hQnIev0j/D9Sg8OMjSP8E5Iyqc69I/F0hQDFIR0z88TtHxoULTPyo6kkv8a9M/63O11TmT0z+30QDeq8LTP/yp8VIR+tM/ZapgtGRG1D9d/kNKvWDUPysYlZRmmNQ/hlrTXJ3h1D92Tx52TBvVP7FQa1qlXNU/0ETYcLyR1T/zjlPUHuDVP2ZmZiaWFdY/mG4SA21h1j83iUGA1q/WP9JvX6fPGNc/qz5XW2k/1z8KaCKsZ3jXP+kmMUiO7Nc/RwN4y3Ar2D8wuyePJWjYP5huEkOEuNg/MLsnj6j92D+KH2OOkkvZP6s+VxsKk9k/Gy/dpIHf2T/8qfEyninaP/LSTSJaodo/845T9D/92j9X7C+71zrbPxKlvaHSb9s/S+oENATQ2z9JnYCmaSLcPz/G3JWHYtw/yAc92xyo3D9/2T1ZfjbdP4y5a0lYbN0/Qs9mlYvY3T+utmJ/Mu/dP73jFB1vNd4/ZRniGMCX3j+4rwNHuxTfP9bFbVTVV98/uY0G0GSR3z8HzhnhMgvgPzSitNfxLuA/1CtlqYRG4D/ecYoO63/gP4j029f8oeA/2V92z9LV4D8oDwv1VALhPzsBTQT+OOE/0ZFc7mxs4T/wFkgwGm3hP3zysAAcqOE/bxKDQPnR4T9YqDVNZQ/iP636XA1wG+I/seHpFXpS4j9Q/BhTu2/iP00VjMqRo+I/tMh23pi34j8=\",\"dtype\":\"float64\",\"shape\":[100]}},\"selected\":{\"id\":\"1076\",\"type\":\"Selection\"},\"selection_policy\":{\"id\":\"1111\",\"type\":\"UnionRenderers\"}},\"id\":\"1075\",\"type\":\"ColumnDataSource\"},{\"attributes\":{},\"id\":\"1028\",\"type\":\"WheelZoomTool\"},{\"attributes\":{\"line_alpha\":0.1,\"line_color\":\"#ff7f0e\",\"line_width\":2,\"x\":{\"field\":\"index\"},\"y\":{\"field\":\"value\"}},\"id\":\"1062\",\"type\":\"Line\"},{\"attributes\":{\"axis_label\":\"\",\"bounds\":\"auto\",\"formatter\":{\"id\":\"1039\",\"type\":\"BasicTickFormatter\"},\"major_label_orientation\":\"horizontal\",\"ticker\":{\"id\":\"1017\",\"type\":\"BasicTicker\"}},\"id\":\"1016\",\"type\":\"LinearAxis\"},{\"attributes\":{\"callback\":null,\"data\":{\"Variable\":[\"val_accuracy\",\"val_accuracy\",\"val_accuracy\",\"val_accuracy\",\"val_accuracy\",\"val_accuracy\",\"val_accuracy\",\"val_accuracy\",\"val_accuracy\",\"val_accuracy\",\"val_accuracy\",\"val_accuracy\",\"val_accuracy\",\"val_accuracy\",\"val_accuracy\",\"val_accuracy\",\"val_accuracy\",\"val_accuracy\",\"val_accuracy\",\"val_accuracy\",\"val_accuracy\",\"val_accuracy\",\"val_accuracy\",\"val_accuracy\",\"val_accuracy\",\"val_accuracy\",\"val_accuracy\",\"val_accuracy\",\"val_accuracy\",\"val_accuracy\",\"val_accuracy\",\"val_accuracy\",\"val_accuracy\",\"val_accuracy\",\"val_accuracy\",\"val_accuracy\",\"val_accuracy\",\"val_accuracy\",\"val_accuracy\",\"val_accuracy\",\"val_accuracy\",\"val_accuracy\",\"val_accuracy\",\"val_accuracy\",\"val_accuracy\",\"val_accuracy\",\"val_accuracy\",\"val_accuracy\",\"val_accuracy\",\"val_accuracy\",\"val_accuracy\",\"val_accuracy\",\"val_accuracy\",\"val_accuracy\",\"val_accuracy\",\"val_accuracy\",\"val_accuracy\",\"val_accuracy\",\"val_accuracy\",\"val_accuracy\",\"val_accuracy\",\"val_accuracy\",\"val_accuracy\",\"val_accuracy\",\"val_accuracy\",\"val_accuracy\",\"val_accuracy\",\"val_accuracy\",\"val_accuracy\",\"val_accuracy\",\"val_accuracy\",\"val_accuracy\",\"val_accuracy\",\"val_accuracy\",\"val_accuracy\",\"val_accuracy\",\"val_accuracy\",\"val_accuracy\",\"val_accuracy\",\"val_accuracy\",\"val_accuracy\",\"val_accuracy\",\"val_accuracy\",\"val_accuracy\",\"val_accuracy\",\"val_accuracy\",\"val_accuracy\",\"val_accuracy\",\"val_accuracy\",\"val_accuracy\",\"val_accuracy\",\"val_accuracy\",\"val_accuracy\",\"val_accuracy\",\"val_accuracy\",\"val_accuracy\",\"val_accuracy\",\"val_accuracy\",\"val_accuracy\",\"val_accuracy\"],\"index\":[0,1,2,3,4,5,6,7,8,9,10,11,12,13,14,15,16,17,18,19,20,21,22,23,24,25,26,27,28,29,30,31,32,33,34,35,36,37,38,39,40,41,42,43,44,45,46,47,48,49,50,51,52,53,54,55,56,57,58,59,60,61,62,63,64,65,66,67,68,69,70,71,72,73,74,75,76,77,78,79,80,81,82,83,84,85,86,87,88,89,90,91,92,93,94,95,96,97,98,99],\"value\":{\"__ndarray__\":\"AAAAIFyP5D8AAABgBaPmPwAAAGAnoOc/AAAAoBgE6D8AAACAL0zoPwAAAKAD5+g/AAAA4BLy6T8AAABAeVjqPwAAAEC0yOo/AAAAoCoY6z8AAAAgJlPrPwAAAOBfdus/AAAAwIan6z8AAABgw9PrPwAAAGA73+s/AAAAIEHx6z8AAABAYhDsPwAAACDdJOw/AAAAYFIn7D8AAADAKTrsPwAAAMApOuw/AAAAoCxD7D8AAABg/kPsPwAAAEABTew/AAAAwF1L7D8AAAAAF0jsPwAAAEC9Uuw/AAAAwBlR7D8AAABgMlXsPwAAAEA1Xuw/AAAAgOtR7D8AAAAAB1/sPwAAAOCRXOw/AAAAoBxa7D8AAABAeVjsPwAAAEA1Xuw/AAAAYHZP7D8AAABguknsPwAAAKDoSOw/AAAAgHNG7D8AAABgQj7sPwAAAIC3QOw/AAAAwLEu7D8AAADAKTrsPwAAAGDKMuw/AAAAgMcp7D8AAADgaivsPwAAAOCuJew/AAAAwPUo7D8AAABgliHsPwAAAIALJOw/AAAAoAgb7D8AAAAgZRnsPwAAAEDqBOw/AAAAgBsN7D8AAACA1xLsPwAAAAC8Bew/AAAAIDEI7D8AAADABRLsPwAAAEDqBOw/AAAAIO0N7D8AAABgXwfsPwAAAECmCuw/AAAA4EYD7D8AAABA6gTsPwAAAADM7us/AAAAYG/w6z8AAABgs+rrPwAAAIAo7es/AAAAABDp6z8AAAAgQfHrPwAAAOCa5us/AAAA4Fbs6z8AAAAA3NfrPwAAAKBp3us/AAAAwGbV6z8AAAAA3NfrPwAAACBR2us/AAAAAJjd6z8AAAAgHcnrPwAAAOCnxus/AAAAYAfO6z8AAACgvcHrPwAAAMDuyes/AAAAIGHD6z8AAADgL7vrPwAAAOBztes/AAAAYFux6z8AAADgc7XrPwAAAKC9wes/AAAAgFio6z8AAABgF7frPwAAAAAtsus/AAAAAHGs6z8AAACgEaXrPwAAAMBCres/AAAAYOOl6z8AAACgEaXrPwAAAICcous/AAAAALWm6z8=\",\"dtype\":\"float64\",\"shape\":[100]}},\"selected\":{\"id\":\"1095\",\"type\":\"Selection\"},\"selection_policy\":{\"id\":\"1126\",\"type\":\"UnionRenderers\"}},\"id\":\"1094\",\"type\":\"ColumnDataSource\"},{\"attributes\":{\"source\":{\"id\":\"1058\",\"type\":\"ColumnDataSource\"}},\"id\":\"1065\",\"type\":\"CDSView\"},{\"attributes\":{},\"id\":\"1022\",\"type\":\"BasicTicker\"},{\"attributes\":{\"bottom_units\":\"screen\",\"fill_alpha\":{\"value\":0.5},\"fill_color\":{\"value\":\"lightgrey\"},\"left_units\":\"screen\",\"level\":\"overlay\",\"line_alpha\":{\"value\":1.0},\"line_color\":{\"value\":\"black\"},\"line_dash\":[4,4],\"line_width\":{\"value\":2},\"render_mode\":\"css\",\"right_units\":\"screen\",\"top_units\":\"screen\"},\"id\":\"1055\",\"type\":\"BoxAnnotation\"},{\"attributes\":{\"line_alpha\":0.1,\"line_color\":\"#d62728\",\"line_width\":2,\"x\":{\"field\":\"index\"},\"y\":{\"field\":\"value\"}},\"id\":\"1098\",\"type\":\"Line\"},{\"attributes\":{},\"id\":\"1090\",\"type\":\"UnionRenderers\"},{\"attributes\":{\"line_color\":\"#1f77b4\",\"line_width\":2,\"x\":{\"field\":\"index\"},\"y\":{\"field\":\"value\"}},\"id\":\"1045\",\"type\":\"Line\"},{\"attributes\":{},\"id\":\"1043\",\"type\":\"Selection\"},{\"attributes\":{\"label\":{\"value\":\"val_loss\"},\"renderers\":[{\"id\":\"1081\",\"type\":\"GlyphRenderer\"}]},\"id\":\"1093\",\"type\":\"LegendItem\"},{\"attributes\":{\"dimension\":1,\"grid_line_color\":{\"value\":null},\"ticker\":{\"id\":\"1022\",\"type\":\"BasicTicker\"}},\"id\":\"1025\",\"type\":\"Grid\"},{\"attributes\":{\"line_alpha\":0.2,\"line_color\":\"#2ca02c\",\"line_width\":2,\"x\":{\"field\":\"index\"},\"y\":{\"field\":\"value\"}},\"id\":\"1080\",\"type\":\"Line\"},{\"attributes\":{\"callback\":null,\"data\":{\"Variable\":[\"loss\",\"loss\",\"loss\",\"loss\",\"loss\",\"loss\",\"loss\",\"loss\",\"loss\",\"loss\",\"loss\",\"loss\",\"loss\",\"loss\",\"loss\",\"loss\",\"loss\",\"loss\",\"loss\",\"loss\",\"loss\",\"loss\",\"loss\",\"loss\",\"loss\",\"loss\",\"loss\",\"loss\",\"loss\",\"loss\",\"loss\",\"loss\",\"loss\",\"loss\",\"loss\",\"loss\",\"loss\",\"loss\",\"loss\",\"loss\",\"loss\",\"loss\",\"loss\",\"loss\",\"loss\",\"loss\",\"loss\",\"loss\",\"loss\",\"loss\",\"loss\",\"loss\",\"loss\",\"loss\",\"loss\",\"loss\",\"loss\",\"loss\",\"loss\",\"loss\",\"loss\",\"loss\",\"loss\",\"loss\",\"loss\",\"loss\",\"loss\",\"loss\",\"loss\",\"loss\",\"loss\",\"loss\",\"loss\",\"loss\",\"loss\",\"loss\",\"loss\",\"loss\",\"loss\",\"loss\",\"loss\",\"loss\",\"loss\",\"loss\",\"loss\",\"loss\",\"loss\",\"loss\",\"loss\",\"loss\",\"loss\",\"loss\",\"loss\",\"loss\",\"loss\",\"loss\",\"loss\",\"loss\",\"loss\",\"loss\"],\"index\":[0,1,2,3,4,5,6,7,8,9,10,11,12,13,14,15,16,17,18,19,20,21,22,23,24,25,26,27,28,29,30,31,32,33,34,35,36,37,38,39,40,41,42,43,44,45,46,47,48,49,50,51,52,53,54,55,56,57,58,59,60,61,62,63,64,65,66,67,68,69,70,71,72,73,74,75,76,77,78,79,80,81,82,83,84,85,86,87,88,89,90,91,92,93,94,95,96,97,98,99],\"value\":{\"__ndarray__\":\"V6LZwjUn5j8z6dxa8gbmP+f7qfHnweU/gLdAgv8+5T/Umua9T2nkP7ivA4cNPuM/t2J/mdrS4T93mXQumk3gP07Rkdzhpd0/oYzeNoXy2j9a0I6OT5/YP588LJSpr9Y/739tioMF1T+qFv65Hp/TPwGUrHCwa9I/6t8IRYRd0T9CGb2d3XnQPyv2l501OM8/J6CJcIWpzT9QIUQ/YFTMPxm9Lat2Bss/aP1ALMXKyT/qKV89prLIP4GVQyv6ssc/5F5zgcOfxj+VZYgjjcjFP5hMFYwp1cQ/KoToQ7YExD/xY8wdW0TDPy3XyBsOfsI/8Dtz/LPPwT/smw5XxjDBP+IOwZ4feMA/XCBBsU/Bvz9Sk/N4MpK+P9BE2LCBcb0/NKK09692vD/rLI0yKV+7PzkgHKYcaro/EMSM4wZ9uT94eqWsA4a4P2sr9hcE2bc/5BQdScPMtj8PwV5OU/i1PwLhMP49MbU/ZDvfD019tD/hML4VRLqzP2lv8CVjGbM/oD9aCcxysj9gLPlViruxPw27AsRYH7E/mAK/83qYsD9VMCqpl9yvPzqSyz+l1q4/Hz7DDgXTrT/euLIxypusP3uDLyxbn6s/UbXwrz2iqj8EDLiUfaSpP6Xi7EPluag/u0w695LZpz+oEKIvoACnPyrOPjzaNaY/7AqQS3dcpT+tad7x76ikP1ioNZ3p9qM/aijI4po0oz9h6P7nM52iP6S6kwIw+aE/uddcqECEoT/LxnCCK9WgP9YxwQNKFqA/l5AP+p5lnz8wTKZq35OeP7eHqiV5X50/guLHaBpbnD9NqTjbRiabP/s6cM45aZo/uSGzwPcjmT8yMAUe8S+YP6MBvCVAFpc/2ht8ob0alj8hRB8ZBGiVP9JvX+eFmpQ/VTAqidW1kz8UZPEoZe+SPyntDd60KZI/RY6aPLhxkT/Xo3ANxLiQPxkEVh4AGJA//WLJz5bfjj/7gZiRUsSNP+GfPxrybIw/1lbsLyJJiz/8hMaG9AaKPx6CvTyKX4k/K9Fs8ZwNiD8V+J35n2qHP6OSOqEtgoY/IbByqMKzhT8=\",\"dtype\":\"float64\",\"shape\":[100]}},\"selected\":{\"id\":\"1043\",\"type\":\"Selection\"},\"selection_policy\":{\"id\":\"1071\",\"type\":\"UnionRenderers\"}},\"id\":\"1042\",\"type\":\"ColumnDataSource\"},{\"attributes\":{\"callback\":null,\"end\":99.0,\"reset_end\":99.0,\"reset_start\":0.0,\"tags\":[[[\"index\",\"index\",null]]]},\"id\":\"1001\",\"type\":\"Range1d\"},{\"attributes\":{},\"id\":\"1039\",\"type\":\"BasicTickFormatter\"},{\"attributes\":{\"active_drag\":\"auto\",\"active_inspect\":\"auto\",\"active_multi\":null,\"active_scroll\":\"auto\",\"active_tap\":\"auto\",\"tools\":[{\"id\":\"1003\",\"type\":\"HoverTool\"},{\"id\":\"1026\",\"type\":\"SaveTool\"},{\"id\":\"1027\",\"type\":\"PanTool\"},{\"id\":\"1028\",\"type\":\"WheelZoomTool\"},{\"id\":\"1029\",\"type\":\"BoxZoomTool\"},{\"id\":\"1030\",\"type\":\"ResetTool\"}]},\"id\":\"1031\",\"type\":\"Toolbar\"},{\"attributes\":{},\"id\":\"1014\",\"type\":\"LinearScale\"},{\"attributes\":{\"line_alpha\":0.1,\"line_color\":\"#2ca02c\",\"line_width\":2,\"x\":{\"field\":\"index\"},\"y\":{\"field\":\"value\"}},\"id\":\"1079\",\"type\":\"Line\"},{\"attributes\":{\"label\":{\"value\":\"val_accuracy\"},\"renderers\":[{\"id\":\"1100\",\"type\":\"GlyphRenderer\"}]},\"id\":\"1114\",\"type\":\"LegendItem\"},{\"attributes\":{},\"id\":\"1095\",\"type\":\"Selection\"},{\"attributes\":{\"data_source\":{\"id\":\"1075\",\"type\":\"ColumnDataSource\"},\"glyph\":{\"id\":\"1078\",\"type\":\"Line\"},\"hover_glyph\":null,\"muted_glyph\":{\"id\":\"1080\",\"type\":\"Line\"},\"nonselection_glyph\":{\"id\":\"1079\",\"type\":\"Line\"},\"selection_glyph\":null,\"view\":{\"id\":\"1082\",\"type\":\"CDSView\"}},\"id\":\"1081\",\"type\":\"GlyphRenderer\"},{\"attributes\":{\"line_alpha\":0.2,\"line_color\":\"#1f77b4\",\"line_width\":2,\"x\":{\"field\":\"index\"},\"y\":{\"field\":\"value\"}},\"id\":\"1047\",\"type\":\"Line\"},{\"attributes\":{\"source\":{\"id\":\"1042\",\"type\":\"ColumnDataSource\"}},\"id\":\"1049\",\"type\":\"CDSView\"},{\"attributes\":{\"callback\":null,\"renderers\":[{\"id\":\"1048\",\"type\":\"GlyphRenderer\"},{\"id\":\"1064\",\"type\":\"GlyphRenderer\"},{\"id\":\"1081\",\"type\":\"GlyphRenderer\"},{\"id\":\"1100\",\"type\":\"GlyphRenderer\"}],\"tooltips\":[[\"Variable\",\"@{Variable}\"],[\"index\",\"@{index}\"],[\"value\",\"@{value}\"]]},\"id\":\"1003\",\"type\":\"HoverTool\"},{\"attributes\":{},\"id\":\"1126\",\"type\":\"UnionRenderers\"},{\"attributes\":{},\"id\":\"1030\",\"type\":\"ResetTool\"},{\"attributes\":{\"click_policy\":\"mute\",\"items\":[{\"id\":\"1057\",\"type\":\"LegendItem\"},{\"id\":\"1074\",\"type\":\"LegendItem\"},{\"id\":\"1093\",\"type\":\"LegendItem\"},{\"id\":\"1114\",\"type\":\"LegendItem\"}],\"location\":[0,0]},\"id\":\"1056\",\"type\":\"Legend\"}],\"root_ids\":[\"1007\"]},\"title\":\"Bokeh Application\",\"version\":\"1.1.0\"}};\n",
       "  var render_items = [{\"docid\":\"baaa49b0-25b0-4a0f-8084-5201af601429\",\"roots\":{\"1007\":\"aa1d79d4-5c8f-4c22-8ea1-9476fea93168\"}}];\n",
       "  root.Bokeh.embed.embed_items_notebook(docs_json, render_items);\n",
       "\n",
       "  }\n",
       "  if (root.Bokeh !== undefined) {\n",
       "    embed_document(root);\n",
       "  } else {\n",
       "    var attempts = 0;\n",
       "    var timer = setInterval(function(root) {\n",
       "      if (root.Bokeh !== undefined) {\n",
       "        embed_document(root);\n",
       "        clearInterval(timer);\n",
       "      }\n",
       "      attempts++;\n",
       "      if (attempts > 100) {\n",
       "        console.log(\"Bokeh: ERROR: Unable to run BokehJS code because BokehJS library is missing\");\n",
       "        clearInterval(timer);\n",
       "      }\n",
       "    }, 10, root)\n",
       "  }\n",
       "})(window);"
      ],
      "application/vnd.holoviews_exec.v0+json": "",
      "text/html": [
       "<div id='1007' style='display: table; margin: 0 auto;'>\n",
       "\n",
       "\n",
       "\n",
       "\n",
       "\n",
       "  <div class=\"bk-root\" id=\"aa1d79d4-5c8f-4c22-8ea1-9476fea93168\" data-root-id=\"1007\"></div>\n",
       "</div>"
      ],
      "text/plain": [
       ":NdOverlay   [Variable]\n",
       "   :Curve   [index]   (value)"
      ]
     },
     "execution_count": 45,
     "metadata": {
      "application/vnd.holoviews_exec.v0+json": {
       "id": "1007"
      }
     },
     "output_type": "execute_result"
    }
   ],
   "source": [
    "pd.DataFrame(history_dict).hvplot()"
   ]
  },
  {
   "cell_type": "code",
   "execution_count": 46,
   "metadata": {},
   "outputs": [],
   "source": [
    "acc = history_dict['accuracy']\n",
    "val_acc = history_dict['val_accuracy']\n",
    "loss = history_dict['loss']\n",
    "val_loss = history_dict['val_loss']\n",
    "\n",
    "epochs = range(1, len(acc) + 1)"
   ]
  },
  {
   "cell_type": "code",
   "execution_count": 47,
   "metadata": {},
   "outputs": [
    {
     "data": {
      "text/plain": [
       "range(1, 101)"
      ]
     },
     "execution_count": 47,
     "metadata": {},
     "output_type": "execute_result"
    }
   ],
   "source": [
    "epochs"
   ]
  },
  {
   "cell_type": "code",
   "execution_count": 58,
   "metadata": {},
   "outputs": [
    {
     "data": {
      "application/javascript": [
       "\n",
       "// Ugly hack - see HoloViews #2574 for more information\n",
       "if (!(document.getElementById('2766')) && !(document.getElementById('_anim_imgNone'))) {\n",
       "  console.log(\"Creating DOM nodes dynamically for assumed nbconvert export. To generate clean HTML output set HV_DOC_HTML as an environment variable.\")\n",
       "  var htmlObject = document.createElement('div');\n",
       "  htmlObject.innerHTML = `<div id='2766' style='display: table; margin: 0 auto;'>\n",
       "\n",
       "\n",
       "\n",
       "\n",
       "\n",
       "  <div class=\"bk-root\" id=\"ab69a316-6871-4d62-9ed5-2974a18817b1\" data-root-id=\"2766\"></div>\n",
       "</div>`;\n",
       "  var scriptTags = document.getElementsByTagName('script');\n",
       "  var parentTag = scriptTags[scriptTags.length-1].parentNode;\n",
       "  if (parentTag.attributes.length && (parentTag.attributes[0].name == 'data-shell-mode')) {\n",
       "    alert('Displaying PyViz objects in JupyterLab requires the jupyterlab_pyviz extension to be installed, install it with:\\n\\n\\tjupyter labextension install @pyviz/jupyterlab_pyviz');\n",
       "  } else {\n",
       "    parentTag.append(htmlObject)\n",
       "  }\n",
       "}\n",
       "(function(root) {\n",
       "  function embed_document(root) {\n",
       "    \n",
       "  var docs_json = {\"2f416e87-c0d5-4df0-826e-28f2e1e1ed30\":{\"roots\":{\"references\":[{\"attributes\":{\"below\":[{\"id\":\"2775\",\"type\":\"LinearAxis\"}],\"center\":[{\"id\":\"2779\",\"type\":\"Grid\"},{\"id\":\"2784\",\"type\":\"Grid\"},{\"id\":\"2815\",\"type\":\"Legend\"}],\"left\":[{\"id\":\"2780\",\"type\":\"LinearAxis\"}],\"margin\":null,\"min_border_bottom\":10,\"min_border_left\":10,\"min_border_right\":10,\"min_border_top\":10,\"plot_height\":300,\"plot_width\":700,\"renderers\":[{\"id\":\"2807\",\"type\":\"GlyphRenderer\"},{\"id\":\"2823\",\"type\":\"GlyphRenderer\"}],\"sizing_mode\":\"fixed\",\"title\":{\"id\":\"2767\",\"type\":\"Title\"},\"toolbar\":{\"id\":\"2790\",\"type\":\"Toolbar\"},\"x_range\":{\"id\":\"2762\",\"type\":\"Range1d\"},\"x_scale\":{\"id\":\"2771\",\"type\":\"LinearScale\"},\"y_range\":{\"id\":\"2763\",\"type\":\"Range1d\"},\"y_scale\":{\"id\":\"2773\",\"type\":\"LinearScale\"}},\"id\":\"2766\",\"subtype\":\"Figure\",\"type\":\"Plot\"},{\"attributes\":{\"axis_label\":\"\",\"bounds\":\"auto\",\"formatter\":{\"id\":\"2798\",\"type\":\"BasicTickFormatter\"},\"major_label_orientation\":\"horizontal\",\"ticker\":{\"id\":\"2776\",\"type\":\"BasicTicker\"}},\"id\":\"2775\",\"type\":\"LinearAxis\"},{\"attributes\":{\"label\":{\"value\":\"0\"},\"renderers\":[{\"id\":\"2807\",\"type\":\"GlyphRenderer\"},{\"id\":\"2823\",\"type\":\"GlyphRenderer\"}]},\"id\":\"2816\",\"type\":\"LegendItem\"},{\"attributes\":{\"overlay\":{\"id\":\"2814\",\"type\":\"BoxAnnotation\"}},\"id\":\"2788\",\"type\":\"BoxZoomTool\"},{\"attributes\":{\"dimension\":1,\"grid_line_color\":{\"value\":null},\"ticker\":{\"id\":\"2781\",\"type\":\"BasicTicker\"}},\"id\":\"2784\",\"type\":\"Grid\"},{\"attributes\":{\"click_policy\":\"mute\",\"items\":[{\"id\":\"2816\",\"type\":\"LegendItem\"}]},\"id\":\"2815\",\"type\":\"Legend\"},{\"attributes\":{},\"id\":\"2771\",\"type\":\"LinearScale\"},{\"attributes\":{\"line_alpha\":0.2,\"line_color\":\"#ff7f0e\",\"line_width\":2,\"x\":{\"field\":\"index\"},\"y\":{\"field\":\"0\"}},\"id\":\"2822\",\"type\":\"Line\"},{\"attributes\":{\"line_alpha\":0.1,\"line_color\":\"#1f77b4\",\"line_width\":2,\"x\":{\"field\":\"index\"},\"y\":{\"field\":\"0\"}},\"id\":\"2805\",\"type\":\"Line\"},{\"attributes\":{},\"id\":\"2818\",\"type\":\"Selection\"},{\"attributes\":{\"source\":{\"id\":\"2801\",\"type\":\"ColumnDataSource\"}},\"id\":\"2808\",\"type\":\"CDSView\"},{\"attributes\":{\"line_alpha\":0.1,\"line_color\":\"#ff7f0e\",\"line_width\":2,\"x\":{\"field\":\"index\"},\"y\":{\"field\":\"0\"}},\"id\":\"2821\",\"type\":\"Line\"},{\"attributes\":{},\"id\":\"2798\",\"type\":\"BasicTickFormatter\"},{\"attributes\":{\"line_color\":\"#ff7f0e\",\"line_width\":2,\"x\":{\"field\":\"index\"},\"y\":{\"field\":\"0\"}},\"id\":\"2820\",\"type\":\"Line\"},{\"attributes\":{},\"id\":\"2802\",\"type\":\"Selection\"},{\"attributes\":{},\"id\":\"2785\",\"type\":\"SaveTool\"},{\"attributes\":{\"bottom_units\":\"screen\",\"fill_alpha\":{\"value\":0.5},\"fill_color\":{\"value\":\"lightgrey\"},\"left_units\":\"screen\",\"level\":\"overlay\",\"line_alpha\":{\"value\":1.0},\"line_color\":{\"value\":\"black\"},\"line_dash\":[4,4],\"line_width\":{\"value\":2},\"render_mode\":\"css\",\"right_units\":\"screen\",\"top_units\":\"screen\"},\"id\":\"2814\",\"type\":\"BoxAnnotation\"},{\"attributes\":{\"callback\":null,\"renderers\":[{\"id\":\"2807\",\"type\":\"GlyphRenderer\"},{\"id\":\"2823\",\"type\":\"GlyphRenderer\"}],\"tooltips\":[[\"index\",\"@{index}\"],[\"0\",\"@{A_0}\"]]},\"id\":\"2764\",\"type\":\"HoverTool\"},{\"attributes\":{},\"id\":\"2786\",\"type\":\"PanTool\"},{\"attributes\":{\"callback\":null,\"end\":99.0,\"reset_end\":99.0,\"reset_start\":0.0,\"tags\":[[[\"index\",\"index\",null]]]},\"id\":\"2762\",\"type\":\"Range1d\"},{\"attributes\":{\"callback\":null,\"data\":{\"0\":{\"__ndarray__\":\"AAAAIFyP5D8AAABgBaPmPwAAAGAnoOc/AAAAoBgE6D8AAACAL0zoPwAAAKAD5+g/AAAA4BLy6T8AAABAeVjqPwAAAEC0yOo/AAAAoCoY6z8AAAAgJlPrPwAAAOBfdus/AAAAwIan6z8AAABgw9PrPwAAAGA73+s/AAAAIEHx6z8AAABAYhDsPwAAACDdJOw/AAAAYFIn7D8AAADAKTrsPwAAAMApOuw/AAAAoCxD7D8AAABg/kPsPwAAAEABTew/AAAAwF1L7D8AAAAAF0jsPwAAAEC9Uuw/AAAAwBlR7D8AAABgMlXsPwAAAEA1Xuw/AAAAgOtR7D8AAAAAB1/sPwAAAOCRXOw/AAAAoBxa7D8AAABAeVjsPwAAAEA1Xuw/AAAAYHZP7D8AAABguknsPwAAAKDoSOw/AAAAgHNG7D8AAABgQj7sPwAAAIC3QOw/AAAAwLEu7D8AAADAKTrsPwAAAGDKMuw/AAAAgMcp7D8AAADgaivsPwAAAOCuJew/AAAAwPUo7D8AAABgliHsPwAAAIALJOw/AAAAoAgb7D8AAAAgZRnsPwAAAEDqBOw/AAAAgBsN7D8AAACA1xLsPwAAAAC8Bew/AAAAIDEI7D8AAADABRLsPwAAAEDqBOw/AAAAIO0N7D8AAABgXwfsPwAAAECmCuw/AAAA4EYD7D8AAABA6gTsPwAAAADM7us/AAAAYG/w6z8AAABgs+rrPwAAAIAo7es/AAAAABDp6z8AAAAgQfHrPwAAAOCa5us/AAAA4Fbs6z8AAAAA3NfrPwAAAKBp3us/AAAAwGbV6z8AAAAA3NfrPwAAACBR2us/AAAAAJjd6z8AAAAgHcnrPwAAAOCnxus/AAAAYAfO6z8AAACgvcHrPwAAAMDuyes/AAAAIGHD6z8AAADgL7vrPwAAAOBztes/AAAAYFux6z8AAADgc7XrPwAAAKC9wes/AAAAgFio6z8AAABgF7frPwAAAAAtsus/AAAAAHGs6z8AAACgEaXrPwAAAMBCres/AAAAYOOl6z8AAACgEaXrPwAAAICcous/AAAAALWm6z8=\",\"dtype\":\"float64\",\"shape\":[100]},\"A_0\":{\"__ndarray__\":\"AAAAIFyP5D8AAABgBaPmPwAAAGAnoOc/AAAAoBgE6D8AAACAL0zoPwAAAKAD5+g/AAAA4BLy6T8AAABAeVjqPwAAAEC0yOo/AAAAoCoY6z8AAAAgJlPrPwAAAOBfdus/AAAAwIan6z8AAABgw9PrPwAAAGA73+s/AAAAIEHx6z8AAABAYhDsPwAAACDdJOw/AAAAYFIn7D8AAADAKTrsPwAAAMApOuw/AAAAoCxD7D8AAABg/kPsPwAAAEABTew/AAAAwF1L7D8AAAAAF0jsPwAAAEC9Uuw/AAAAwBlR7D8AAABgMlXsPwAAAEA1Xuw/AAAAgOtR7D8AAAAAB1/sPwAAAOCRXOw/AAAAoBxa7D8AAABAeVjsPwAAAEA1Xuw/AAAAYHZP7D8AAABguknsPwAAAKDoSOw/AAAAgHNG7D8AAABgQj7sPwAAAIC3QOw/AAAAwLEu7D8AAADAKTrsPwAAAGDKMuw/AAAAgMcp7D8AAADgaivsPwAAAOCuJew/AAAAwPUo7D8AAABgliHsPwAAAIALJOw/AAAAoAgb7D8AAAAgZRnsPwAAAEDqBOw/AAAAgBsN7D8AAACA1xLsPwAAAAC8Bew/AAAAIDEI7D8AAADABRLsPwAAAEDqBOw/AAAAIO0N7D8AAABgXwfsPwAAAECmCuw/AAAA4EYD7D8AAABA6gTsPwAAAADM7us/AAAAYG/w6z8AAABgs+rrPwAAAIAo7es/AAAAABDp6z8AAAAgQfHrPwAAAOCa5us/AAAA4Fbs6z8AAAAA3NfrPwAAAKBp3us/AAAAwGbV6z8AAAAA3NfrPwAAACBR2us/AAAAAJjd6z8AAAAgHcnrPwAAAOCnxus/AAAAYAfO6z8AAACgvcHrPwAAAMDuyes/AAAAIGHD6z8AAADgL7vrPwAAAOBztes/AAAAYFux6z8AAADgc7XrPwAAAKC9wes/AAAAgFio6z8AAABgF7frPwAAAAAtsus/AAAAAHGs6z8AAACgEaXrPwAAAMBCres/AAAAYOOl6z8AAACgEaXrPwAAAICcous/AAAAALWm6z8=\",\"dtype\":\"float64\",\"shape\":[100]},\"index\":[0,1,2,3,4,5,6,7,8,9,10,11,12,13,14,15,16,17,18,19,20,21,22,23,24,25,26,27,28,29,30,31,32,33,34,35,36,37,38,39,40,41,42,43,44,45,46,47,48,49,50,51,52,53,54,55,56,57,58,59,60,61,62,63,64,65,66,67,68,69,70,71,72,73,74,75,76,77,78,79,80,81,82,83,84,85,86,87,88,89,90,91,92,93,94,95,96,97,98,99]},\"selected\":{\"id\":\"2818\",\"type\":\"Selection\"},\"selection_policy\":{\"id\":\"2840\",\"type\":\"UnionRenderers\"}},\"id\":\"2817\",\"type\":\"ColumnDataSource\"},{\"attributes\":{\"callback\":null,\"end\":0.9994666576385498,\"reset_end\":0.9994666576385498,\"reset_start\":0.5551333427429199,\"start\":0.5551333427429199,\"tags\":[[[\"0\",\"0\",null]]]},\"id\":\"2763\",\"type\":\"Range1d\"},{\"attributes\":{\"line_color\":\"#1f77b4\",\"line_width\":2,\"x\":{\"field\":\"index\"},\"y\":{\"field\":\"0\"}},\"id\":\"2804\",\"type\":\"Line\"},{\"attributes\":{\"grid_line_color\":{\"value\":null},\"ticker\":{\"id\":\"2776\",\"type\":\"BasicTicker\"}},\"id\":\"2779\",\"type\":\"Grid\"},{\"attributes\":{},\"id\":\"2776\",\"type\":\"BasicTicker\"},{\"attributes\":{},\"id\":\"2789\",\"type\":\"ResetTool\"},{\"attributes\":{\"text\":\"Accuracy\",\"text_color\":{\"value\":\"black\"},\"text_font_size\":{\"value\":\"12pt\"}},\"id\":\"2767\",\"type\":\"Title\"},{\"attributes\":{\"data_source\":{\"id\":\"2817\",\"type\":\"ColumnDataSource\"},\"glyph\":{\"id\":\"2820\",\"type\":\"Line\"},\"hover_glyph\":null,\"muted_glyph\":{\"id\":\"2822\",\"type\":\"Line\"},\"nonselection_glyph\":{\"id\":\"2821\",\"type\":\"Line\"},\"selection_glyph\":null,\"view\":{\"id\":\"2824\",\"type\":\"CDSView\"}},\"id\":\"2823\",\"type\":\"GlyphRenderer\"},{\"attributes\":{\"data_source\":{\"id\":\"2801\",\"type\":\"ColumnDataSource\"},\"glyph\":{\"id\":\"2804\",\"type\":\"Line\"},\"hover_glyph\":null,\"muted_glyph\":{\"id\":\"2806\",\"type\":\"Line\"},\"nonselection_glyph\":{\"id\":\"2805\",\"type\":\"Line\"},\"selection_glyph\":null,\"view\":{\"id\":\"2808\",\"type\":\"CDSView\"}},\"id\":\"2807\",\"type\":\"GlyphRenderer\"},{\"attributes\":{\"source\":{\"id\":\"2817\",\"type\":\"ColumnDataSource\"}},\"id\":\"2824\",\"type\":\"CDSView\"},{\"attributes\":{},\"id\":\"2773\",\"type\":\"LinearScale\"},{\"attributes\":{\"line_alpha\":0.2,\"line_color\":\"#1f77b4\",\"line_width\":2,\"x\":{\"field\":\"index\"},\"y\":{\"field\":\"0\"}},\"id\":\"2806\",\"type\":\"Line\"},{\"attributes\":{},\"id\":\"2840\",\"type\":\"UnionRenderers\"},{\"attributes\":{},\"id\":\"2787\",\"type\":\"WheelZoomTool\"},{\"attributes\":{\"axis_label\":\"\",\"bounds\":\"auto\",\"formatter\":{\"id\":\"2800\",\"type\":\"BasicTickFormatter\"},\"major_label_orientation\":\"horizontal\",\"ticker\":{\"id\":\"2781\",\"type\":\"BasicTicker\"}},\"id\":\"2780\",\"type\":\"LinearAxis\"},{\"attributes\":{\"callback\":null,\"data\":{\"0\":{\"__ndarray__\":\"AAAAAKfD4T8AAAAgiBnnPwAAAMB/SOc/AAAAAH9q6D8AAADA8/3oPwAAAIC7cek/AAAAgAoh6j8AAAAAhcbqPwAAAKCRN+s/AAAAwMme6z8AAACAXgTsPwAAAIC2Pew/AAAAAG+B7D8AAABAfrHsPwAAAECj3Ow/AAAAQFIC7T8AAACgoiPtPwAAAOB+Re0/AAAAINFs7T8AAACgH4jtPwAAAEAppu0/AAAAoL7E7T8AAAAAVOPtPwAAAEAu/+0/AAAA4PIf7j8AAAAAWTzuPwAAAABLWe4/AAAAIPRs7j8AAADAQILuPwAAAKC6k+4/AAAAANim7j8AAAAAULLuPwAAAODLye4/AAAAoIze7j8AAAAgpuXuPwAAAECU9u4/AAAAIJgC7z8AAADAJw/vPwAAACCIGe8/AAAA4NAi7z8AAAAgeDDvPwAAAIDYOu8/AAAA4PVN7z8AAADA91PvPwAAAEBYXu8/AAAAYIlm7z8AAADALm7vPwAAAEBIde8/AAAAII947z8AAAAgwobvPwAAAOCUiu8/AAAAgCKR7z8AAABga5rvPwAAAGBrmu8/AAAAILSj7z8AAACgiK3vPwAAAABxrO8/AAAAYBa07z8AAAAgpLrvPwAAAKACv+8/AAAAQNXC7z8AAACAv8fvPwAAAECSy+8/AAAA4KnM7z8AAADA8M/vPwAAAMCr0u8/AAAAoPLV7z8AAABACtfvPwAAAGB+1u8/AAAA4Nza7z8AAACA9NvvPwAAAGA73+8/AAAAQMff7z8AAACAseTvPwAAAEA95e8/AAAAIITo7z8AAAAAEOnvPwAAAGD45+8/AAAAYLPq7z8AAABgs+rvPwAAAED67e8/AAAAQPrt7z8AAAAghu7vPwAAAED67e8/AAAA4Mzx7z8AAADgzPHvPwAAAGBw8+8/AAAAoJ/17z8AAABgK/bvPwAAAGAr9u8/AAAAQLf27z8AAABAt/bvPwAAAODO9+8/AAAAoFr47z8AAACA5vjvPwAAAKBa+O8/AAAAQHL57z8AAADgifrvPwAAAICh++8/AAAAwBX77z8=\",\"dtype\":\"float64\",\"shape\":[100]},\"A_0\":{\"__ndarray__\":\"AAAAAKfD4T8AAAAgiBnnPwAAAMB/SOc/AAAAAH9q6D8AAADA8/3oPwAAAIC7cek/AAAAgAoh6j8AAAAAhcbqPwAAAKCRN+s/AAAAwMme6z8AAACAXgTsPwAAAIC2Pew/AAAAAG+B7D8AAABAfrHsPwAAAECj3Ow/AAAAQFIC7T8AAACgoiPtPwAAAOB+Re0/AAAAINFs7T8AAACgH4jtPwAAAEAppu0/AAAAoL7E7T8AAAAAVOPtPwAAAEAu/+0/AAAA4PIf7j8AAAAAWTzuPwAAAABLWe4/AAAAIPRs7j8AAADAQILuPwAAAKC6k+4/AAAAANim7j8AAAAAULLuPwAAAODLye4/AAAAoIze7j8AAAAgpuXuPwAAAECU9u4/AAAAIJgC7z8AAADAJw/vPwAAACCIGe8/AAAA4NAi7z8AAAAgeDDvPwAAAIDYOu8/AAAA4PVN7z8AAADA91PvPwAAAEBYXu8/AAAAYIlm7z8AAADALm7vPwAAAEBIde8/AAAAII947z8AAAAgwobvPwAAAOCUiu8/AAAAgCKR7z8AAABga5rvPwAAAGBrmu8/AAAAILSj7z8AAACgiK3vPwAAAABxrO8/AAAAYBa07z8AAAAgpLrvPwAAAKACv+8/AAAAQNXC7z8AAACAv8fvPwAAAECSy+8/AAAA4KnM7z8AAADA8M/vPwAAAMCr0u8/AAAAoPLV7z8AAABACtfvPwAAAGB+1u8/AAAA4Nza7z8AAACA9NvvPwAAAGA73+8/AAAAQMff7z8AAACAseTvPwAAAEA95e8/AAAAIITo7z8AAAAAEOnvPwAAAGD45+8/AAAAYLPq7z8AAABgs+rvPwAAAED67e8/AAAAQPrt7z8AAAAghu7vPwAAAED67e8/AAAA4Mzx7z8AAADgzPHvPwAAAGBw8+8/AAAAoJ/17z8AAABgK/bvPwAAAGAr9u8/AAAAQLf27z8AAABAt/bvPwAAAODO9+8/AAAAoFr47z8AAACA5vjvPwAAAKBa+O8/AAAAQHL57z8AAADgifrvPwAAAICh++8/AAAAwBX77z8=\",\"dtype\":\"float64\",\"shape\":[100]},\"index\":[0,1,2,3,4,5,6,7,8,9,10,11,12,13,14,15,16,17,18,19,20,21,22,23,24,25,26,27,28,29,30,31,32,33,34,35,36,37,38,39,40,41,42,43,44,45,46,47,48,49,50,51,52,53,54,55,56,57,58,59,60,61,62,63,64,65,66,67,68,69,70,71,72,73,74,75,76,77,78,79,80,81,82,83,84,85,86,87,88,89,90,91,92,93,94,95,96,97,98,99]},\"selected\":{\"id\":\"2802\",\"type\":\"Selection\"},\"selection_policy\":{\"id\":\"2830\",\"type\":\"UnionRenderers\"}},\"id\":\"2801\",\"type\":\"ColumnDataSource\"},{\"attributes\":{},\"id\":\"2830\",\"type\":\"UnionRenderers\"},{\"attributes\":{},\"id\":\"2800\",\"type\":\"BasicTickFormatter\"},{\"attributes\":{\"active_drag\":\"auto\",\"active_inspect\":\"auto\",\"active_multi\":null,\"active_scroll\":\"auto\",\"active_tap\":\"auto\",\"tools\":[{\"id\":\"2764\",\"type\":\"HoverTool\"},{\"id\":\"2785\",\"type\":\"SaveTool\"},{\"id\":\"2786\",\"type\":\"PanTool\"},{\"id\":\"2787\",\"type\":\"WheelZoomTool\"},{\"id\":\"2788\",\"type\":\"BoxZoomTool\"},{\"id\":\"2789\",\"type\":\"ResetTool\"}]},\"id\":\"2790\",\"type\":\"Toolbar\"},{\"attributes\":{},\"id\":\"2781\",\"type\":\"BasicTicker\"}],\"root_ids\":[\"2766\"]},\"title\":\"Bokeh Application\",\"version\":\"1.1.0\"}};\n",
       "  var render_items = [{\"docid\":\"2f416e87-c0d5-4df0-826e-28f2e1e1ed30\",\"roots\":{\"2766\":\"ab69a316-6871-4d62-9ed5-2974a18817b1\"}}];\n",
       "  root.Bokeh.embed.embed_items_notebook(docs_json, render_items);\n",
       "\n",
       "  }\n",
       "  if (root.Bokeh !== undefined) {\n",
       "    embed_document(root);\n",
       "  } else {\n",
       "    var attempts = 0;\n",
       "    var timer = setInterval(function(root) {\n",
       "      if (root.Bokeh !== undefined) {\n",
       "        embed_document(root);\n",
       "        clearInterval(timer);\n",
       "      }\n",
       "      attempts++;\n",
       "      if (attempts > 100) {\n",
       "        console.log(\"Bokeh: ERROR: Unable to run BokehJS code because BokehJS library is missing\");\n",
       "        clearInterval(timer);\n",
       "      }\n",
       "    }, 10, root)\n",
       "  }\n",
       "})(window);"
      ],
      "application/vnd.holoviews_exec.v0+json": "",
      "text/html": [
       "<div id='2766' style='display: table; margin: 0 auto;'>\n",
       "\n",
       "\n",
       "\n",
       "\n",
       "\n",
       "  <div class=\"bk-root\" id=\"ab69a316-6871-4d62-9ed5-2974a18817b1\" data-root-id=\"2766\"></div>\n",
       "</div>"
      ],
      "text/plain": [
       ":Overlay\n",
       "   .Curve.A_0.I  :Curve   [index]   (0)\n",
       "   .Curve.A_0.II :Curve   [index]   (0)"
      ]
     },
     "execution_count": 58,
     "metadata": {
      "application/vnd.holoviews_exec.v0+json": {
       "id": "2766"
      }
     },
     "output_type": "execute_result"
    }
   ],
   "source": [
    "pd.Series(acc).hvplot(title=\"Accuracy\") * pd.Series(val_acc).hvplot(title=\"Accuracy\")"
   ]
  },
  {
   "cell_type": "markdown",
   "metadata": {},
   "source": [
    "## Structured Data Walkthrough"
   ]
  },
  {
   "cell_type": "code",
   "execution_count": 61,
   "metadata": {},
   "outputs": [
    {
     "data": {
      "text/html": [
       "<div>\n",
       "<style scoped>\n",
       "    .dataframe tbody tr th:only-of-type {\n",
       "        vertical-align: middle;\n",
       "    }\n",
       "\n",
       "    .dataframe tbody tr th {\n",
       "        vertical-align: top;\n",
       "    }\n",
       "\n",
       "    .dataframe thead th {\n",
       "        text-align: right;\n",
       "    }\n",
       "</style>\n",
       "<table border=\"1\" class=\"dataframe\">\n",
       "  <thead>\n",
       "    <tr style=\"text-align: right;\">\n",
       "      <th></th>\n",
       "      <th>age</th>\n",
       "      <th>sex</th>\n",
       "      <th>cp</th>\n",
       "      <th>trestbps</th>\n",
       "      <th>chol</th>\n",
       "      <th>fbs</th>\n",
       "      <th>restecg</th>\n",
       "      <th>thalach</th>\n",
       "      <th>exang</th>\n",
       "      <th>oldpeak</th>\n",
       "      <th>slope</th>\n",
       "      <th>ca</th>\n",
       "      <th>thal</th>\n",
       "      <th>target</th>\n",
       "    </tr>\n",
       "  </thead>\n",
       "  <tbody>\n",
       "    <tr>\n",
       "      <th>0</th>\n",
       "      <td>63</td>\n",
       "      <td>1</td>\n",
       "      <td>1</td>\n",
       "      <td>145</td>\n",
       "      <td>233</td>\n",
       "      <td>1</td>\n",
       "      <td>2</td>\n",
       "      <td>150</td>\n",
       "      <td>0</td>\n",
       "      <td>2.3</td>\n",
       "      <td>3</td>\n",
       "      <td>0</td>\n",
       "      <td>fixed</td>\n",
       "      <td>0</td>\n",
       "    </tr>\n",
       "    <tr>\n",
       "      <th>1</th>\n",
       "      <td>67</td>\n",
       "      <td>1</td>\n",
       "      <td>4</td>\n",
       "      <td>160</td>\n",
       "      <td>286</td>\n",
       "      <td>0</td>\n",
       "      <td>2</td>\n",
       "      <td>108</td>\n",
       "      <td>1</td>\n",
       "      <td>1.5</td>\n",
       "      <td>2</td>\n",
       "      <td>3</td>\n",
       "      <td>normal</td>\n",
       "      <td>1</td>\n",
       "    </tr>\n",
       "    <tr>\n",
       "      <th>2</th>\n",
       "      <td>67</td>\n",
       "      <td>1</td>\n",
       "      <td>4</td>\n",
       "      <td>120</td>\n",
       "      <td>229</td>\n",
       "      <td>0</td>\n",
       "      <td>2</td>\n",
       "      <td>129</td>\n",
       "      <td>1</td>\n",
       "      <td>2.6</td>\n",
       "      <td>2</td>\n",
       "      <td>2</td>\n",
       "      <td>reversible</td>\n",
       "      <td>0</td>\n",
       "    </tr>\n",
       "    <tr>\n",
       "      <th>3</th>\n",
       "      <td>37</td>\n",
       "      <td>1</td>\n",
       "      <td>3</td>\n",
       "      <td>130</td>\n",
       "      <td>250</td>\n",
       "      <td>0</td>\n",
       "      <td>0</td>\n",
       "      <td>187</td>\n",
       "      <td>0</td>\n",
       "      <td>3.5</td>\n",
       "      <td>3</td>\n",
       "      <td>0</td>\n",
       "      <td>normal</td>\n",
       "      <td>0</td>\n",
       "    </tr>\n",
       "    <tr>\n",
       "      <th>4</th>\n",
       "      <td>41</td>\n",
       "      <td>0</td>\n",
       "      <td>2</td>\n",
       "      <td>130</td>\n",
       "      <td>204</td>\n",
       "      <td>0</td>\n",
       "      <td>2</td>\n",
       "      <td>172</td>\n",
       "      <td>0</td>\n",
       "      <td>1.4</td>\n",
       "      <td>1</td>\n",
       "      <td>0</td>\n",
       "      <td>normal</td>\n",
       "      <td>0</td>\n",
       "    </tr>\n",
       "  </tbody>\n",
       "</table>\n",
       "</div>"
      ],
      "text/plain": [
       "   age  sex  cp  trestbps  chol  fbs  restecg  thalach  exang  oldpeak  slope  \\\n",
       "0   63    1   1       145   233    1        2      150      0      2.3      3   \n",
       "1   67    1   4       160   286    0        2      108      1      1.5      2   \n",
       "2   67    1   4       120   229    0        2      129      1      2.6      2   \n",
       "3   37    1   3       130   250    0        0      187      0      3.5      3   \n",
       "4   41    0   2       130   204    0        2      172      0      1.4      1   \n",
       "\n",
       "   ca        thal  target  \n",
       "0   0       fixed       0  \n",
       "1   3      normal       1  \n",
       "2   2  reversible       0  \n",
       "3   0      normal       0  \n",
       "4   0      normal       0  "
      ]
     },
     "execution_count": 61,
     "metadata": {},
     "output_type": "execute_result"
    }
   ],
   "source": [
    "url = 'https://storage.googleapis.com/applied-dl/heart.csv'\n",
    "dataframe = pd.read_csv(url)\n",
    "dataframe.head()"
   ]
  },
  {
   "cell_type": "code",
   "execution_count": 68,
   "metadata": {},
   "outputs": [
    {
     "name": "stdout",
     "output_type": "stream",
     "text": [
      "193 train examples | 49 validation examples | 61 test examples\n"
     ]
    }
   ],
   "source": [
    "train, test = train_test_split(dataframe, test_size=0.2)\n",
    "train, val = train_test_split(train, test_size=0.2)\n",
    "print('{} train examples'.format(len(train)), '|', '{} validation examples'.format(len(val)), '|', '{} test examples'.format(len(test)))"
   ]
  },
  {
   "cell_type": "code",
   "execution_count": 69,
   "metadata": {},
   "outputs": [],
   "source": [
    "# A utility method to create a tf.data dataset from a Pandas Dataframe\n",
    "def df_to_dataset(dataframe, shuffle=True, batch_size=32):\n",
    "    dataframe = dataframe.copy()\n",
    "    labels = dataframe.pop('target')\n",
    "    ds = tf.data.Dataset.from_tensor_slices((dict(dataframe), labels))\n",
    "    if shuffle:\n",
    "        ds = ds.shuffle(buffer_size=len(dataframe))\n",
    "    ds = ds.batch(batch_size)\n",
    "    return ds"
   ]
  },
  {
   "cell_type": "code",
   "execution_count": 70,
   "metadata": {},
   "outputs": [],
   "source": [
    "batch_size = 5 # A small batch sized is used for demonstration purposes\n",
    "train_ds = df_to_dataset(train, batch_size=batch_size)\n",
    "val_ds = df_to_dataset(val, shuffle=False, batch_size=batch_size)\n",
    "test_ds = df_to_dataset(test, shuffle=False, batch_size=batch_size)"
   ]
  },
  {
   "cell_type": "code",
   "execution_count": 72,
   "metadata": {},
   "outputs": [
    {
     "name": "stdout",
     "output_type": "stream",
     "text": [
      "Every feature: ['age', 'sex', 'cp', 'trestbps', 'chol', 'fbs', 'restecg', 'thalach', 'exang', 'oldpeak', 'slope', 'ca', 'thal']\n",
      "A batch of ages: tf.Tensor([71 70 54 52 59], shape=(5,), dtype=int32)\n",
      "A batch of targets: tf.Tensor([0 1 0 0 1], shape=(5,), dtype=int32)\n"
     ]
    }
   ],
   "source": [
    "for feature_batch, label_batch in train_ds.take(1):\n",
    "    print('Every feature:', list(feature_batch.keys()))\n",
    "    print('A batch of ages:', feature_batch['age'])\n",
    "    print('A batch of targets:', label_batch )"
   ]
  },
  {
   "cell_type": "code",
   "execution_count": 73,
   "metadata": {},
   "outputs": [],
   "source": [
    "# We will use this batch to demonstrate several types of feature columns\n",
    "example_batch = next(iter(train_ds))[0]"
   ]
  },
  {
   "cell_type": "code",
   "execution_count": 75,
   "metadata": {},
   "outputs": [],
   "source": [
    "# A utility method to create a feature column\n",
    "# and to transform a batch of data\n",
    "def demo(feature_column):\n",
    "    feature_layer = layers.DenseFeatures(feature_column)\n",
    "    print(feature_layer(example_batch).numpy())"
   ]
  },
  {
   "cell_type": "code",
   "execution_count": 76,
   "metadata": {},
   "outputs": [
    {
     "name": "stderr",
     "output_type": "stream",
     "text": [
      "WARNING: Logging before flag parsing goes to stderr.\n",
      "W0430 16:07:57.722256 4714251712 deprecation.py:323] From /Users/tjs/anaconda3/envs/ai/lib/python3.6/site-packages/tensorflow/python/feature_column/feature_column_v2.py:2758: to_float (from tensorflow.python.ops.math_ops) is deprecated and will be removed in a future version.\n",
      "Instructions for updating:\n",
      "Use `tf.cast` instead.\n"
     ]
    },
    {
     "name": "stdout",
     "output_type": "stream",
     "text": [
      "[[71.]\n",
      " [70.]\n",
      " [54.]\n",
      " [52.]\n",
      " [59.]]\n"
     ]
    }
   ],
   "source": [
    "age = feature_column.numeric_column(\"age\")\n",
    "demo(age)"
   ]
  },
  {
   "cell_type": "code",
   "execution_count": 77,
   "metadata": {},
   "outputs": [
    {
     "name": "stderr",
     "output_type": "stream",
     "text": [
      "W0430 16:08:10.736145 4714251712 deprecation.py:323] From /Users/tjs/anaconda3/envs/ai/lib/python3.6/site-packages/tensorflow/python/feature_column/feature_column_v2.py:2902: to_int64 (from tensorflow.python.ops.math_ops) is deprecated and will be removed in a future version.\n",
      "Instructions for updating:\n",
      "Use `tf.cast` instead.\n"
     ]
    },
    {
     "name": "stdout",
     "output_type": "stream",
     "text": [
      "[[0. 0. 0. 0. 0. 0. 0. 0. 0. 0. 1.]\n",
      " [0. 0. 0. 0. 0. 0. 0. 0. 0. 0. 1.]\n",
      " [0. 0. 0. 0. 0. 0. 0. 1. 0. 0. 0.]\n",
      " [0. 0. 0. 0. 0. 0. 0. 1. 0. 0. 0.]\n",
      " [0. 0. 0. 0. 0. 0. 0. 0. 1. 0. 0.]]\n"
     ]
    }
   ],
   "source": [
    "age_buckets = feature_column.bucketized_column(age, boundaries=[18, 25, 30, 35, 40, 45, 50, 55, 60, 65])\n",
    "demo(age_buckets)"
   ]
  },
  {
   "cell_type": "code",
   "execution_count": 78,
   "metadata": {},
   "outputs": [
    {
     "name": "stderr",
     "output_type": "stream",
     "text": [
      "W0430 16:08:19.538192 4714251712 deprecation.py:323] From /Users/tjs/anaconda3/envs/ai/lib/python3.6/site-packages/tensorflow/python/feature_column/feature_column_v2.py:4307: IndicatorColumn._variable_shape (from tensorflow.python.feature_column.feature_column_v2) is deprecated and will be removed in a future version.\n",
      "Instructions for updating:\n",
      "The old _FeatureColumn APIs are being deprecated. Please use the new FeatureColumn APIs instead.\n",
      "W0430 16:08:19.539079 4714251712 deprecation.py:323] From /Users/tjs/anaconda3/envs/ai/lib/python3.6/site-packages/tensorflow/python/feature_column/feature_column_v2.py:4362: VocabularyListCategoricalColumn._num_buckets (from tensorflow.python.feature_column.feature_column_v2) is deprecated and will be removed in a future version.\n",
      "Instructions for updating:\n",
      "The old _FeatureColumn APIs are being deprecated. Please use the new FeatureColumn APIs instead.\n"
     ]
    },
    {
     "name": "stdout",
     "output_type": "stream",
     "text": [
      "[[0. 1. 0.]\n",
      " [0. 0. 1.]\n",
      " [0. 0. 1.]\n",
      " [0. 0. 1.]\n",
      " [0. 0. 1.]]\n"
     ]
    }
   ],
   "source": [
    "thal = feature_column.categorical_column_with_vocabulary_list(\n",
    "      'thal', ['fixed', 'normal', 'reversible'])\n",
    "\n",
    "thal_one_hot = feature_column.indicator_column(thal)\n",
    "demo(thal_one_hot)"
   ]
  },
  {
   "cell_type": "code",
   "execution_count": 79,
   "metadata": {},
   "outputs": [
    {
     "name": "stdout",
     "output_type": "stream",
     "text": [
      "[[ 0.1948821  -0.02270942 -0.16826878  0.3076677   0.27003583  0.18367533\n",
      "  -0.32999727 -0.24675116]\n",
      " [ 0.07468002 -0.40683833 -0.02786528 -0.4136076   0.02977174  0.06554154\n",
      "   0.23027433  0.3955214 ]\n",
      " [ 0.07468002 -0.40683833 -0.02786528 -0.4136076   0.02977174  0.06554154\n",
      "   0.23027433  0.3955214 ]\n",
      " [ 0.07468002 -0.40683833 -0.02786528 -0.4136076   0.02977174  0.06554154\n",
      "   0.23027433  0.3955214 ]\n",
      " [ 0.07468002 -0.40683833 -0.02786528 -0.4136076   0.02977174  0.06554154\n",
      "   0.23027433  0.3955214 ]]\n"
     ]
    }
   ],
   "source": [
    "# Notice the input to the embedding column is the categorical column\n",
    "# we previously created\n",
    "thal_embedding = feature_column.embedding_column(thal, dimension=8)\n",
    "demo(thal_embedding)"
   ]
  },
  {
   "cell_type": "code",
   "execution_count": 80,
   "metadata": {},
   "outputs": [
    {
     "name": "stderr",
     "output_type": "stream",
     "text": [
      "W0430 16:08:47.863734 4714251712 deprecation.py:323] From /Users/tjs/anaconda3/envs/ai/lib/python3.6/site-packages/tensorflow/python/feature_column/feature_column_v2.py:4362: HashedCategoricalColumn._num_buckets (from tensorflow.python.feature_column.feature_column_v2) is deprecated and will be removed in a future version.\n",
      "Instructions for updating:\n",
      "The old _FeatureColumn APIs are being deprecated. Please use the new FeatureColumn APIs instead.\n"
     ]
    },
    {
     "name": "stdout",
     "output_type": "stream",
     "text": [
      "[[0. 0. 0. ... 0. 0. 0.]\n",
      " [0. 0. 0. ... 0. 0. 0.]\n",
      " [0. 0. 0. ... 0. 0. 0.]\n",
      " [0. 0. 0. ... 0. 0. 0.]\n",
      " [0. 0. 0. ... 0. 0. 0.]]\n"
     ]
    }
   ],
   "source": [
    "thal_hashed = feature_column.categorical_column_with_hash_bucket(\n",
    "      'thal', hash_bucket_size=1000)\n",
    "demo(feature_column.indicator_column(thal_hashed))"
   ]
  },
  {
   "cell_type": "code",
   "execution_count": 81,
   "metadata": {},
   "outputs": [
    {
     "name": "stderr",
     "output_type": "stream",
     "text": [
      "W0430 16:08:56.158509 4714251712 deprecation.py:323] From /Users/tjs/anaconda3/envs/ai/lib/python3.6/site-packages/tensorflow/python/feature_column/feature_column_v2.py:4362: CrossedColumn._num_buckets (from tensorflow.python.feature_column.feature_column_v2) is deprecated and will be removed in a future version.\n",
      "Instructions for updating:\n",
      "The old _FeatureColumn APIs are being deprecated. Please use the new FeatureColumn APIs instead.\n"
     ]
    },
    {
     "name": "stdout",
     "output_type": "stream",
     "text": [
      "[[0. 0. 0. ... 0. 0. 0.]\n",
      " [0. 0. 0. ... 0. 0. 0.]\n",
      " [0. 0. 0. ... 0. 0. 0.]\n",
      " [0. 0. 0. ... 0. 0. 0.]\n",
      " [0. 0. 0. ... 0. 0. 0.]]\n"
     ]
    }
   ],
   "source": [
    "crossed_feature = feature_column.crossed_column([age_buckets, thal], hash_bucket_size=1000)\n",
    "demo(feature_column.indicator_column(crossed_feature))"
   ]
  },
  {
   "cell_type": "code",
   "execution_count": 86,
   "metadata": {},
   "outputs": [],
   "source": [
    "feature_columns = []\n",
    "\n",
    "# numeric cols\n",
    "for header in ['age', 'trestbps', 'chol', 'thalach', 'oldpeak', 'slope', 'ca']:\n",
    "    feature_columns.append(feature_column.numeric_column(header))\n",
    "\n",
    "# bucketized cols\n",
    "age_buckets = feature_column.bucketized_column(age, boundaries=[18, 25, 30, 35, 40, 45, 50, 55, 60, 65])\n",
    "feature_columns.append(age_buckets)\n",
    "\n",
    "# indicator cols\n",
    "thal = feature_column.categorical_column_with_vocabulary_list('thal', ['fixed', 'normal', 'reversible'])\n",
    "thal_one_hot = feature_column.indicator_column(thal)\n",
    "feature_columns.append(thal_one_hot)\n",
    "\n",
    "# embedding cols\n",
    "thal_embedding = feature_column.embedding_column(thal, dimension=8)\n",
    "feature_columns.append(thal_embedding)\n",
    "\n",
    "# crossed cols\n",
    "crossed_feature = feature_column.crossed_column([age_buckets, thal], hash_bucket_size=1000)\n",
    "crossed_feature = feature_column.indicator_column(crossed_feature)\n",
    "feature_columns.append(crossed_feature)"
   ]
  },
  {
   "cell_type": "code",
   "execution_count": 87,
   "metadata": {},
   "outputs": [],
   "source": [
    "feature_layer = tf.keras.layers.DenseFeatures(feature_columns)"
   ]
  },
  {
   "cell_type": "code",
   "execution_count": 88,
   "metadata": {},
   "outputs": [],
   "source": [
    "batch_size = 32\n",
    "train_ds = df_to_dataset(train, batch_size=batch_size)\n",
    "val_ds = df_to_dataset(val, shuffle=False, batch_size=batch_size)\n",
    "test_ds = df_to_dataset(test, shuffle=False, batch_size=batch_size)"
   ]
  },
  {
   "cell_type": "code",
   "execution_count": 89,
   "metadata": {},
   "outputs": [
    {
     "name": "stdout",
     "output_type": "stream",
     "text": [
      "Epoch 1/50\n",
      "7/7 [==============================] - 0s 63ms/step - loss: 1.5234 - accuracy: 0.5659 - val_loss: 1.6700 - val_accuracy: 0.3061\n",
      "Epoch 2/50\n",
      "7/7 [==============================] - 0s 29ms/step - loss: 1.6855 - accuracy: 0.3682 - val_loss: 1.0593 - val_accuracy: 0.7143\n",
      "Epoch 3/50\n",
      "7/7 [==============================] - 0s 31ms/step - loss: 0.6211 - accuracy: 0.7262 - val_loss: 0.8644 - val_accuracy: 0.5510\n",
      "Epoch 4/50\n",
      "7/7 [==============================] - 0s 29ms/step - loss: 0.8177 - accuracy: 0.5324 - val_loss: 0.6059 - val_accuracy: 0.6939\n",
      "Epoch 5/50\n",
      "7/7 [==============================] - 0s 31ms/step - loss: 0.5395 - accuracy: 0.7216 - val_loss: 0.5539 - val_accuracy: 0.6735\n",
      "Epoch 6/50\n",
      "7/7 [==============================] - 0s 30ms/step - loss: 0.5435 - accuracy: 0.7873 - val_loss: 0.5416 - val_accuracy: 0.6735\n",
      "Epoch 7/50\n",
      "7/7 [==============================] - 0s 30ms/step - loss: 0.5245 - accuracy: 0.7493 - val_loss: 0.5457 - val_accuracy: 0.6939\n",
      "Epoch 8/50\n",
      "7/7 [==============================] - 0s 31ms/step - loss: 0.4507 - accuracy: 0.8033 - val_loss: 0.5593 - val_accuracy: 0.6939\n",
      "Epoch 9/50\n",
      "7/7 [==============================] - 0s 30ms/step - loss: 0.4715 - accuracy: 0.7734 - val_loss: 0.5483 - val_accuracy: 0.6939\n",
      "Epoch 10/50\n",
      "7/7 [==============================] - 0s 30ms/step - loss: 0.4211 - accuracy: 0.7953 - val_loss: 0.5542 - val_accuracy: 0.6939\n",
      "Epoch 11/50\n",
      "7/7 [==============================] - 0s 30ms/step - loss: 0.4294 - accuracy: 0.7913 - val_loss: 0.5462 - val_accuracy: 0.7143\n",
      "Epoch 12/50\n",
      "7/7 [==============================] - 0s 30ms/step - loss: 0.4131 - accuracy: 0.8003 - val_loss: 0.5435 - val_accuracy: 0.7143\n",
      "Epoch 13/50\n",
      "7/7 [==============================] - 0s 30ms/step - loss: 0.3982 - accuracy: 0.8070 - val_loss: 0.5475 - val_accuracy: 0.7347\n",
      "Epoch 14/50\n",
      "7/7 [==============================] - 0s 31ms/step - loss: 0.3933 - accuracy: 0.8178 - val_loss: 0.5402 - val_accuracy: 0.7347\n",
      "Epoch 15/50\n",
      "7/7 [==============================] - 0s 31ms/step - loss: 0.3795 - accuracy: 0.8266 - val_loss: 0.5358 - val_accuracy: 0.7347\n",
      "Epoch 16/50\n",
      "7/7 [==============================] - 0s 31ms/step - loss: 0.3738 - accuracy: 0.8318 - val_loss: 0.5304 - val_accuracy: 0.7347\n",
      "Epoch 17/50\n",
      "7/7 [==============================] - 0s 30ms/step - loss: 0.3642 - accuracy: 0.8296 - val_loss: 0.5261 - val_accuracy: 0.7347\n",
      "Epoch 18/50\n",
      "7/7 [==============================] - 0s 30ms/step - loss: 0.3545 - accuracy: 0.8309 - val_loss: 0.5266 - val_accuracy: 0.7347\n",
      "Epoch 19/50\n",
      "7/7 [==============================] - 0s 30ms/step - loss: 0.3471 - accuracy: 0.8309 - val_loss: 0.5229 - val_accuracy: 0.7755\n",
      "Epoch 20/50\n",
      "7/7 [==============================] - 0s 30ms/step - loss: 0.3390 - accuracy: 0.8466 - val_loss: 0.5207 - val_accuracy: 0.7959\n",
      "Epoch 21/50\n",
      "7/7 [==============================] - 0s 31ms/step - loss: 0.3338 - accuracy: 0.8493 - val_loss: 0.5173 - val_accuracy: 0.7959\n",
      "Epoch 22/50\n",
      "7/7 [==============================] - 0s 30ms/step - loss: 0.3255 - accuracy: 0.8470 - val_loss: 0.5177 - val_accuracy: 0.7959\n",
      "Epoch 23/50\n",
      "7/7 [==============================] - 0s 31ms/step - loss: 0.3198 - accuracy: 0.8540 - val_loss: 0.5180 - val_accuracy: 0.7959\n",
      "Epoch 24/50\n",
      "7/7 [==============================] - 0s 30ms/step - loss: 0.3134 - accuracy: 0.8540 - val_loss: 0.5138 - val_accuracy: 0.7959\n",
      "Epoch 25/50\n",
      "7/7 [==============================] - 0s 30ms/step - loss: 0.3088 - accuracy: 0.8582 - val_loss: 0.5136 - val_accuracy: 0.7959\n",
      "Epoch 26/50\n",
      "7/7 [==============================] - 0s 31ms/step - loss: 0.3022 - accuracy: 0.8582 - val_loss: 0.5109 - val_accuracy: 0.7755\n",
      "Epoch 27/50\n",
      "7/7 [==============================] - 0s 30ms/step - loss: 0.2982 - accuracy: 0.8510 - val_loss: 0.5082 - val_accuracy: 0.7959\n",
      "Epoch 28/50\n",
      "7/7 [==============================] - 0s 30ms/step - loss: 0.2940 - accuracy: 0.8510 - val_loss: 0.5109 - val_accuracy: 0.7959\n",
      "Epoch 29/50\n",
      "7/7 [==============================] - 0s 31ms/step - loss: 0.2886 - accuracy: 0.8619 - val_loss: 0.5132 - val_accuracy: 0.7959\n",
      "Epoch 30/50\n",
      "7/7 [==============================] - 0s 29ms/step - loss: 0.2836 - accuracy: 0.8728 - val_loss: 0.5158 - val_accuracy: 0.8367\n",
      "Epoch 31/50\n",
      "7/7 [==============================] - 0s 30ms/step - loss: 0.2812 - accuracy: 0.8510 - val_loss: 0.5159 - val_accuracy: 0.8367\n",
      "Epoch 32/50\n",
      "7/7 [==============================] - 0s 30ms/step - loss: 0.2767 - accuracy: 0.8619 - val_loss: 0.5129 - val_accuracy: 0.8367\n",
      "Epoch 33/50\n",
      "7/7 [==============================] - 0s 30ms/step - loss: 0.2720 - accuracy: 0.8728 - val_loss: 0.5168 - val_accuracy: 0.8367\n",
      "Epoch 34/50\n",
      "7/7 [==============================] - 0s 30ms/step - loss: 0.2701 - accuracy: 0.8510 - val_loss: 0.5134 - val_accuracy: 0.8367\n",
      "Epoch 35/50\n",
      "7/7 [==============================] - 0s 30ms/step - loss: 0.2655 - accuracy: 0.8619 - val_loss: 0.5122 - val_accuracy: 0.8367\n",
      "Epoch 36/50\n",
      "7/7 [==============================] - 0s 30ms/step - loss: 0.2633 - accuracy: 0.8548 - val_loss: 0.5146 - val_accuracy: 0.8367\n",
      "Epoch 37/50\n",
      "7/7 [==============================] - 0s 31ms/step - loss: 0.2609 - accuracy: 0.8548 - val_loss: 0.5185 - val_accuracy: 0.8367\n",
      "Epoch 38/50\n",
      "7/7 [==============================] - 0s 30ms/step - loss: 0.2567 - accuracy: 0.8656 - val_loss: 0.5202 - val_accuracy: 0.8367\n",
      "Epoch 39/50\n",
      "7/7 [==============================] - 0s 30ms/step - loss: 0.2541 - accuracy: 0.8656 - val_loss: 0.5275 - val_accuracy: 0.8367\n",
      "Epoch 40/50\n",
      "7/7 [==============================] - 0s 30ms/step - loss: 0.2530 - accuracy: 0.8683 - val_loss: 0.5286 - val_accuracy: 0.8367\n",
      "Epoch 41/50\n",
      "7/7 [==============================] - 0s 29ms/step - loss: 0.2482 - accuracy: 0.8656 - val_loss: 0.5236 - val_accuracy: 0.8367\n",
      "Epoch 42/50\n",
      "7/7 [==============================] - 0s 30ms/step - loss: 0.2462 - accuracy: 0.8633 - val_loss: 0.5247 - val_accuracy: 0.8367\n",
      "Epoch 43/50\n",
      "7/7 [==============================] - 0s 29ms/step - loss: 0.2431 - accuracy: 0.8707 - val_loss: 0.5315 - val_accuracy: 0.8367\n",
      "Epoch 44/50\n",
      "7/7 [==============================] - 0s 29ms/step - loss: 0.2415 - accuracy: 0.8633 - val_loss: 0.5348 - val_accuracy: 0.8367\n",
      "Epoch 45/50\n",
      "7/7 [==============================] - 0s 30ms/step - loss: 0.2388 - accuracy: 0.8707 - val_loss: 0.5251 - val_accuracy: 0.8367\n",
      "Epoch 46/50\n",
      "7/7 [==============================] - 0s 31ms/step - loss: 0.2374 - accuracy: 0.8601 - val_loss: 0.5243 - val_accuracy: 0.8367\n",
      "Epoch 47/50\n",
      "7/7 [==============================] - 0s 30ms/step - loss: 0.2333 - accuracy: 0.8601 - val_loss: 0.5313 - val_accuracy: 0.8367\n",
      "Epoch 48/50\n",
      "7/7 [==============================] - 0s 30ms/step - loss: 0.2334 - accuracy: 0.8638 - val_loss: 0.5418 - val_accuracy: 0.8367\n",
      "Epoch 49/50\n",
      "7/7 [==============================] - 0s 30ms/step - loss: 0.2293 - accuracy: 0.8758 - val_loss: 0.5382 - val_accuracy: 0.8367\n",
      "Epoch 50/50\n",
      "7/7 [==============================] - 0s 30ms/step - loss: 0.2270 - accuracy: 0.8758 - val_loss: 0.5357 - val_accuracy: 0.8367\n"
     ]
    },
    {
     "data": {
      "text/plain": [
       "<tensorflow.python.keras.callbacks.History at 0x146745fd0>"
      ]
     },
     "execution_count": 89,
     "metadata": {},
     "output_type": "execute_result"
    }
   ],
   "source": [
    "model = tf.keras.Sequential([\n",
    "  feature_layer,\n",
    "  layers.Dense(128, activation='relu'),\n",
    "  layers.Dense(128, activation='relu'),\n",
    "  layers.Dense(1, activation='sigmoid')\n",
    "])\n",
    "\n",
    "model.compile(optimizer='adam',\n",
    "              loss='binary_crossentropy',\n",
    "              metrics=['accuracy'])\n",
    "\n",
    "model.fit(train_ds,\n",
    "          validation_data=val_ds,\n",
    "          epochs=50)"
   ]
  },
  {
   "cell_type": "code",
   "execution_count": 90,
   "metadata": {},
   "outputs": [
    {
     "name": "stdout",
     "output_type": "stream",
     "text": [
      "2/2 [==============================] - 0s 15ms/step - loss: 0.5871 - accuracy: 0.7705\n",
      "Accuracy 0.7704918\n"
     ]
    }
   ],
   "source": [
    "loss, accuracy = model.evaluate(test_ds)\n",
    "print(\"Accuracy\", accuracy)"
   ]
  },
  {
   "cell_type": "markdown",
   "metadata": {},
   "source": [
    "## Regression Example"
   ]
  },
  {
   "cell_type": "code",
   "execution_count": 91,
   "metadata": {},
   "outputs": [
    {
     "name": "stdout",
     "output_type": "stream",
     "text": [
      "2.0.0-alpha0\n"
     ]
    }
   ],
   "source": [
    "from __future__ import absolute_import, division, print_function, unicode_literals\n",
    "\n",
    "import pathlib\n",
    "\n",
    "import matplotlib.pyplot as plt\n",
    "import pandas as pd\n",
    "import seaborn as sns\n",
    "\n",
    "!pip install -q tensorflow==2.0.0-alpha0\n",
    "import tensorflow as tf\n",
    "\n",
    "from tensorflow import keras\n",
    "from tensorflow.keras import layers\n",
    "\n",
    "print(tf.__version__)"
   ]
  },
  {
   "cell_type": "code",
   "execution_count": 92,
   "metadata": {},
   "outputs": [
    {
     "name": "stdout",
     "output_type": "stream",
     "text": [
      "Downloading data from http://archive.ics.uci.edu/ml/machine-learning-databases/auto-mpg/auto-mpg.data\n",
      "32768/30286 [================================] - 0s 1us/step\n"
     ]
    },
    {
     "data": {
      "text/plain": [
       "'/Users/tjs/.keras/datasets/auto-mpg.data'"
      ]
     },
     "execution_count": 92,
     "metadata": {},
     "output_type": "execute_result"
    }
   ],
   "source": [
    "dataset_path = keras.utils.get_file(\"auto-mpg.data\", \"http://archive.ics.uci.edu/ml/machine-learning-databases/auto-mpg/auto-mpg.data\")\n",
    "dataset_path"
   ]
  },
  {
   "cell_type": "code",
   "execution_count": 97,
   "metadata": {},
   "outputs": [
    {
     "data": {
      "text/html": [
       "<div>\n",
       "<style scoped>\n",
       "    .dataframe tbody tr th:only-of-type {\n",
       "        vertical-align: middle;\n",
       "    }\n",
       "\n",
       "    .dataframe tbody tr th {\n",
       "        vertical-align: top;\n",
       "    }\n",
       "\n",
       "    .dataframe thead th {\n",
       "        text-align: right;\n",
       "    }\n",
       "</style>\n",
       "<table border=\"1\" class=\"dataframe\">\n",
       "  <thead>\n",
       "    <tr style=\"text-align: right;\">\n",
       "      <th></th>\n",
       "      <th>MPG</th>\n",
       "      <th>Cylinders</th>\n",
       "      <th>Displacement</th>\n",
       "      <th>Horsepower</th>\n",
       "      <th>Weight</th>\n",
       "      <th>Acceleration</th>\n",
       "      <th>Model Year</th>\n",
       "      <th>Origin</th>\n",
       "    </tr>\n",
       "  </thead>\n",
       "  <tbody>\n",
       "    <tr>\n",
       "      <th>393</th>\n",
       "      <td>27.0</td>\n",
       "      <td>4</td>\n",
       "      <td>140.0</td>\n",
       "      <td>86.0</td>\n",
       "      <td>2790.0</td>\n",
       "      <td>15.6</td>\n",
       "      <td>82</td>\n",
       "      <td>1</td>\n",
       "    </tr>\n",
       "    <tr>\n",
       "      <th>394</th>\n",
       "      <td>44.0</td>\n",
       "      <td>4</td>\n",
       "      <td>97.0</td>\n",
       "      <td>52.0</td>\n",
       "      <td>2130.0</td>\n",
       "      <td>24.6</td>\n",
       "      <td>82</td>\n",
       "      <td>2</td>\n",
       "    </tr>\n",
       "    <tr>\n",
       "      <th>395</th>\n",
       "      <td>32.0</td>\n",
       "      <td>4</td>\n",
       "      <td>135.0</td>\n",
       "      <td>84.0</td>\n",
       "      <td>2295.0</td>\n",
       "      <td>11.6</td>\n",
       "      <td>82</td>\n",
       "      <td>1</td>\n",
       "    </tr>\n",
       "    <tr>\n",
       "      <th>396</th>\n",
       "      <td>28.0</td>\n",
       "      <td>4</td>\n",
       "      <td>120.0</td>\n",
       "      <td>79.0</td>\n",
       "      <td>2625.0</td>\n",
       "      <td>18.6</td>\n",
       "      <td>82</td>\n",
       "      <td>1</td>\n",
       "    </tr>\n",
       "    <tr>\n",
       "      <th>397</th>\n",
       "      <td>31.0</td>\n",
       "      <td>4</td>\n",
       "      <td>119.0</td>\n",
       "      <td>82.0</td>\n",
       "      <td>2720.0</td>\n",
       "      <td>19.4</td>\n",
       "      <td>82</td>\n",
       "      <td>1</td>\n",
       "    </tr>\n",
       "  </tbody>\n",
       "</table>\n",
       "</div>"
      ],
      "text/plain": [
       "      MPG  Cylinders  Displacement  Horsepower  Weight  Acceleration  \\\n",
       "393  27.0          4         140.0        86.0  2790.0          15.6   \n",
       "394  44.0          4          97.0        52.0  2130.0          24.6   \n",
       "395  32.0          4         135.0        84.0  2295.0          11.6   \n",
       "396  28.0          4         120.0        79.0  2625.0          18.6   \n",
       "397  31.0          4         119.0        82.0  2720.0          19.4   \n",
       "\n",
       "     Model Year  Origin  \n",
       "393          82       1  \n",
       "394          82       2  \n",
       "395          82       1  \n",
       "396          82       1  \n",
       "397          82       1  "
      ]
     },
     "execution_count": 97,
     "metadata": {},
     "output_type": "execute_result"
    }
   ],
   "source": [
    "column_names = ['MPG','Cylinders','Displacement','Horsepower','Weight',\n",
    "                'Acceleration', 'Model Year', 'Origin']\n",
    "raw_dataset = pd.read_csv(dataset_path, names=column_names,\n",
    "                      na_values = \"?\", comment='\\t',\n",
    "                      sep=\" \", skipinitialspace=True)\n",
    "\n",
    "dataset = raw_dataset.copy()\n",
    "dataset.tail()"
   ]
  },
  {
   "cell_type": "code",
   "execution_count": 98,
   "metadata": {},
   "outputs": [
    {
     "data": {
      "text/plain": [
       "MPG             0\n",
       "Cylinders       0\n",
       "Displacement    0\n",
       "Horsepower      6\n",
       "Weight          0\n",
       "Acceleration    0\n",
       "Model Year      0\n",
       "Origin          0\n",
       "dtype: int64"
      ]
     },
     "execution_count": 98,
     "metadata": {},
     "output_type": "execute_result"
    }
   ],
   "source": [
    "dataset.isna().sum()"
   ]
  },
  {
   "cell_type": "code",
   "execution_count": 99,
   "metadata": {},
   "outputs": [],
   "source": [
    "dataset.dropna(inplace=True)"
   ]
  },
  {
   "cell_type": "code",
   "execution_count": 100,
   "metadata": {},
   "outputs": [],
   "source": [
    "origin = dataset.pop('Origin')"
   ]
  },
  {
   "cell_type": "code",
   "execution_count": 101,
   "metadata": {},
   "outputs": [
    {
     "data": {
      "text/html": [
       "<div>\n",
       "<style scoped>\n",
       "    .dataframe tbody tr th:only-of-type {\n",
       "        vertical-align: middle;\n",
       "    }\n",
       "\n",
       "    .dataframe tbody tr th {\n",
       "        vertical-align: top;\n",
       "    }\n",
       "\n",
       "    .dataframe thead th {\n",
       "        text-align: right;\n",
       "    }\n",
       "</style>\n",
       "<table border=\"1\" class=\"dataframe\">\n",
       "  <thead>\n",
       "    <tr style=\"text-align: right;\">\n",
       "      <th></th>\n",
       "      <th>MPG</th>\n",
       "      <th>Cylinders</th>\n",
       "      <th>Displacement</th>\n",
       "      <th>Horsepower</th>\n",
       "      <th>Weight</th>\n",
       "      <th>Acceleration</th>\n",
       "      <th>Model Year</th>\n",
       "      <th>USA</th>\n",
       "      <th>Europe</th>\n",
       "      <th>Japan</th>\n",
       "    </tr>\n",
       "  </thead>\n",
       "  <tbody>\n",
       "    <tr>\n",
       "      <th>393</th>\n",
       "      <td>27.0</td>\n",
       "      <td>4</td>\n",
       "      <td>140.0</td>\n",
       "      <td>86.0</td>\n",
       "      <td>2790.0</td>\n",
       "      <td>15.6</td>\n",
       "      <td>82</td>\n",
       "      <td>1.0</td>\n",
       "      <td>0.0</td>\n",
       "      <td>0.0</td>\n",
       "    </tr>\n",
       "    <tr>\n",
       "      <th>394</th>\n",
       "      <td>44.0</td>\n",
       "      <td>4</td>\n",
       "      <td>97.0</td>\n",
       "      <td>52.0</td>\n",
       "      <td>2130.0</td>\n",
       "      <td>24.6</td>\n",
       "      <td>82</td>\n",
       "      <td>0.0</td>\n",
       "      <td>1.0</td>\n",
       "      <td>0.0</td>\n",
       "    </tr>\n",
       "    <tr>\n",
       "      <th>395</th>\n",
       "      <td>32.0</td>\n",
       "      <td>4</td>\n",
       "      <td>135.0</td>\n",
       "      <td>84.0</td>\n",
       "      <td>2295.0</td>\n",
       "      <td>11.6</td>\n",
       "      <td>82</td>\n",
       "      <td>1.0</td>\n",
       "      <td>0.0</td>\n",
       "      <td>0.0</td>\n",
       "    </tr>\n",
       "    <tr>\n",
       "      <th>396</th>\n",
       "      <td>28.0</td>\n",
       "      <td>4</td>\n",
       "      <td>120.0</td>\n",
       "      <td>79.0</td>\n",
       "      <td>2625.0</td>\n",
       "      <td>18.6</td>\n",
       "      <td>82</td>\n",
       "      <td>1.0</td>\n",
       "      <td>0.0</td>\n",
       "      <td>0.0</td>\n",
       "    </tr>\n",
       "    <tr>\n",
       "      <th>397</th>\n",
       "      <td>31.0</td>\n",
       "      <td>4</td>\n",
       "      <td>119.0</td>\n",
       "      <td>82.0</td>\n",
       "      <td>2720.0</td>\n",
       "      <td>19.4</td>\n",
       "      <td>82</td>\n",
       "      <td>1.0</td>\n",
       "      <td>0.0</td>\n",
       "      <td>0.0</td>\n",
       "    </tr>\n",
       "  </tbody>\n",
       "</table>\n",
       "</div>"
      ],
      "text/plain": [
       "      MPG  Cylinders  Displacement  Horsepower  Weight  Acceleration  \\\n",
       "393  27.0          4         140.0        86.0  2790.0          15.6   \n",
       "394  44.0          4          97.0        52.0  2130.0          24.6   \n",
       "395  32.0          4         135.0        84.0  2295.0          11.6   \n",
       "396  28.0          4         120.0        79.0  2625.0          18.6   \n",
       "397  31.0          4         119.0        82.0  2720.0          19.4   \n",
       "\n",
       "     Model Year  USA  Europe  Japan  \n",
       "393          82  1.0     0.0    0.0  \n",
       "394          82  0.0     1.0    0.0  \n",
       "395          82  1.0     0.0    0.0  \n",
       "396          82  1.0     0.0    0.0  \n",
       "397          82  1.0     0.0    0.0  "
      ]
     },
     "execution_count": 101,
     "metadata": {},
     "output_type": "execute_result"
    }
   ],
   "source": [
    "dataset['USA'] = (origin == 1)*1.0\n",
    "dataset['Europe'] = (origin == 2)*1.0\n",
    "dataset['Japan'] = (origin == 3)*1.0\n",
    "dataset.tail()"
   ]
  },
  {
   "cell_type": "code",
   "execution_count": 102,
   "metadata": {},
   "outputs": [],
   "source": [
    "train_dataset = dataset.sample(frac=0.8,random_state=0)\n",
    "test_dataset = dataset.drop(train_dataset.index)"
   ]
  },
  {
   "cell_type": "code",
   "execution_count": 103,
   "metadata": {},
   "outputs": [
    {
     "data": {
      "text/plain": [
       "<seaborn.axisgrid.PairGrid at 0x145743dd8>"
      ]
     },
     "execution_count": 103,
     "metadata": {},
     "output_type": "execute_result"
    },
    {
     "data": {
      "image/png": "[encoded data removed]",
      "text/plain": [
       "<Figure size 720x720 with 20 Axes>"
      ]
     },
     "metadata": {
      "needs_background": "light"
     },
     "output_type": "display_data"
    }
   ],
   "source": [
    "sns.pairplot(train_dataset[[\"MPG\", \"Cylinders\", \"Displacement\", \"Weight\"]], diag_kind=\"kde\")"
   ]
  },
  {
   "cell_type": "code",
   "execution_count": 104,
   "metadata": {},
   "outputs": [
    {
     "data": {
      "text/html": [
       "<div>\n",
       "<style scoped>\n",
       "    .dataframe tbody tr th:only-of-type {\n",
       "        vertical-align: middle;\n",
       "    }\n",
       "\n",
       "    .dataframe tbody tr th {\n",
       "        vertical-align: top;\n",
       "    }\n",
       "\n",
       "    .dataframe thead th {\n",
       "        text-align: right;\n",
       "    }\n",
       "</style>\n",
       "<table border=\"1\" class=\"dataframe\">\n",
       "  <thead>\n",
       "    <tr style=\"text-align: right;\">\n",
       "      <th></th>\n",
       "      <th>count</th>\n",
       "      <th>mean</th>\n",
       "      <th>std</th>\n",
       "      <th>min</th>\n",
       "      <th>25%</th>\n",
       "      <th>50%</th>\n",
       "      <th>75%</th>\n",
       "      <th>max</th>\n",
       "    </tr>\n",
       "  </thead>\n",
       "  <tbody>\n",
       "    <tr>\n",
       "      <th>Cylinders</th>\n",
       "      <td>314.0</td>\n",
       "      <td>5.477707</td>\n",
       "      <td>1.699788</td>\n",
       "      <td>3.0</td>\n",
       "      <td>4.00</td>\n",
       "      <td>4.0</td>\n",
       "      <td>8.00</td>\n",
       "      <td>8.0</td>\n",
       "    </tr>\n",
       "    <tr>\n",
       "      <th>Displacement</th>\n",
       "      <td>314.0</td>\n",
       "      <td>195.318471</td>\n",
       "      <td>104.331589</td>\n",
       "      <td>68.0</td>\n",
       "      <td>105.50</td>\n",
       "      <td>151.0</td>\n",
       "      <td>265.75</td>\n",
       "      <td>455.0</td>\n",
       "    </tr>\n",
       "    <tr>\n",
       "      <th>Horsepower</th>\n",
       "      <td>314.0</td>\n",
       "      <td>104.869427</td>\n",
       "      <td>38.096214</td>\n",
       "      <td>46.0</td>\n",
       "      <td>76.25</td>\n",
       "      <td>94.5</td>\n",
       "      <td>128.00</td>\n",
       "      <td>225.0</td>\n",
       "    </tr>\n",
       "    <tr>\n",
       "      <th>Weight</th>\n",
       "      <td>314.0</td>\n",
       "      <td>2990.251592</td>\n",
       "      <td>843.898596</td>\n",
       "      <td>1649.0</td>\n",
       "      <td>2256.50</td>\n",
       "      <td>2822.5</td>\n",
       "      <td>3608.00</td>\n",
       "      <td>5140.0</td>\n",
       "    </tr>\n",
       "    <tr>\n",
       "      <th>Acceleration</th>\n",
       "      <td>314.0</td>\n",
       "      <td>15.559236</td>\n",
       "      <td>2.789230</td>\n",
       "      <td>8.0</td>\n",
       "      <td>13.80</td>\n",
       "      <td>15.5</td>\n",
       "      <td>17.20</td>\n",
       "      <td>24.8</td>\n",
       "    </tr>\n",
       "    <tr>\n",
       "      <th>Model Year</th>\n",
       "      <td>314.0</td>\n",
       "      <td>75.898089</td>\n",
       "      <td>3.675642</td>\n",
       "      <td>70.0</td>\n",
       "      <td>73.00</td>\n",
       "      <td>76.0</td>\n",
       "      <td>79.00</td>\n",
       "      <td>82.0</td>\n",
       "    </tr>\n",
       "    <tr>\n",
       "      <th>USA</th>\n",
       "      <td>314.0</td>\n",
       "      <td>0.624204</td>\n",
       "      <td>0.485101</td>\n",
       "      <td>0.0</td>\n",
       "      <td>0.00</td>\n",
       "      <td>1.0</td>\n",
       "      <td>1.00</td>\n",
       "      <td>1.0</td>\n",
       "    </tr>\n",
       "    <tr>\n",
       "      <th>Europe</th>\n",
       "      <td>314.0</td>\n",
       "      <td>0.178344</td>\n",
       "      <td>0.383413</td>\n",
       "      <td>0.0</td>\n",
       "      <td>0.00</td>\n",
       "      <td>0.0</td>\n",
       "      <td>0.00</td>\n",
       "      <td>1.0</td>\n",
       "    </tr>\n",
       "    <tr>\n",
       "      <th>Japan</th>\n",
       "      <td>314.0</td>\n",
       "      <td>0.197452</td>\n",
       "      <td>0.398712</td>\n",
       "      <td>0.0</td>\n",
       "      <td>0.00</td>\n",
       "      <td>0.0</td>\n",
       "      <td>0.00</td>\n",
       "      <td>1.0</td>\n",
       "    </tr>\n",
       "  </tbody>\n",
       "</table>\n",
       "</div>"
      ],
      "text/plain": [
       "              count         mean         std     min      25%     50%  \\\n",
       "Cylinders     314.0     5.477707    1.699788     3.0     4.00     4.0   \n",
       "Displacement  314.0   195.318471  104.331589    68.0   105.50   151.0   \n",
       "Horsepower    314.0   104.869427   38.096214    46.0    76.25    94.5   \n",
       "Weight        314.0  2990.251592  843.898596  1649.0  2256.50  2822.5   \n",
       "Acceleration  314.0    15.559236    2.789230     8.0    13.80    15.5   \n",
       "Model Year    314.0    75.898089    3.675642    70.0    73.00    76.0   \n",
       "USA           314.0     0.624204    0.485101     0.0     0.00     1.0   \n",
       "Europe        314.0     0.178344    0.383413     0.0     0.00     0.0   \n",
       "Japan         314.0     0.197452    0.398712     0.0     0.00     0.0   \n",
       "\n",
       "                  75%     max  \n",
       "Cylinders        8.00     8.0  \n",
       "Displacement   265.75   455.0  \n",
       "Horsepower     128.00   225.0  \n",
       "Weight        3608.00  5140.0  \n",
       "Acceleration    17.20    24.8  \n",
       "Model Year      79.00    82.0  \n",
       "USA              1.00     1.0  \n",
       "Europe           0.00     1.0  \n",
       "Japan            0.00     1.0  "
      ]
     },
     "execution_count": 104,
     "metadata": {},
     "output_type": "execute_result"
    }
   ],
   "source": [
    "train_stats = train_dataset.describe()\n",
    "train_stats.pop(\"MPG\")\n",
    "train_stats = train_stats.transpose()\n",
    "train_stats"
   ]
  },
  {
   "cell_type": "code",
   "execution_count": 105,
   "metadata": {},
   "outputs": [],
   "source": [
    "train_labels = train_dataset.pop('MPG')\n",
    "test_labels = test_dataset.pop('MPG')"
   ]
  },
  {
   "cell_type": "code",
   "execution_count": 106,
   "metadata": {},
   "outputs": [],
   "source": [
    "def norm(x):\n",
    "    return (x - train_stats['mean']) / train_stats['std']\n",
    "normed_train_data = norm(train_dataset)\n",
    "normed_test_data = norm(test_dataset)"
   ]
  },
  {
   "cell_type": "code",
   "execution_count": 107,
   "metadata": {},
   "outputs": [],
   "source": [
    "def build_model():\n",
    "    model = keras.Sequential([\n",
    "        layers.Dense(64, activation='relu', input_shape=[len(train_dataset.keys())]),\n",
    "        layers.Dense(64, activation='relu'),\n",
    "        layers.Dense(1)\n",
    "    ])\n",
    "\n",
    "    optimizer = tf.keras.optimizers.RMSprop(0.001)\n",
    "\n",
    "    model.compile(loss='mse', optimizer=optimizer, metrics=['mae', 'mse'])\n",
    "    return model"
   ]
  },
  {
   "cell_type": "code",
   "execution_count": 108,
   "metadata": {},
   "outputs": [],
   "source": [
    "model = build_model()"
   ]
  },
  {
   "cell_type": "code",
   "execution_count": 109,
   "metadata": {},
   "outputs": [
    {
     "name": "stdout",
     "output_type": "stream",
     "text": [
      "Model: \"sequential_4\"\n",
      "_________________________________________________________________\n",
      "Layer (type)                 Output Shape              Param #   \n",
      "=================================================================\n",
      "dense_10 (Dense)             (None, 64)                640       \n",
      "_________________________________________________________________\n",
      "dense_11 (Dense)             (None, 64)                4160      \n",
      "_________________________________________________________________\n",
      "dense_12 (Dense)             (None, 1)                 65        \n",
      "=================================================================\n",
      "Total params: 4,865\n",
      "Trainable params: 4,865\n",
      "Non-trainable params: 0\n",
      "_________________________________________________________________\n"
     ]
    }
   ],
   "source": [
    "model.summary()"
   ]
  },
  {
   "cell_type": "code",
   "execution_count": 110,
   "metadata": {},
   "outputs": [
    {
     "data": {
      "text/plain": [
       "array([[-0.27033406],\n",
       "       [-0.5049939 ],\n",
       "       [-0.59124523],\n",
       "       [-0.6984962 ],\n",
       "       [-0.3730248 ],\n",
       "       [-0.49811405],\n",
       "       [-0.410587  ],\n",
       "       [-0.48766863],\n",
       "       [-0.4020313 ],\n",
       "       [-0.17430171]], dtype=float32)"
      ]
     },
     "execution_count": 110,
     "metadata": {},
     "output_type": "execute_result"
    }
   ],
   "source": [
    "example_batch = normed_train_data[:10]\n",
    "example_result = model.predict(example_batch)\n",
    "example_result"
   ]
  },
  {
   "cell_type": "code",
   "execution_count": 111,
   "metadata": {},
   "outputs": [
    {
     "name": "stdout",
     "output_type": "stream",
     "text": [
      "\n",
      "....................................................................................................\n",
      "....................................................................................................\n",
      "....................................................................................................\n",
      "....................................................................................................\n",
      "....................................................................................................\n",
      "....................................................................................................\n",
      "....................................................................................................\n",
      "....................................................................................................\n",
      "....................................................................................................\n",
      "...................................................................................................."
     ]
    }
   ],
   "source": [
    "# Display training progress by printing a single dot for each completed epoch\n",
    "class PrintDot(keras.callbacks.Callback):\n",
    "    def on_epoch_end(self, epoch, logs):\n",
    "        if epoch % 100 == 0: print('')\n",
    "        print('.', end='')\n",
    "\n",
    "EPOCHS = 1000\n",
    "\n",
    "history = model.fit(\n",
    "  normed_train_data, train_labels,\n",
    "  epochs=EPOCHS, validation_split = 0.2, verbose=0,\n",
    "  callbacks=[PrintDot()])"
   ]
  },
  {
   "cell_type": "code",
   "execution_count": 112,
   "metadata": {},
   "outputs": [
    {
     "data": {
      "text/html": [
       "<div>\n",
       "<style scoped>\n",
       "    .dataframe tbody tr th:only-of-type {\n",
       "        vertical-align: middle;\n",
       "    }\n",
       "\n",
       "    .dataframe tbody tr th {\n",
       "        vertical-align: top;\n",
       "    }\n",
       "\n",
       "    .dataframe thead th {\n",
       "        text-align: right;\n",
       "    }\n",
       "</style>\n",
       "<table border=\"1\" class=\"dataframe\">\n",
       "  <thead>\n",
       "    <tr style=\"text-align: right;\">\n",
       "      <th></th>\n",
       "      <th>loss</th>\n",
       "      <th>mae</th>\n",
       "      <th>mse</th>\n",
       "      <th>val_loss</th>\n",
       "      <th>val_mae</th>\n",
       "      <th>val_mse</th>\n",
       "      <th>epoch</th>\n",
       "    </tr>\n",
       "  </thead>\n",
       "  <tbody>\n",
       "    <tr>\n",
       "      <th>995</th>\n",
       "      <td>1.813643</td>\n",
       "      <td>0.801314</td>\n",
       "      <td>1.813643</td>\n",
       "      <td>10.909673</td>\n",
       "      <td>2.449542</td>\n",
       "      <td>10.909674</td>\n",
       "      <td>995</td>\n",
       "    </tr>\n",
       "    <tr>\n",
       "      <th>996</th>\n",
       "      <td>2.089785</td>\n",
       "      <td>0.908703</td>\n",
       "      <td>2.089785</td>\n",
       "      <td>9.934336</td>\n",
       "      <td>2.475020</td>\n",
       "      <td>9.934336</td>\n",
       "      <td>996</td>\n",
       "    </tr>\n",
       "    <tr>\n",
       "      <th>997</th>\n",
       "      <td>1.974849</td>\n",
       "      <td>0.851739</td>\n",
       "      <td>1.974849</td>\n",
       "      <td>10.695463</td>\n",
       "      <td>2.644151</td>\n",
       "      <td>10.695462</td>\n",
       "      <td>997</td>\n",
       "    </tr>\n",
       "    <tr>\n",
       "      <th>998</th>\n",
       "      <td>2.044257</td>\n",
       "      <td>0.868176</td>\n",
       "      <td>2.044257</td>\n",
       "      <td>10.380329</td>\n",
       "      <td>2.559844</td>\n",
       "      <td>10.380329</td>\n",
       "      <td>998</td>\n",
       "    </tr>\n",
       "    <tr>\n",
       "      <th>999</th>\n",
       "      <td>1.888506</td>\n",
       "      <td>0.811287</td>\n",
       "      <td>1.888506</td>\n",
       "      <td>10.003297</td>\n",
       "      <td>2.419686</td>\n",
       "      <td>10.003297</td>\n",
       "      <td>999</td>\n",
       "    </tr>\n",
       "  </tbody>\n",
       "</table>\n",
       "</div>"
      ],
      "text/plain": [
       "         loss       mae       mse   val_loss   val_mae    val_mse  epoch\n",
       "995  1.813643  0.801314  1.813643  10.909673  2.449542  10.909674    995\n",
       "996  2.089785  0.908703  2.089785   9.934336  2.475020   9.934336    996\n",
       "997  1.974849  0.851739  1.974849  10.695463  2.644151  10.695462    997\n",
       "998  2.044257  0.868176  2.044257  10.380329  2.559844  10.380329    998\n",
       "999  1.888506  0.811287  1.888506  10.003297  2.419686  10.003297    999"
      ]
     },
     "execution_count": 112,
     "metadata": {},
     "output_type": "execute_result"
    }
   ],
   "source": [
    "hist = pd.DataFrame(history.history)\n",
    "hist['epoch'] = history.epoch\n",
    "hist.tail()"
   ]
  },
  {
   "cell_type": "code",
   "execution_count": 136,
   "metadata": {},
   "outputs": [
    {
     "data": {
      "application/javascript": [
       "\n",
       "// Ugly hack - see HoloViews #2574 for more information\n",
       "if (!(document.getElementById('6629')) && !(document.getElementById('_anim_imgNone'))) {\n",
       "  console.log(\"Creating DOM nodes dynamically for assumed nbconvert export. To generate clean HTML output set HV_DOC_HTML as an environment variable.\")\n",
       "  var htmlObject = document.createElement('div');\n",
       "  htmlObject.innerHTML = `<div id='6629' style='display: table; margin: 0 auto;'>\n",
       "\n",
       "\n",
       "\n",
       "\n",
       "\n",
       "  <div class=\"bk-root\" id=\"8bb10f3d-6af4-4153-9b3b-2b797ebf0c57\" data-root-id=\"6629\"></div>\n",
       "</div>`;\n",
       "  var scriptTags = document.getElementsByTagName('script');\n",
       "  var parentTag = scriptTags[scriptTags.length-1].parentNode;\n",
       "  if (parentTag.attributes.length && (parentTag.attributes[0].name == 'data-shell-mode')) {\n",
       "    alert('Displaying PyViz objects in JupyterLab requires the jupyterlab_pyviz extension to be installed, install it with:\\n\\n\\tjupyter labextension install @pyviz/jupyterlab_pyviz');\n",
       "  } else {\n",
       "    parentTag.append(htmlObject)\n",
       "  }\n",
       "}\n",
       "(function(root) {\n",
       "  function embed_document(root) {\n",
       "    \n",
       "  var docs_json = {\"a2ae73be-17dc-49e0-b752-e2994ad0253a\":{\"roots\":{\"references\":[{\"attributes\":{\"below\":[{\"id\":\"6638\",\"type\":\"LinearAxis\"}],\"center\":[{\"id\":\"6642\",\"type\":\"Grid\"},{\"id\":\"6647\",\"type\":\"Grid\"},{\"id\":\"6678\",\"type\":\"Legend\"}],\"left\":[{\"id\":\"6643\",\"type\":\"LinearAxis\"}],\"margin\":null,\"min_border_bottom\":10,\"min_border_left\":10,\"min_border_right\":10,\"min_border_top\":10,\"plot_height\":300,\"plot_width\":700,\"renderers\":[{\"id\":\"6670\",\"type\":\"GlyphRenderer\"},{\"id\":\"6686\",\"type\":\"GlyphRenderer\"}],\"right\":[{\"id\":\"6678\",\"type\":\"Legend\"}],\"sizing_mode\":\"fixed\",\"title\":{\"id\":\"6630\",\"type\":\"Title\"},\"toolbar\":{\"id\":\"6653\",\"type\":\"Toolbar\"},\"x_range\":{\"id\":\"6625\",\"type\":\"Range1d\"},\"x_scale\":{\"id\":\"6634\",\"type\":\"LinearScale\"},\"y_range\":{\"id\":\"6626\",\"type\":\"Range1d\"},\"y_scale\":{\"id\":\"6636\",\"type\":\"LinearScale\"}},\"id\":\"6629\",\"subtype\":\"Figure\",\"type\":\"Plot\"},{\"attributes\":{\"dimension\":1,\"grid_line_color\":{\"value\":null},\"ticker\":{\"id\":\"6644\",\"type\":\"BasicTicker\"}},\"id\":\"6647\",\"type\":\"Grid\"},{\"attributes\":{\"line_color\":\"#ff7f0e\",\"line_width\":2,\"x\":{\"field\":\"index\"},\"y\":{\"field\":\"value\"}},\"id\":\"6683\",\"type\":\"Line\"},{\"attributes\":{},\"id\":\"6636\",\"type\":\"LinearScale\"},{\"attributes\":{\"axis_label\":\"\",\"bounds\":\"auto\",\"formatter\":{\"id\":\"6663\",\"type\":\"BasicTickFormatter\"},\"major_label_orientation\":\"horizontal\",\"ticker\":{\"id\":\"6644\",\"type\":\"BasicTicker\"}},\"id\":\"6643\",\"type\":\"LinearAxis\"},{\"attributes\":{\"active_drag\":\"auto\",\"active_inspect\":\"auto\",\"active_multi\":null,\"active_scroll\":\"auto\",\"active_tap\":\"auto\",\"tools\":[{\"id\":\"6627\",\"type\":\"HoverTool\"},{\"id\":\"6648\",\"type\":\"SaveTool\"},{\"id\":\"6649\",\"type\":\"PanTool\"},{\"id\":\"6650\",\"type\":\"WheelZoomTool\"},{\"id\":\"6651\",\"type\":\"BoxZoomTool\"},{\"id\":\"6652\",\"type\":\"ResetTool\"}]},\"id\":\"6653\",\"type\":\"Toolbar\"},{\"attributes\":{},\"id\":\"6681\",\"type\":\"Selection\"},{\"attributes\":{},\"id\":\"6648\",\"type\":\"SaveTool\"},{\"attributes\":{\"axis_label\":\"\",\"bounds\":\"auto\",\"formatter\":{\"id\":\"6661\",\"type\":\"BasicTickFormatter\"},\"major_label_orientation\":\"horizontal\",\"ticker\":{\"id\":\"6639\",\"type\":\"BasicTicker\"}},\"id\":\"6638\",\"type\":\"LinearAxis\"},{\"attributes\":{},\"id\":\"6644\",\"type\":\"BasicTicker\"},{\"attributes\":{},\"id\":\"6661\",\"type\":\"BasicTickFormatter\"},{\"attributes\":{},\"id\":\"6650\",\"type\":\"WheelZoomTool\"},{\"attributes\":{\"click_policy\":\"mute\",\"items\":[{\"id\":\"6679\",\"type\":\"LegendItem\"},{\"id\":\"6696\",\"type\":\"LegendItem\"}],\"location\":[0,0]},\"id\":\"6678\",\"type\":\"Legend\"},{\"attributes\":{\"callback\":null,\"end\":999.0,\"reset_end\":999.0,\"reset_start\":0.0,\"tags\":[[[\"index\",\"index\",null]]]},\"id\":\"6625\",\"type\":\"Range1d\"},{\"attributes\":{\"overlay\":{\"id\":\"6677\",\"type\":\"BoxAnnotation\"}},\"id\":\"6651\",\"type\":\"BoxZoomTool\"},{\"attributes\":{\"callback\":null,\"end\":587.9296378937375,\"reset_end\":587.9296378937375,\"reset_start\":1.8136427620967546,\"start\":1.8136427620967546,\"tags\":[[[\"value\",\"value\",null]]]},\"id\":\"6626\",\"type\":\"Range1d\"},{\"attributes\":{\"callback\":null,\"data\":{\"Variable\":[\"loss\",\"loss\",\"loss\",\"loss\",\"loss\",\"loss\",\"loss\",\"loss\",\"loss\",\"loss\",\"loss\",\"loss\",\"loss\",\"loss\",\"loss\",\"loss\",\"loss\",\"loss\",\"loss\",\"loss\",\"loss\",\"loss\",\"loss\",\"loss\",\"loss\",\"loss\",\"loss\",\"loss\",\"loss\",\"loss\",\"loss\",\"loss\",\"loss\",\"loss\",\"loss\",\"loss\",\"loss\",\"loss\",\"loss\",\"loss\",\"loss\",\"loss\",\"loss\",\"loss\",\"loss\",\"loss\",\"loss\",\"loss\",\"loss\",\"loss\",\"loss\",\"loss\",\"loss\",\"loss\",\"loss\",\"loss\",\"loss\",\"loss\",\"loss\",\"loss\",\"loss\",\"loss\",\"loss\",\"loss\",\"loss\",\"loss\",\"loss\",\"loss\",\"loss\",\"loss\",\"loss\",\"loss\",\"loss\",\"loss\",\"loss\",\"loss\",\"loss\",\"loss\",\"loss\",\"loss\",\"loss\",\"loss\",\"loss\",\"loss\",\"loss\",\"loss\",\"loss\",\"loss\",\"loss\",\"loss\",\"loss\",\"loss\",\"loss\",\"loss\",\"loss\",\"loss\",\"loss\",\"loss\",\"loss\",\"loss\",\"loss\",\"loss\",\"loss\",\"loss\",\"loss\",\"loss\",\"loss\",\"loss\",\"loss\",\"loss\",\"loss\",\"loss\",\"loss\",\"loss\",\"loss\",\"loss\",\"loss\",\"loss\",\"loss\",\"loss\",\"loss\",\"loss\",\"loss\",\"loss\",\"loss\",\"loss\",\"loss\",\"loss\",\"loss\",\"loss\",\"loss\",\"loss\",\"loss\",\"loss\",\"loss\",\"loss\",\"loss\",\"loss\",\"loss\",\"loss\",\"loss\",\"loss\",\"loss\",\"loss\",\"loss\",\"loss\",\"loss\",\"loss\",\"loss\",\"loss\",\"loss\",\"loss\",\"loss\",\"loss\",\"loss\",\"loss\",\"loss\",\"loss\",\"loss\",\"loss\",\"loss\",\"loss\",\"loss\",\"loss\",\"loss\",\"loss\",\"loss\",\"loss\",\"loss\",\"loss\",\"loss\",\"loss\",\"loss\",\"loss\",\"loss\",\"loss\",\"loss\",\"loss\",\"loss\",\"loss\",\"loss\",\"loss\",\"loss\",\"loss\",\"loss\",\"loss\",\"loss\",\"loss\",\"loss\",\"loss\",\"loss\",\"loss\",\"loss\",\"loss\",\"loss\",\"loss\",\"loss\",\"loss\",\"loss\",\"loss\",\"loss\",\"loss\",\"loss\",\"loss\",\"loss\",\"loss\",\"loss\",\"loss\",\"loss\",\"loss\",\"loss\",\"loss\",\"loss\",\"loss\",\"loss\",\"loss\",\"loss\",\"loss\",\"loss\",\"loss\",\"loss\",\"loss\",\"loss\",\"loss\",\"loss\",\"loss\",\"loss\",\"loss\",\"loss\",\"loss\",\"loss\",\"loss\",\"loss\",\"loss\",\"loss\",\"loss\",\"loss\",\"loss\",\"loss\",\"loss\",\"loss\",\"loss\",\"loss\",\"loss\",\"loss\",\"loss\",\"loss\",\"loss\",\"loss\",\"loss\",\"loss\",\"loss\",\"loss\",\"loss\",\"loss\",\"loss\",\"loss\",\"loss\",\"loss\",\"loss\",\"loss\",\"loss\",\"loss\",\"loss\",\"loss\",\"loss\",\"loss\",\"loss\",\"loss\",\"loss\",\"loss\",\"loss\",\"loss\",\"loss\",\"loss\",\"loss\",\"loss\",\"loss\",\"loss\",\"loss\",\"loss\",\"loss\",\"loss\",\"loss\",\"loss\",\"loss\",\"loss\",\"loss\",\"loss\",\"loss\",\"loss\",\"loss\",\"loss\",\"loss\",\"loss\",\"loss\",\"loss\",\"loss\",\"loss\",\"loss\",\"loss\",\"loss\",\"loss\",\"loss\",\"loss\",\"loss\",\"loss\",\"loss\",\"loss\",\"loss\",\"loss\",\"loss\",\"loss\",\"loss\",\"loss\",\"loss\",\"loss\",\"loss\",\"loss\",\"loss\",\"loss\",\"loss\",\"loss\",\"loss\",\"loss\",\"loss\",\"loss\",\"loss\",\"loss\",\"loss\",\"loss\",\"loss\",\"loss\",\"loss\",\"loss\",\"loss\",\"loss\",\"loss\",\"loss\",\"loss\",\"loss\",\"loss\",\"loss\",\"loss\",\"loss\",\"loss\",\"loss\",\"loss\",\"loss\",\"loss\",\"loss\",\"loss\",\"loss\",\"loss\",\"loss\",\"loss\",\"loss\",\"loss\",\"loss\",\"loss\",\"loss\",\"loss\",\"loss\",\"loss\",\"loss\",\"loss\",\"loss\",\"loss\",\"loss\",\"loss\",\"loss\",\"loss\",\"loss\",\"loss\",\"loss\",\"loss\",\"loss\",\"loss\",\"loss\",\"loss\",\"loss\",\"loss\",\"loss\",\"loss\",\"loss\",\"loss\",\"loss\",\"loss\",\"loss\",\"loss\",\"loss\",\"loss\",\"loss\",\"loss\",\"loss\",\"loss\",\"loss\",\"loss\",\"loss\",\"loss\",\"loss\",\"loss\",\"loss\",\"loss\",\"loss\",\"loss\",\"loss\",\"loss\",\"loss\",\"loss\",\"loss\",\"loss\",\"loss\",\"loss\",\"loss\",\"loss\",\"loss\",\"loss\",\"loss\",\"loss\",\"loss\",\"loss\",\"loss\",\"loss\",\"loss\",\"loss\",\"loss\",\"loss\",\"loss\",\"loss\",\"loss\",\"loss\",\"loss\",\"loss\",\"loss\",\"loss\",\"loss\",\"loss\",\"loss\",\"loss\",\"loss\",\"loss\",\"loss\",\"loss\",\"loss\",\"loss\",\"loss\",\"loss\",\"loss\",\"loss\",\"loss\",\"loss\",\"loss\",\"loss\",\"loss\",\"loss\",\"loss\",\"loss\",\"loss\",\"loss\",\"loss\",\"loss\",\"loss\",\"loss\",\"loss\",\"loss\",\"loss\",\"loss\",\"loss\",\"loss\",\"loss\",\"loss\",\"loss\",\"loss\",\"loss\",\"loss\",\"loss\",\"loss\",\"loss\",\"loss\",\"loss\",\"loss\",\"loss\",\"loss\",\"loss\",\"loss\",\"loss\",\"loss\",\"loss\",\"loss\",\"loss\",\"loss\",\"loss\",\"loss\",\"loss\",\"loss\",\"loss\",\"loss\",\"loss\",\"loss\",\"loss\",\"loss\",\"loss\",\"loss\",\"loss\",\"loss\",\"loss\",\"loss\",\"loss\",\"loss\",\"loss\",\"loss\",\"loss\",\"loss\",\"loss\",\"loss\",\"loss\",\"loss\",\"loss\",\"loss\",\"loss\",\"loss\",\"loss\",\"loss\",\"loss\",\"loss\",\"loss\",\"loss\",\"loss\",\"loss\",\"loss\",\"loss\",\"loss\",\"loss\",\"loss\",\"loss\",\"loss\",\"loss\",\"loss\",\"loss\",\"loss\",\"loss\",\"loss\",\"loss\",\"loss\",\"loss\",\"loss\",\"loss\",\"loss\",\"loss\",\"loss\",\"loss\",\"loss\",\"loss\",\"loss\",\"loss\",\"loss\",\"loss\",\"loss\",\"loss\",\"loss\",\"loss\",\"loss\",\"loss\",\"loss\",\"loss\",\"loss\",\"loss\",\"loss\",\"loss\",\"loss\",\"loss\",\"loss\",\"loss\",\"loss\",\"loss\",\"loss\",\"loss\",\"loss\",\"loss\",\"loss\",\"loss\",\"loss\",\"loss\",\"loss\",\"loss\",\"loss\",\"loss\",\"loss\",\"loss\",\"loss\",\"loss\",\"loss\",\"loss\",\"loss\",\"loss\",\"loss\",\"loss\",\"loss\",\"loss\",\"loss\",\"loss\",\"loss\",\"loss\",\"loss\",\"loss\",\"loss\",\"loss\",\"loss\",\"loss\",\"loss\",\"loss\",\"loss\",\"loss\",\"loss\",\"loss\",\"loss\",\"loss\",\"loss\",\"loss\",\"loss\",\"loss\",\"loss\",\"loss\",\"loss\",\"loss\",\"loss\",\"loss\",\"loss\",\"loss\",\"loss\",\"loss\",\"loss\",\"loss\",\"loss\",\"loss\",\"loss\",\"loss\",\"loss\",\"loss\",\"loss\",\"loss\",\"loss\",\"loss\",\"loss\",\"loss\",\"loss\",\"loss\",\"loss\",\"loss\",\"loss\",\"loss\",\"loss\",\"loss\",\"loss\",\"loss\",\"loss\",\"loss\",\"loss\",\"loss\",\"loss\",\"loss\",\"loss\",\"loss\",\"loss\",\"loss\",\"loss\",\"loss\",\"loss\",\"loss\",\"loss\",\"loss\",\"loss\",\"loss\",\"loss\",\"loss\",\"loss\",\"loss\",\"loss\",\"loss\",\"loss\",\"loss\",\"loss\",\"loss\",\"loss\",\"loss\",\"loss\",\"loss\",\"loss\",\"loss\",\"loss\",\"loss\",\"loss\",\"loss\",\"loss\",\"loss\",\"loss\",\"loss\",\"loss\",\"loss\",\"loss\",\"loss\",\"loss\",\"loss\",\"loss\",\"loss\",\"loss\",\"loss\",\"loss\",\"loss\",\"loss\",\"loss\",\"loss\",\"loss\",\"loss\",\"loss\",\"loss\",\"loss\",\"loss\",\"loss\",\"loss\",\"loss\",\"loss\",\"loss\",\"loss\",\"loss\",\"loss\",\"loss\",\"loss\",\"loss\",\"loss\",\"loss\",\"loss\",\"loss\",\"loss\",\"loss\",\"loss\",\"loss\",\"loss\",\"loss\",\"loss\",\"loss\",\"loss\",\"loss\",\"loss\",\"loss\",\"loss\",\"loss\",\"loss\",\"loss\",\"loss\",\"loss\",\"loss\",\"loss\",\"loss\",\"loss\",\"loss\",\"loss\",\"loss\",\"loss\",\"loss\",\"loss\",\"loss\",\"loss\",\"loss\",\"loss\",\"loss\",\"loss\",\"loss\",\"loss\",\"loss\",\"loss\",\"loss\",\"loss\",\"loss\",\"loss\",\"loss\",\"loss\",\"loss\",\"loss\",\"loss\",\"loss\",\"loss\",\"loss\",\"loss\",\"loss\",\"loss\",\"loss\",\"loss\",\"loss\",\"loss\",\"loss\",\"loss\",\"loss\",\"loss\",\"loss\",\"loss\",\"loss\",\"loss\",\"loss\",\"loss\",\"loss\",\"loss\",\"loss\",\"loss\",\"loss\",\"loss\",\"loss\",\"loss\",\"loss\",\"loss\",\"loss\",\"loss\",\"loss\",\"loss\",\"loss\",\"loss\",\"loss\",\"loss\",\"loss\",\"loss\",\"loss\",\"loss\",\"loss\",\"loss\",\"loss\",\"loss\",\"loss\",\"loss\",\"loss\",\"loss\",\"loss\",\"loss\",\"loss\",\"loss\",\"loss\",\"loss\",\"loss\",\"loss\",\"loss\",\"loss\",\"loss\",\"loss\",\"loss\",\"loss\",\"loss\",\"loss\",\"loss\",\"loss\",\"loss\",\"loss\",\"loss\",\"loss\",\"loss\",\"loss\",\"loss\",\"loss\",\"loss\",\"loss\",\"loss\",\"loss\",\"loss\",\"loss\",\"loss\",\"loss\",\"loss\",\"loss\",\"loss\",\"loss\",\"loss\",\"loss\",\"loss\",\"loss\",\"loss\",\"loss\",\"loss\",\"loss\",\"loss\",\"loss\",\"loss\",\"loss\",\"loss\",\"loss\",\"loss\",\"loss\",\"loss\",\"loss\",\"loss\",\"loss\",\"loss\",\"loss\",\"loss\",\"loss\",\"loss\",\"loss\",\"loss\",\"loss\",\"loss\",\"loss\",\"loss\",\"loss\",\"loss\",\"loss\",\"loss\",\"loss\",\"loss\",\"loss\",\"loss\",\"loss\",\"loss\",\"loss\",\"loss\",\"loss\",\"loss\",\"loss\",\"loss\",\"loss\",\"loss\",\"loss\",\"loss\",\"loss\",\"loss\",\"loss\",\"loss\",\"loss\",\"loss\",\"loss\",\"loss\",\"loss\",\"loss\",\"loss\",\"loss\",\"loss\",\"loss\",\"loss\",\"loss\",\"loss\",\"loss\",\"loss\",\"loss\",\"loss\",\"loss\",\"loss\",\"loss\",\"loss\",\"loss\",\"loss\",\"loss\",\"loss\",\"loss\",\"loss\",\"loss\",\"loss\",\"loss\",\"loss\",\"loss\",\"loss\",\"loss\",\"loss\",\"loss\",\"loss\",\"loss\",\"loss\",\"loss\",\"loss\",\"loss\",\"loss\",\"loss\",\"loss\",\"loss\",\"loss\",\"loss\",\"loss\",\"loss\",\"loss\",\"loss\",\"loss\",\"loss\",\"loss\",\"loss\",\"loss\",\"loss\",\"loss\",\"loss\",\"loss\",\"loss\",\"loss\",\"loss\",\"loss\",\"loss\",\"loss\",\"loss\",\"loss\",\"loss\",\"loss\",\"loss\",\"loss\",\"loss\",\"loss\",\"loss\"],\"index\":[0,1,2,3,4,5,6,7,8,9,10,11,12,13,14,15,16,17,18,19,20,21,22,23,24,25,26,27,28,29,30,31,32,33,34,35,36,37,38,39,40,41,42,43,44,45,46,47,48,49,50,51,52,53,54,55,56,57,58,59,60,61,62,63,64,65,66,67,68,69,70,71,72,73,74,75,76,77,78,79,80,81,82,83,84,85,86,87,88,89,90,91,92,93,94,95,96,97,98,99,100,101,102,103,104,105,106,107,108,109,110,111,112,113,114,115,116,117,118,119,120,121,122,123,124,125,126,127,128,129,130,131,132,133,134,135,136,137,138,139,140,141,142,143,144,145,146,147,148,149,150,151,152,153,154,155,156,157,158,159,160,161,162,163,164,165,166,167,168,169,170,171,172,173,174,175,176,177,178,179,180,181,182,183,184,185,186,187,188,189,190,191,192,193,194,195,196,197,198,199,200,201,202,203,204,205,206,207,208,209,210,211,212,213,214,215,216,217,218,219,220,221,222,223,224,225,226,227,228,229,230,231,232,233,234,235,236,237,238,239,240,241,242,243,244,245,246,247,248,249,250,251,252,253,254,255,256,257,258,259,260,261,262,263,264,265,266,267,268,269,270,271,272,273,274,275,276,277,278,279,280,281,282,283,284,285,286,287,288,289,290,291,292,293,294,295,296,297,298,299,300,301,302,303,304,305,306,307,308,309,310,311,312,313,314,315,316,317,318,319,320,321,322,323,324,325,326,327,328,329,330,331,332,333,334,335,336,337,338,339,340,341,342,343,344,345,346,347,348,349,350,351,352,353,354,355,356,357,358,359,360,361,362,363,364,365,366,367,368,369,370,371,372,373,374,375,376,377,378,379,380,381,382,383,384,385,386,387,388,389,390,391,392,393,394,395,396,397,398,399,400,401,402,403,404,405,406,407,408,409,410,411,412,413,414,415,416,417,418,419,420,421,422,423,424,425,426,427,428,429,430,431,432,433,434,435,436,437,438,439,440,441,442,443,444,445,446,447,448,449,450,451,452,453,454,455,456,457,458,459,460,461,462,463,464,465,466,467,468,469,470,471,472,473,474,475,476,477,478,479,480,481,482,483,484,485,486,487,488,489,490,491,492,493,494,495,496,497,498,499,500,501,502,503,504,505,506,507,508,509,510,511,512,513,514,515,516,517,518,519,520,521,522,523,524,525,526,527,528,529,530,531,532,533,534,535,536,537,538,539,540,541,542,543,544,545,546,547,548,549,550,551,552,553,554,555,556,557,558,559,560,561,562,563,564,565,566,567,568,569,570,571,572,573,574,575,576,577,578,579,580,581,582,583,584,585,586,587,588,589,590,591,592,593,594,595,596,597,598,599,600,601,602,603,604,605,606,607,608,609,610,611,612,613,614,615,616,617,618,619,620,621,622,623,624,625,626,627,628,629,630,631,632,633,634,635,636,637,638,639,640,641,642,643,644,645,646,647,648,649,650,651,652,653,654,655,656,657,658,659,660,661,662,663,664,665,666,667,668,669,670,671,672,673,674,675,676,677,678,679,680,681,682,683,684,685,686,687,688,689,690,691,692,693,694,695,696,697,698,699,700,701,702,703,704,705,706,707,708,709,710,711,712,713,714,715,716,717,718,719,720,721,722,723,724,725,726,727,728,729,730,731,732,733,734,735,736,737,738,739,740,741,742,743,744,745,746,747,748,749,750,751,752,753,754,755,756,757,758,759,760,761,762,763,764,765,766,767,768,769,770,771,772,773,774,775,776,777,778,779,780,781,782,783,784,785,786,787,788,789,790,791,792,793,794,795,796,797,798,799,800,801,802,803,804,805,806,807,808,809,810,811,812,813,814,815,816,817,818,819,820,821,822,823,824,825,826,827,828,829,830,831,832,833,834,835,836,837,838,839,840,841,842,843,844,845,846,847,848,849,850,851,852,853,854,855,856,857,858,859,860,861,862,863,864,865,866,867,868,869,870,871,872,873,874,875,876,877,878,879,880,881,882,883,884,885,886,887,888,889,890,891,892,893,894,895,896,897,898,899,900,901,902,903,904,905,906,907,908,909,910,911,912,913,914,915,916,917,918,919,920,921,922,923,924,925,926,927,928,929,930,931,932,933,934,935,936,937,938,939,940,941,942,943,944,945,946,947,948,949,950,951,952,953,954,955,956,957,958,959,960,961,962,963,964,965,966,967,968,969,970,971,972,973,974,975,976,977,978,979,980,981,982,983,984,985,986,987,988,989,990,991,992,993,994,995,996,997,998,999],\"value\":{\"__ndarray__\":\"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\",\"dtype\":\"float64\",\"shape\":[1000]}},\"selected\":{\"id\":\"6665\",\"type\":\"Selection\"},\"selection_policy\":{\"id\":\"6693\",\"type\":\"UnionRenderers\"}},\"id\":\"6664\",\"type\":\"ColumnDataSource\"},{\"attributes\":{\"label\":{\"value\":\"loss\"},\"renderers\":[{\"id\":\"6670\",\"type\":\"GlyphRenderer\"}]},\"id\":\"6679\",\"type\":\"LegendItem\"},{\"attributes\":{},\"id\":\"6704\",\"type\":\"UnionRenderers\"},{\"attributes\":{\"callback\":null,\"renderers\":[{\"id\":\"6670\",\"type\":\"GlyphRenderer\"},{\"id\":\"6686\",\"type\":\"GlyphRenderer\"}],\"tooltips\":[[\"Variable\",\"@{Variable}\"],[\"index\",\"@{index}\"],[\"value\",\"@{value}\"]]},\"id\":\"6627\",\"type\":\"HoverTool\"},{\"attributes\":{},\"id\":\"6649\",\"type\":\"PanTool\"},{\"attributes\":{\"line_alpha\":0.1,\"line_color\":\"#1f77b4\",\"line_width\":2,\"x\":{\"field\":\"index\"},\"y\":{\"field\":\"value\"}},\"id\":\"6668\",\"type\":\"Line\"},{\"attributes\":{},\"id\":\"6634\",\"type\":\"LinearScale\"},{\"attributes\":{\"line_alpha\":0.2,\"line_color\":\"#1f77b4\",\"line_width\":2,\"x\":{\"field\":\"index\"},\"y\":{\"field\":\"value\"}},\"id\":\"6669\",\"type\":\"Line\"},{\"attributes\":{},\"id\":\"6652\",\"type\":\"ResetTool\"},{\"attributes\":{\"data_source\":{\"id\":\"6664\",\"type\":\"ColumnDataSource\"},\"glyph\":{\"id\":\"6667\",\"type\":\"Line\"},\"hover_glyph\":null,\"muted_glyph\":{\"id\":\"6669\",\"type\":\"Line\"},\"nonselection_glyph\":{\"id\":\"6668\",\"type\":\"Line\"},\"selection_glyph\":null,\"view\":{\"id\":\"6671\",\"type\":\"CDSView\"}},\"id\":\"6670\",\"type\":\"GlyphRenderer\"},{\"attributes\":{},\"id\":\"6663\",\"type\":\"BasicTickFormatter\"},{\"attributes\":{\"text\":\"loss\",\"text_color\":{\"value\":\"black\"},\"text_font_size\":{\"value\":\"12pt\"}},\"id\":\"6630\",\"type\":\"Title\"},{\"attributes\":{},\"id\":\"6639\",\"type\":\"BasicTicker\"},{\"attributes\":{\"line_alpha\":0.2,\"line_color\":\"#ff7f0e\",\"line_width\":2,\"x\":{\"field\":\"index\"},\"y\":{\"field\":\"value\"}},\"id\":\"6685\",\"type\":\"Line\"},{\"attributes\":{},\"id\":\"6693\",\"type\":\"UnionRenderers\"},{\"attributes\":{\"label\":{\"value\":\"val_loss\"},\"renderers\":[{\"id\":\"6686\",\"type\":\"GlyphRenderer\"}]},\"id\":\"6696\",\"type\":\"LegendItem\"},{\"attributes\":{\"line_color\":\"#1f77b4\",\"line_width\":2,\"x\":{\"field\":\"index\"},\"y\":{\"field\":\"value\"}},\"id\":\"6667\",\"type\":\"Line\"},{\"attributes\":{\"grid_line_color\":{\"value\":null},\"ticker\":{\"id\":\"6639\",\"type\":\"BasicTicker\"}},\"id\":\"6642\",\"type\":\"Grid\"},{\"attributes\":{\"source\":{\"id\":\"6664\",\"type\":\"ColumnDataSource\"}},\"id\":\"6671\",\"type\":\"CDSView\"},{\"attributes\":{\"data_source\":{\"id\":\"6680\",\"type\":\"ColumnDataSource\"},\"glyph\":{\"id\":\"6683\",\"type\":\"Line\"},\"hover_glyph\":null,\"muted_glyph\":{\"id\":\"6685\",\"type\":\"Line\"},\"nonselection_glyph\":{\"id\":\"6684\",\"type\":\"Line\"},\"selection_glyph\":null,\"view\":{\"id\":\"6687\",\"type\":\"CDSView\"}},\"id\":\"6686\",\"type\":\"GlyphRenderer\"},{\"attributes\":{\"callback\":null,\"data\":{\"Variable\":[\"val_loss\",\"val_loss\",\"val_loss\",\"val_loss\",\"val_loss\",\"val_loss\",\"val_loss\",\"val_loss\",\"val_loss\",\"val_loss\",\"val_loss\",\"val_loss\",\"val_loss\",\"val_loss\",\"val_loss\",\"val_loss\",\"val_loss\",\"val_loss\",\"val_loss\",\"val_loss\",\"val_loss\",\"val_loss\",\"val_loss\",\"val_loss\",\"val_loss\",\"val_loss\",\"val_loss\",\"val_loss\",\"val_loss\",\"val_loss\",\"val_loss\",\"val_loss\",\"val_loss\",\"val_loss\",\"val_loss\",\"val_loss\",\"val_loss\",\"val_loss\",\"val_loss\",\"val_loss\",\"val_loss\",\"val_loss\",\"val_loss\",\"val_loss\",\"val_loss\",\"val_loss\",\"val_loss\",\"val_loss\",\"val_loss\",\"val_loss\",\"val_loss\",\"val_loss\",\"val_loss\",\"val_loss\",\"val_loss\",\"val_loss\",\"val_loss\",\"val_loss\",\"val_loss\",\"val_loss\",\"val_loss\",\"val_loss\",\"val_loss\",\"val_loss\",\"val_loss\",\"val_loss\",\"val_loss\",\"val_loss\",\"val_loss\",\"val_loss\",\"val_loss\",\"val_loss\",\"val_loss\",\"val_loss\",\"val_loss\",\"val_loss\",\"val_loss\",\"val_loss\",\"val_loss\",\"val_loss\",\"val_loss\",\"val_loss\",\"val_loss\",\"val_loss\",\"val_loss\",\"val_loss\",\"val_loss\",\"val_loss\",\"val_loss\",\"val_loss\",\"val_loss\",\"val_loss\",\"val_loss\",\"val_loss\",\"val_loss\",\"val_loss\",\"val_loss\",\"val_loss\",\"val_loss\",\"val_loss\",\"val_loss\",\"val_loss\",\"val_loss\",\"val_loss\",\"val_loss\",\"val_loss\",\"val_loss\",\"val_loss\",\"val_loss\",\"val_loss\",\"val_loss\",\"val_loss\",\"val_loss\",\"val_loss\",\"val_loss\",\"val_loss\",\"val_loss\",\"val_loss\",\"val_loss\",\"val_loss\",\"val_loss\",\"val_loss\",\"val_loss\",\"val_loss\",\"val_loss\",\"val_loss\",\"val_loss\",\"val_loss\",\"val_loss\",\"val_loss\",\"val_loss\",\"val_loss\",\"val_loss\",\"val_loss\",\"val_loss\",\"val_loss\",\"val_loss\",\"val_loss\",\"val_loss\",\"val_loss\",\"val_loss\",\"val_loss\",\"val_loss\",\"val_loss\",\"val_loss\",\"val_loss\",\"val_loss\",\"val_loss\",\"val_loss\",\"val_loss\",\"val_loss\",\"val_loss\",\"val_loss\",\"val_loss\",\"val_loss\",\"val_loss\",\"val_loss\",\"val_loss\",\"val_loss\",\"val_loss\",\"val_loss\",\"val_loss\",\"val_loss\",\"val_loss\",\"val_loss\",\"val_loss\",\"val_loss\",\"val_loss\",\"val_loss\",\"val_loss\",\"val_loss\",\"val_loss\",\"val_loss\",\"val_loss\",\"val_loss\",\"val_loss\",\"val_loss\",\"val_loss\",\"val_loss\",\"val_loss\",\"val_loss\",\"val_loss\",\"val_loss\",\"val_loss\",\"val_loss\",\"val_loss\",\"val_loss\",\"val_loss\",\"val_loss\",\"val_loss\",\"val_loss\",\"val_loss\",\"val_loss\",\"val_loss\",\"val_loss\",\"val_loss\",\"val_loss\",\"val_loss\",\"val_loss\",\"val_loss\",\"val_loss\",\"val_loss\",\"val_loss\",\"val_loss\",\"val_loss\",\"val_loss\",\"val_loss\",\"val_loss\",\"val_loss\",\"val_loss\",\"val_loss\",\"val_loss\",\"val_loss\",\"val_loss\",\"val_loss\",\"val_loss\",\"val_loss\",\"val_loss\",\"val_loss\",\"val_loss\",\"val_loss\",\"val_loss\",\"val_loss\",\"val_loss\",\"val_loss\",\"val_loss\",\"val_loss\",\"val_loss\",\"val_loss\",\"val_loss\",\"val_loss\",\"val_loss\",\"val_loss\",\"val_loss\",\"val_loss\",\"val_loss\",\"val_loss\",\"val_loss\",\"val_loss\",\"val_loss\",\"val_loss\",\"val_loss\",\"val_loss\",\"val_loss\",\"val_loss\",\"val_loss\",\"val_loss\",\"val_loss\",\"val_loss\",\"val_loss\",\"val_loss\",\"val_loss\",\"val_loss\",\"val_loss\",\"val_loss\",\"val_loss\",\"val_loss\",\"val_loss\",\"val_loss\",\"val_loss\",\"val_loss\",\"val_loss\",\"val_loss\",\"val_loss\",\"val_loss\",\"val_loss\",\"val_loss\",\"val_loss\",\"val_loss\",\"val_loss\",\"val_loss\",\"val_loss\",\"val_loss\",\"val_loss\",\"val_loss\",\"val_loss\",\"val_loss\",\"val_loss\",\"val_loss\",\"val_loss\",\"val_loss\",\"val_loss\",\"val_loss\",\"val_loss\",\"val_loss\",\"val_loss\",\"val_loss\",\"val_loss\",\"val_loss\",\"val_loss\",\"val_loss\",\"val_loss\",\"val_loss\",\"val_loss\",\"val_loss\",\"val_loss\",\"val_loss\",\"val_loss\",\"val_loss\",\"val_loss\",\"val_loss\",\"val_loss\",\"val_loss\",\"val_loss\",\"val_loss\",\"val_loss\",\"val_loss\",\"val_loss\",\"val_loss\",\"val_loss\",\"val_loss\",\"val_loss\",\"val_loss\",\"val_loss\",\"val_loss\",\"val_loss\",\"val_loss\",\"val_loss\",\"val_loss\",\"val_loss\",\"val_loss\",\"val_loss\",\"val_loss\",\"val_loss\",\"val_loss\",\"val_loss\",\"val_loss\",\"val_loss\",\"val_loss\",\"val_loss\",\"val_loss\",\"val_loss\",\"val_loss\",\"val_loss\",\"val_loss\",\"val_loss\",\"val_loss\",\"val_loss\",\"val_loss\",\"val_loss\",\"val_loss\",\"val_loss\",\"val_loss\",\"val_loss\",\"val_loss\",\"val_loss\",\"val_loss\",\"val_loss\",\"val_loss\",\"val_loss\",\"val_loss\",\"val_loss\",\"val_loss\",\"val_loss\",\"val_loss\",\"val_loss\",\"val_loss\",\"val_loss\",\"val_loss\",\"val_loss\",\"val_loss\",\"val_loss\",\"val_loss\",\"val_loss\",\"val_loss\",\"val_loss\",\"val_loss\",\"val_loss\",\"val_loss\",\"val_loss\",\"val_loss\",\"val_loss\",\"val_loss\",\"val_loss\",\"val_loss\",\"val_loss\",\"val_loss\",\"val_loss\",\"val_loss\",\"val_loss\",\"val_loss\",\"val_loss\",\"val_loss\",\"val_loss\",\"val_loss\",\"val_loss\",\"val_loss\",\"val_loss\",\"val_loss\",\"val_loss\",\"val_loss\",\"val_loss\",\"val_loss\",\"val_loss\",\"val_loss\",\"val_loss\",\"val_loss\",\"val_loss\",\"val_loss\",\"val_loss\",\"val_loss\",\"val_loss\",\"val_loss\",\"val_loss\",\"val_loss\",\"val_loss\",\"val_loss\",\"val_loss\",\"val_loss\",\"val_loss\",\"val_loss\",\"val_loss\",\"val_loss\",\"val_loss\",\"val_loss\",\"val_loss\",\"val_loss\",\"val_loss\",\"val_loss\",\"val_loss\",\"val_loss\",\"val_loss\",\"val_loss\",\"val_loss\",\"val_loss\",\"val_loss\",\"val_loss\",\"val_loss\",\"val_loss\",\"val_loss\",\"val_loss\",\"val_loss\",\"val_loss\",\"val_loss\",\"val_loss\",\"val_loss\",\"val_loss\",\"val_loss\",\"val_loss\",\"val_loss\",\"val_loss\",\"val_loss\",\"val_loss\",\"val_loss\",\"val_loss\",\"val_loss\",\"val_loss\",\"val_loss\",\"val_loss\",\"val_loss\",\"val_loss\",\"val_loss\",\"val_loss\",\"val_loss\",\"val_loss\",\"val_loss\",\"val_loss\",\"val_loss\",\"val_loss\",\"val_loss\",\"val_loss\",\"val_loss\",\"val_loss\",\"val_loss\",\"val_loss\",\"val_loss\",\"val_loss\",\"val_loss\",\"val_loss\",\"val_loss\",\"val_loss\",\"val_loss\",\"val_loss\",\"val_loss\",\"val_loss\",\"val_loss\",\"val_loss\",\"val_loss\",\"val_loss\",\"val_loss\",\"val_loss\",\"val_loss\",\"val_loss\",\"val_loss\",\"val_loss\",\"val_loss\",\"val_loss\",\"val_loss\",\"val_loss\",\"val_loss\",\"val_loss\",\"val_loss\",\"val_loss\",\"val_loss\",\"val_loss\",\"val_loss\",\"val_loss\",\"val_loss\",\"val_loss\",\"val_loss\",\"val_loss\",\"val_loss\",\"val_loss\",\"val_loss\",\"val_loss\",\"val_loss\",\"val_loss\",\"val_loss\",\"val_loss\",\"val_loss\",\"val_loss\",\"val_loss\",\"val_loss\",\"val_loss\",\"val_loss\",\"val_loss\",\"val_loss\",\"val_loss\",\"val_loss\",\"val_loss\",\"val_loss\",\"val_loss\",\"val_loss\",\"val_loss\",\"val_loss\",\"val_loss\",\"val_loss\",\"val_loss\",\"val_loss\",\"val_loss\",\"val_loss\",\"val_loss\",\"val_loss\",\"val_loss\",\"val_loss\",\"val_loss\",\"val_loss\",\"val_loss\",\"val_loss\",\"val_loss\",\"val_loss\",\"val_loss\",\"val_loss\",\"val_loss\",\"val_loss\",\"val_loss\",\"val_loss\",\"val_loss\",\"val_loss\",\"val_loss\",\"val_loss\",\"val_loss\",\"val_loss\",\"val_loss\",\"val_loss\",\"val_loss\",\"val_loss\",\"val_loss\",\"val_loss\",\"val_loss\",\"val_loss\",\"val_loss\",\"val_loss\",\"val_loss\",\"val_loss\",\"val_loss\",\"val_loss\",\"val_loss\",\"val_loss\",\"val_loss\",\"val_loss\",\"val_loss\",\"val_loss\",\"val_loss\",\"val_loss\",\"val_loss\",\"val_loss\",\"val_loss\",\"val_loss\",\"val_loss\",\"val_loss\",\"val_loss\",\"val_loss\",\"val_loss\",\"val_loss\",\"val_loss\",\"val_loss\",\"val_loss\",\"val_loss\",\"val_loss\",\"val_loss\",\"val_loss\",\"val_loss\",\"val_loss\",\"val_loss\",\"val_loss\",\"val_loss\",\"val_loss\",\"val_loss\",\"val_loss\",\"val_loss\",\"val_loss\",\"val_loss\",\"val_loss\",\"val_loss\",\"val_loss\",\"val_loss\",\"val_loss\",\"val_loss\",\"val_loss\",\"val_loss\",\"val_loss\",\"val_loss\",\"val_loss\",\"val_loss\",\"val_loss\",\"val_loss\",\"val_loss\",\"val_loss\",\"val_loss\",\"val_loss\",\"val_loss\",\"val_loss\",\"val_loss\",\"val_loss\",\"val_loss\",\"val_loss\",\"val_loss\",\"val_loss\",\"val_loss\",\"val_loss\",\"val_loss\",\"val_loss\",\"val_loss\",\"val_loss\",\"val_loss\",\"val_loss\",\"val_loss\",\"val_loss\",\"val_loss\",\"val_loss\",\"val_loss\",\"val_loss\",\"val_loss\",\"val_loss\",\"val_loss\",\"val_loss\",\"val_loss\",\"val_loss\",\"val_loss\",\"val_loss\",\"val_loss\",\"val_loss\",\"val_loss\",\"val_loss\",\"val_loss\",\"val_loss\",\"val_loss\",\"val_loss\",\"val_loss\",\"val_loss\",\"val_loss\",\"val_loss\",\"val_loss\",\"val_loss\",\"val_loss\",\"val_loss\",\"val_loss\",\"val_loss\",\"val_loss\",\"val_loss\",\"val_loss\",\"val_loss\",\"val_loss\",\"val_loss\",\"val_loss\",\"val_loss\",\"val_loss\",\"val_loss\",\"val_loss\",\"val_loss\",\"val_loss\",\"val_loss\",\"val_loss\",\"val_loss\",\"val_loss\",\"val_loss\",\"val_loss\",\"val_loss\",\"val_loss\",\"val_loss\",\"val_loss\",\"val_loss\",\"val_loss\",\"val_loss\",\"val_loss\",\"val_loss\",\"val_loss\",\"val_loss\",\"val_loss\",\"val_loss\",\"val_loss\",\"val_loss\",\"val_loss\",\"val_loss\",\"val_loss\",\"val_loss\",\"val_loss\",\"val_loss\",\"val_loss\",\"val_loss\",\"val_loss\",\"val_loss\",\"val_loss\",\"val_loss\",\"val_loss\",\"val_loss\",\"val_loss\",\"val_loss\",\"val_loss\",\"val_loss\",\"val_loss\",\"val_loss\",\"val_loss\",\"val_loss\",\"val_loss\",\"val_loss\",\"val_loss\",\"val_loss\",\"val_loss\",\"val_loss\",\"val_loss\",\"val_loss\",\"val_loss\",\"val_loss\",\"val_loss\",\"val_loss\",\"val_loss\",\"val_loss\",\"val_loss\",\"val_loss\",\"val_loss\",\"val_loss\",\"val_loss\",\"val_loss\",\"val_loss\",\"val_loss\",\"val_loss\",\"val_loss\",\"val_loss\",\"val_loss\",\"val_loss\",\"val_loss\",\"val_loss\",\"val_loss\",\"val_loss\",\"val_loss\",\"val_loss\",\"val_loss\",\"val_loss\",\"val_loss\",\"val_loss\",\"val_loss\",\"val_loss\",\"val_loss\",\"val_loss\",\"val_loss\",\"val_loss\",\"val_loss\",\"val_loss\",\"val_loss\",\"val_loss\",\"val_loss\",\"val_loss\",\"val_loss\",\"val_loss\",\"val_loss\",\"val_loss\",\"val_loss\",\"val_loss\",\"val_loss\",\"val_loss\",\"val_loss\",\"val_loss\",\"val_loss\",\"val_loss\",\"val_loss\",\"val_loss\",\"val_loss\",\"val_loss\",\"val_loss\",\"val_loss\",\"val_loss\",\"val_loss\",\"val_loss\",\"val_loss\",\"val_loss\",\"val_loss\",\"val_loss\",\"val_loss\",\"val_loss\",\"val_loss\",\"val_loss\",\"val_loss\",\"val_loss\",\"val_loss\",\"val_loss\",\"val_loss\",\"val_loss\",\"val_loss\",\"val_loss\",\"val_loss\",\"val_loss\",\"val_loss\",\"val_loss\",\"val_loss\",\"val_loss\",\"val_loss\",\"val_loss\",\"val_loss\",\"val_loss\",\"val_loss\",\"val_loss\",\"val_loss\",\"val_loss\",\"val_loss\",\"val_loss\",\"val_loss\",\"val_loss\",\"val_loss\",\"val_loss\",\"val_loss\",\"val_loss\",\"val_loss\",\"val_loss\",\"val_loss\",\"val_loss\",\"val_loss\",\"val_loss\",\"val_loss\",\"val_loss\",\"val_loss\",\"val_loss\",\"val_loss\",\"val_loss\",\"val_loss\",\"val_loss\",\"val_loss\",\"val_loss\",\"val_loss\",\"val_loss\",\"val_loss\",\"val_loss\",\"val_loss\",\"val_loss\",\"val_loss\",\"val_loss\",\"val_loss\",\"val_loss\",\"val_loss\",\"val_loss\",\"val_loss\",\"val_loss\",\"val_loss\",\"val_loss\",\"val_loss\",\"val_loss\",\"val_loss\",\"val_loss\",\"val_loss\",\"val_loss\",\"val_loss\",\"val_loss\",\"val_loss\",\"val_loss\",\"val_loss\",\"val_loss\",\"val_loss\",\"val_loss\",\"val_loss\",\"val_loss\",\"val_loss\",\"val_loss\",\"val_loss\",\"val_loss\",\"val_loss\",\"val_loss\",\"val_loss\",\"val_loss\",\"val_loss\",\"val_loss\",\"val_loss\",\"val_loss\",\"val_loss\",\"val_loss\",\"val_loss\",\"val_loss\",\"val_loss\",\"val_loss\",\"val_loss\",\"val_loss\",\"val_loss\",\"val_loss\",\"val_loss\",\"val_loss\",\"val_loss\",\"val_loss\",\"val_loss\",\"val_loss\",\"val_loss\",\"val_loss\",\"val_loss\",\"val_loss\",\"val_loss\",\"val_loss\",\"val_loss\",\"val_loss\",\"val_loss\",\"val_loss\",\"val_loss\",\"val_loss\",\"val_loss\",\"val_loss\",\"val_loss\",\"val_loss\",\"val_loss\",\"val_loss\",\"val_loss\",\"val_loss\",\"val_loss\",\"val_loss\",\"val_loss\",\"val_loss\",\"val_loss\",\"val_loss\",\"val_loss\",\"val_loss\",\"val_loss\",\"val_loss\",\"val_loss\",\"val_loss\",\"val_loss\",\"val_loss\",\"val_loss\",\"val_loss\",\"val_loss\",\"val_loss\",\"val_loss\",\"val_loss\",\"val_loss\",\"val_loss\",\"val_loss\",\"val_loss\",\"val_loss\",\"val_loss\",\"val_loss\",\"val_loss\",\"val_loss\",\"val_loss\",\"val_loss\",\"val_loss\",\"val_loss\",\"val_loss\",\"val_loss\",\"val_loss\",\"val_loss\",\"val_loss\",\"val_loss\",\"val_loss\",\"val_loss\",\"val_loss\",\"val_loss\",\"val_loss\",\"val_loss\",\"val_loss\",\"val_loss\",\"val_loss\",\"val_loss\",\"val_loss\",\"val_loss\",\"val_loss\",\"val_loss\",\"val_loss\",\"val_loss\",\"val_loss\",\"val_loss\",\"val_loss\",\"val_loss\",\"val_loss\",\"val_loss\",\"val_loss\",\"val_loss\",\"val_loss\",\"val_loss\",\"val_loss\",\"val_loss\",\"val_loss\",\"val_loss\",\"val_loss\",\"val_loss\"],\"index\":[0,1,2,3,4,5,6,7,8,9,10,11,12,13,14,15,16,17,18,19,20,21,22,23,24,25,26,27,28,29,30,31,32,33,34,35,36,37,38,39,40,41,42,43,44,45,46,47,48,49,50,51,52,53,54,55,56,57,58,59,60,61,62,63,64,65,66,67,68,69,70,71,72,73,74,75,76,77,78,79,80,81,82,83,84,85,86,87,88,89,90,91,92,93,94,95,96,97,98,99,100,101,102,103,104,105,106,107,108,109,110,111,112,113,114,115,116,117,118,119,120,121,122,123,124,125,126,127,128,129,130,131,132,133,134,135,136,137,138,139,140,141,142,143,144,145,146,147,148,149,150,151,152,153,154,155,156,157,158,159,160,161,162,163,164,165,166,167,168,169,170,171,172,173,174,175,176,177,178,179,180,181,182,183,184,185,186,187,188,189,190,191,192,193,194,195,196,197,198,199,200,201,202,203,204,205,206,207,208,209,210,211,212,213,214,215,216,217,218,219,220,221,222,223,224,225,226,227,228,229,230,231,232,233,234,235,236,237,238,239,240,241,242,243,244,245,246,247,248,249,250,251,252,253,254,255,256,257,258,259,260,261,262,263,264,265,266,267,268,269,270,271,272,273,274,275,276,277,278,279,280,281,282,283,284,285,286,287,288,289,290,291,292,293,294,295,296,297,298,299,300,301,302,303,304,305,306,307,308,309,310,311,312,313,314,315,316,317,318,319,320,321,322,323,324,325,326,327,328,329,330,331,332,333,334,335,336,337,338,339,340,341,342,343,344,345,346,347,348,349,350,351,352,353,354,355,356,357,358,359,360,361,362,363,364,365,366,367,368,369,370,371,372,373,374,375,376,377,378,379,380,381,382,383,384,385,386,387,388,389,390,391,392,393,394,395,396,397,398,399,400,401,402,403,404,405,406,407,408,409,410,411,412,413,414,415,416,417,418,419,420,421,422,423,424,425,426,427,428,429,430,431,432,433,434,435,436,437,438,439,440,441,442,443,444,445,446,447,448,449,450,451,452,453,454,455,456,457,458,459,460,461,462,463,464,465,466,467,468,469,470,471,472,473,474,475,476,477,478,479,480,481,482,483,484,485,486,487,488,489,490,491,492,493,494,495,496,497,498,499,500,501,502,503,504,505,506,507,508,509,510,511,512,513,514,515,516,517,518,519,520,521,522,523,524,525,526,527,528,529,530,531,532,533,534,535,536,537,538,539,540,541,542,543,544,545,546,547,548,549,550,551,552,553,554,555,556,557,558,559,560,561,562,563,564,565,566,567,568,569,570,571,572,573,574,575,576,577,578,579,580,581,582,583,584,585,586,587,588,589,590,591,592,593,594,595,596,597,598,599,600,601,602,603,604,605,606,607,608,609,610,611,612,613,614,615,616,617,618,619,620,621,622,623,624,625,626,627,628,629,630,631,632,633,634,635,636,637,638,639,640,641,642,643,644,645,646,647,648,649,650,651,652,653,654,655,656,657,658,659,660,661,662,663,664,665,666,667,668,669,670,671,672,673,674,675,676,677,678,679,680,681,682,683,684,685,686,687,688,689,690,691,692,693,694,695,696,697,698,699,700,701,702,703,704,705,706,707,708,709,710,711,712,713,714,715,716,717,718,719,720,721,722,723,724,725,726,727,728,729,730,731,732,733,734,735,736,737,738,739,740,741,742,743,744,745,746,747,748,749,750,751,752,753,754,755,756,757,758,759,760,761,762,763,764,765,766,767,768,769,770,771,772,773,774,775,776,777,778,779,780,781,782,783,784,785,786,787,788,789,790,791,792,793,794,795,796,797,798,799,800,801,802,803,804,805,806,807,808,809,810,811,812,813,814,815,816,817,818,819,820,821,822,823,824,825,826,827,828,829,830,831,832,833,834,835,836,837,838,839,840,841,842,843,844,845,846,847,848,849,850,851,852,853,854,855,856,857,858,859,860,861,862,863,864,865,866,867,868,869,870,871,872,873,874,875,876,877,878,879,880,881,882,883,884,885,886,887,888,889,890,891,892,893,894,895,896,897,898,899,900,901,902,903,904,905,906,907,908,909,910,911,912,913,914,915,916,917,918,919,920,921,922,923,924,925,926,927,928,929,930,931,932,933,934,935,936,937,938,939,940,941,942,943,944,945,946,947,948,949,950,951,952,953,954,955,956,957,958,959,960,961,962,963,964,965,966,967,968,969,970,971,972,973,974,975,976,977,978,979,980,981,982,983,984,985,986,987,988,989,990,991,992,993,994,995,996,997,998,999],\"value\":{\"__ndarray__\":\"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\",\"dtype\":\"float64\",\"shape\":[1000]}},\"selected\":{\"id\":\"6681\",\"type\":\"Selection\"},\"selection_policy\":{\"id\":\"6704\",\"type\":\"UnionRenderers\"}},\"id\":\"6680\",\"type\":\"ColumnDataSource\"},{\"attributes\":{},\"id\":\"6665\",\"type\":\"Selection\"},{\"attributes\":{\"source\":{\"id\":\"6680\",\"type\":\"ColumnDataSource\"}},\"id\":\"6687\",\"type\":\"CDSView\"},{\"attributes\":{\"bottom_units\":\"screen\",\"fill_alpha\":{\"value\":0.5},\"fill_color\":{\"value\":\"lightgrey\"},\"left_units\":\"screen\",\"level\":\"overlay\",\"line_alpha\":{\"value\":1.0},\"line_color\":{\"value\":\"black\"},\"line_dash\":[4,4],\"line_width\":{\"value\":2},\"render_mode\":\"css\",\"right_units\":\"screen\",\"top_units\":\"screen\"},\"id\":\"6677\",\"type\":\"BoxAnnotation\"},{\"attributes\":{\"line_alpha\":0.1,\"line_color\":\"#ff7f0e\",\"line_width\":2,\"x\":{\"field\":\"index\"},\"y\":{\"field\":\"value\"}},\"id\":\"6684\",\"type\":\"Line\"}],\"root_ids\":[\"6629\"]},\"title\":\"Bokeh Application\",\"version\":\"1.1.0\"}};\n",
       "  var render_items = [{\"docid\":\"a2ae73be-17dc-49e0-b752-e2994ad0253a\",\"roots\":{\"6629\":\"8bb10f3d-6af4-4153-9b3b-2b797ebf0c57\"}}];\n",
       "  root.Bokeh.embed.embed_items_notebook(docs_json, render_items);\n",
       "\n",
       "  }\n",
       "  if (root.Bokeh !== undefined) {\n",
       "    embed_document(root);\n",
       "  } else {\n",
       "    var attempts = 0;\n",
       "    var timer = setInterval(function(root) {\n",
       "      if (root.Bokeh !== undefined) {\n",
       "        embed_document(root);\n",
       "        clearInterval(timer);\n",
       "      }\n",
       "      attempts++;\n",
       "      if (attempts > 100) {\n",
       "        console.log(\"Bokeh: ERROR: Unable to run BokehJS code because BokehJS library is missing\");\n",
       "        clearInterval(timer);\n",
       "      }\n",
       "    }, 10, root)\n",
       "  }\n",
       "})(window);"
      ],
      "application/vnd.holoviews_exec.v0+json": "",
      "text/html": [
       "<div id='6629' style='display: table; margin: 0 auto;'>\n",
       "\n",
       "\n",
       "\n",
       "\n",
       "\n",
       "  <div class=\"bk-root\" id=\"8bb10f3d-6af4-4153-9b3b-2b797ebf0c57\" data-root-id=\"6629\"></div>\n",
       "</div>"
      ],
      "text/plain": [
       ":NdOverlay   [Variable]\n",
       "   :Curve   [index]   (value)"
      ]
     },
     "execution_count": 136,
     "metadata": {
      "application/vnd.holoviews_exec.v0+json": {
       "id": "6629"
      }
     },
     "output_type": "execute_result"
    }
   ],
   "source": [
    "hist.loc[:, ['loss', 'val_loss']].hvplot(title='loss')"
   ]
  },
  {
   "cell_type": "code",
   "execution_count": 137,
   "metadata": {},
   "outputs": [
    {
     "data": {
      "application/javascript": [
       "\n",
       "// Ugly hack - see HoloViews #2574 for more information\n",
       "if (!(document.getElementById('6851')) && !(document.getElementById('_anim_imgNone'))) {\n",
       "  console.log(\"Creating DOM nodes dynamically for assumed nbconvert export. To generate clean HTML output set HV_DOC_HTML as an environment variable.\")\n",
       "  var htmlObject = document.createElement('div');\n",
       "  htmlObject.innerHTML = `<div id='6851' style='display: table; margin: 0 auto;'>\n",
       "\n",
       "\n",
       "\n",
       "\n",
       "\n",
       "  <div class=\"bk-root\" id=\"35d2bbcc-eff1-4daf-ad3b-43a67cd77003\" data-root-id=\"6851\"></div>\n",
       "</div>`;\n",
       "  var scriptTags = document.getElementsByTagName('script');\n",
       "  var parentTag = scriptTags[scriptTags.length-1].parentNode;\n",
       "  if (parentTag.attributes.length && (parentTag.attributes[0].name == 'data-shell-mode')) {\n",
       "    alert('Displaying PyViz objects in JupyterLab requires the jupyterlab_pyviz extension to be installed, install it with:\\n\\n\\tjupyter labextension install @pyviz/jupyterlab_pyviz');\n",
       "  } else {\n",
       "    parentTag.append(htmlObject)\n",
       "  }\n",
       "}\n",
       "(function(root) {\n",
       "  function embed_document(root) {\n",
       "    \n",
       "  var docs_json = {\"cfff2b31-9c29-4ffd-86ef-12cb69623e2c\":{\"roots\":{\"references\":[{\"attributes\":{\"below\":[{\"id\":\"6860\",\"type\":\"LinearAxis\"}],\"center\":[{\"id\":\"6864\",\"type\":\"Grid\"},{\"id\":\"6869\",\"type\":\"Grid\"},{\"id\":\"6900\",\"type\":\"Legend\"}],\"left\":[{\"id\":\"6865\",\"type\":\"LinearAxis\"}],\"margin\":null,\"min_border_bottom\":10,\"min_border_left\":10,\"min_border_right\":10,\"min_border_top\":10,\"plot_height\":300,\"plot_width\":700,\"renderers\":[{\"id\":\"6892\",\"type\":\"GlyphRenderer\"},{\"id\":\"6908\",\"type\":\"GlyphRenderer\"}],\"right\":[{\"id\":\"6900\",\"type\":\"Legend\"}],\"sizing_mode\":\"fixed\",\"title\":{\"id\":\"6852\",\"type\":\"Title\"},\"toolbar\":{\"id\":\"6875\",\"type\":\"Toolbar\"},\"x_range\":{\"id\":\"6847\",\"type\":\"Range1d\"},\"x_scale\":{\"id\":\"6856\",\"type\":\"LinearScale\"},\"y_range\":{\"id\":\"6848\",\"type\":\"Range1d\"},\"y_scale\":{\"id\":\"6858\",\"type\":\"LinearScale\"}},\"id\":\"6851\",\"subtype\":\"Figure\",\"type\":\"Plot\"},{\"attributes\":{},\"id\":\"6858\",\"type\":\"LinearScale\"},{\"attributes\":{\"axis_label\":\"\",\"bounds\":\"auto\",\"formatter\":{\"id\":\"6885\",\"type\":\"BasicTickFormatter\"},\"major_label_orientation\":\"horizontal\",\"ticker\":{\"id\":\"6866\",\"type\":\"BasicTicker\"}},\"id\":\"6865\",\"type\":\"LinearAxis\"},{\"attributes\":{},\"id\":\"6866\",\"type\":\"BasicTicker\"},{\"attributes\":{\"bottom_units\":\"screen\",\"fill_alpha\":{\"value\":0.5},\"fill_color\":{\"value\":\"lightgrey\"},\"left_units\":\"screen\",\"level\":\"overlay\",\"line_alpha\":{\"value\":1.0},\"line_color\":{\"value\":\"black\"},\"line_dash\":[4,4],\"line_width\":{\"value\":2},\"render_mode\":\"css\",\"right_units\":\"screen\",\"top_units\":\"screen\"},\"id\":\"6899\",\"type\":\"BoxAnnotation\"},{\"attributes\":{\"label\":{\"value\":\"mae\"},\"renderers\":[{\"id\":\"6892\",\"type\":\"GlyphRenderer\"}]},\"id\":\"6901\",\"type\":\"LegendItem\"},{\"attributes\":{},\"id\":\"6926\",\"type\":\"UnionRenderers\"},{\"attributes\":{\"click_policy\":\"mute\",\"items\":[{\"id\":\"6901\",\"type\":\"LegendItem\"},{\"id\":\"6918\",\"type\":\"LegendItem\"}],\"location\":[0,0]},\"id\":\"6900\",\"type\":\"Legend\"},{\"attributes\":{\"dimension\":1,\"grid_line_color\":{\"value\":null},\"ticker\":{\"id\":\"6866\",\"type\":\"BasicTicker\"}},\"id\":\"6869\",\"type\":\"Grid\"},{\"attributes\":{\"line_alpha\":0.2,\"line_color\":\"#1f77b4\",\"line_width\":2,\"x\":{\"field\":\"index\"},\"y\":{\"field\":\"value\"}},\"id\":\"6891\",\"type\":\"Line\"},{\"attributes\":{\"data_source\":{\"id\":\"6886\",\"type\":\"ColumnDataSource\"},\"glyph\":{\"id\":\"6889\",\"type\":\"Line\"},\"hover_glyph\":null,\"muted_glyph\":{\"id\":\"6891\",\"type\":\"Line\"},\"nonselection_glyph\":{\"id\":\"6890\",\"type\":\"Line\"},\"selection_glyph\":null,\"view\":{\"id\":\"6893\",\"type\":\"CDSView\"}},\"id\":\"6892\",\"type\":\"GlyphRenderer\"},{\"attributes\":{\"source\":{\"id\":\"6886\",\"type\":\"ColumnDataSource\"}},\"id\":\"6893\",\"type\":\"CDSView\"},{\"attributes\":{\"callback\":null,\"data\":{\"Variable\":[\"val_mae\",\"val_mae\",\"val_mae\",\"val_mae\",\"val_mae\",\"val_mae\",\"val_mae\",\"val_mae\",\"val_mae\",\"val_mae\",\"val_mae\",\"val_mae\",\"val_mae\",\"val_mae\",\"val_mae\",\"val_mae\",\"val_mae\",\"val_mae\",\"val_mae\",\"val_mae\",\"val_mae\",\"val_mae\",\"val_mae\",\"val_mae\",\"val_mae\",\"val_mae\",\"val_mae\",\"val_mae\",\"val_mae\",\"val_mae\",\"val_mae\",\"val_mae\",\"val_mae\",\"val_mae\",\"val_mae\",\"val_mae\",\"val_mae\",\"val_mae\",\"val_mae\",\"val_mae\",\"val_mae\",\"val_mae\",\"val_mae\",\"val_mae\",\"val_mae\",\"val_mae\",\"val_mae\",\"val_mae\",\"val_mae\",\"val_mae\",\"val_mae\",\"val_mae\",\"val_mae\",\"val_mae\",\"val_mae\",\"val_mae\",\"val_mae\",\"val_mae\",\"val_mae\",\"val_mae\",\"val_mae\",\"val_mae\",\"val_mae\",\"val_mae\",\"val_mae\",\"val_mae\",\"val_mae\",\"val_mae\",\"val_mae\",\"val_mae\",\"val_mae\",\"val_mae\",\"val_mae\",\"val_mae\",\"val_mae\",\"val_mae\",\"val_mae\",\"val_mae\",\"val_mae\",\"val_mae\",\"val_mae\",\"val_mae\",\"val_mae\",\"val_mae\",\"val_mae\",\"val_mae\",\"val_mae\",\"val_mae\",\"val_mae\",\"val_mae\",\"val_mae\",\"val_mae\",\"val_mae\",\"val_mae\",\"val_mae\",\"val_mae\",\"val_mae\",\"val_mae\",\"val_mae\",\"val_mae\",\"val_mae\",\"val_mae\",\"val_mae\",\"val_mae\",\"val_mae\",\"val_mae\",\"val_mae\",\"val_mae\",\"val_mae\",\"val_mae\",\"val_mae\",\"val_mae\",\"val_mae\",\"val_mae\",\"val_mae\",\"val_mae\",\"val_mae\",\"val_mae\",\"val_mae\",\"val_mae\",\"val_mae\",\"val_mae\",\"val_mae\",\"val_mae\",\"val_mae\",\"val_mae\",\"val_mae\",\"val_mae\",\"val_mae\",\"val_mae\",\"val_mae\",\"val_mae\",\"val_mae\",\"val_mae\",\"val_mae\",\"val_mae\",\"val_mae\",\"val_mae\",\"val_mae\",\"val_mae\",\"val_mae\",\"val_mae\",\"val_mae\",\"val_mae\",\"val_mae\",\"val_mae\",\"val_mae\",\"val_mae\",\"val_mae\",\"val_mae\",\"val_mae\",\"val_mae\",\"val_mae\",\"val_mae\",\"val_mae\",\"val_mae\",\"val_mae\",\"val_mae\",\"val_mae\",\"val_mae\",\"val_mae\",\"val_mae\",\"val_mae\",\"val_mae\",\"val_mae\",\"val_mae\",\"val_mae\",\"val_mae\",\"val_mae\",\"val_mae\",\"val_mae\",\"val_mae\",\"val_mae\",\"val_mae\",\"val_mae\",\"val_mae\",\"val_mae\",\"val_mae\",\"val_mae\",\"val_mae\",\"val_mae\",\"val_mae\",\"val_mae\",\"val_mae\",\"val_mae\",\"val_mae\",\"val_mae\",\"val_mae\",\"val_mae\",\"val_mae\",\"val_mae\",\"val_mae\",\"val_mae\",\"val_mae\",\"val_mae\",\"val_mae\",\"val_mae\",\"val_mae\",\"val_mae\",\"val_mae\",\"val_mae\",\"val_mae\",\"val_mae\",\"val_mae\",\"val_mae\",\"val_mae\",\"val_mae\",\"val_mae\",\"val_mae\",\"val_mae\",\"val_mae\",\"val_mae\",\"val_mae\",\"val_mae\",\"val_mae\",\"val_mae\",\"val_mae\",\"val_mae\",\"val_mae\",\"val_mae\",\"val_mae\",\"val_mae\",\"val_mae\",\"val_mae\",\"val_mae\",\"val_mae\",\"val_mae\",\"val_mae\",\"val_mae\",\"val_mae\",\"val_mae\",\"val_mae\",\"val_mae\",\"val_mae\",\"val_mae\",\"val_mae\",\"val_mae\",\"val_mae\",\"val_mae\",\"val_mae\",\"val_mae\",\"val_mae\",\"val_mae\",\"val_mae\",\"val_mae\",\"val_mae\",\"val_mae\",\"val_mae\",\"val_mae\",\"val_mae\",\"val_mae\",\"val_mae\",\"val_mae\",\"val_mae\",\"val_mae\",\"val_mae\",\"val_mae\",\"val_mae\",\"val_mae\",\"val_mae\",\"val_mae\",\"val_mae\",\"val_mae\",\"val_mae\",\"val_mae\",\"val_mae\",\"val_mae\",\"val_mae\",\"val_mae\",\"val_mae\",\"val_mae\",\"val_mae\",\"val_mae\",\"val_mae\",\"val_mae\",\"val_mae\",\"val_mae\",\"val_mae\",\"val_mae\",\"val_mae\",\"val_mae\",\"val_mae\",\"val_mae\",\"val_mae\",\"val_mae\",\"val_mae\",\"val_mae\",\"val_mae\",\"val_mae\",\"val_mae\",\"val_mae\",\"val_mae\",\"val_mae\",\"val_mae\",\"val_mae\",\"val_mae\",\"val_mae\",\"val_mae\",\"val_mae\",\"val_mae\",\"val_mae\",\"val_mae\",\"val_mae\",\"val_mae\",\"val_mae\",\"val_mae\",\"val_mae\",\"val_mae\",\"val_mae\",\"val_mae\",\"val_mae\",\"val_mae\",\"val_mae\",\"val_mae\",\"val_mae\",\"val_mae\",\"val_mae\",\"val_mae\",\"val_mae\",\"val_mae\",\"val_mae\",\"val_mae\",\"val_mae\",\"val_mae\",\"val_mae\",\"val_mae\",\"val_mae\",\"val_mae\",\"val_mae\",\"val_mae\",\"val_mae\",\"val_mae\",\"val_mae\",\"val_mae\",\"val_mae\",\"val_mae\",\"val_mae\",\"val_mae\",\"val_mae\",\"val_mae\",\"val_mae\",\"val_mae\",\"val_mae\",\"val_mae\",\"val_mae\",\"val_mae\",\"val_mae\",\"val_mae\",\"val_mae\",\"val_mae\",\"val_mae\",\"val_mae\",\"val_mae\",\"val_mae\",\"val_mae\",\"val_mae\",\"val_mae\",\"val_mae\",\"val_mae\",\"val_mae\",\"val_mae\",\"val_mae\",\"val_mae\",\"val_mae\",\"val_mae\",\"val_mae\",\"val_mae\",\"val_mae\",\"val_mae\",\"val_mae\",\"val_mae\",\"val_mae\",\"val_mae\",\"val_mae\",\"val_mae\",\"val_mae\",\"val_mae\",\"val_mae\",\"val_mae\",\"val_mae\",\"val_mae\",\"val_mae\",\"val_mae\",\"val_mae\",\"val_mae\",\"val_mae\",\"val_mae\",\"val_mae\",\"val_mae\",\"val_mae\",\"val_mae\",\"val_mae\",\"val_mae\",\"val_mae\",\"val_mae\",\"val_mae\",\"val_mae\",\"val_mae\",\"val_mae\",\"val_mae\",\"val_mae\",\"val_mae\",\"val_mae\",\"val_mae\",\"val_mae\",\"val_mae\",\"val_mae\",\"val_mae\",\"val_mae\",\"val_mae\",\"val_mae\",\"val_mae\",\"val_mae\",\"val_mae\",\"val_mae\",\"val_mae\",\"val_mae\",\"val_mae\",\"val_mae\",\"val_mae\",\"val_mae\",\"val_mae\",\"val_mae\",\"val_mae\",\"val_mae\",\"val_mae\",\"val_mae\",\"val_mae\",\"val_mae\",\"val_mae\",\"val_mae\",\"val_mae\",\"val_mae\",\"val_mae\",\"val_mae\",\"val_mae\",\"val_mae\",\"val_mae\",\"val_mae\",\"val_mae\",\"val_mae\",\"val_mae\",\"val_mae\",\"val_mae\",\"val_mae\",\"val_mae\",\"val_mae\",\"val_mae\",\"val_mae\",\"val_mae\",\"val_mae\",\"val_mae\",\"val_mae\",\"val_mae\",\"val_mae\",\"val_mae\",\"val_mae\",\"val_mae\",\"val_mae\",\"val_mae\",\"val_mae\",\"val_mae\",\"val_mae\",\"val_mae\",\"val_mae\",\"val_mae\",\"val_mae\",\"val_mae\",\"val_mae\",\"val_mae\",\"val_mae\",\"val_mae\",\"val_mae\",\"val_mae\",\"val_mae\",\"val_mae\",\"val_mae\",\"val_mae\",\"val_mae\",\"val_mae\",\"val_mae\",\"val_mae\",\"val_mae\",\"val_mae\",\"val_mae\",\"val_mae\",\"val_mae\",\"val_mae\",\"val_mae\",\"val_mae\",\"val_mae\",\"val_mae\",\"val_mae\",\"val_mae\",\"val_mae\",\"val_mae\",\"val_mae\",\"val_mae\",\"val_mae\",\"val_mae\",\"val_mae\",\"val_mae\",\"val_mae\",\"val_mae\",\"val_mae\",\"val_mae\",\"val_mae\",\"val_mae\",\"val_mae\",\"val_mae\",\"val_mae\",\"val_mae\",\"val_mae\",\"val_mae\",\"val_mae\",\"val_mae\",\"val_mae\",\"val_mae\",\"val_mae\",\"val_mae\",\"val_mae\",\"val_mae\",\"val_mae\",\"val_mae\",\"val_mae\",\"val_mae\",\"val_mae\",\"val_mae\",\"val_mae\",\"val_mae\",\"val_mae\",\"val_mae\",\"val_mae\",\"val_mae\",\"val_mae\",\"val_mae\",\"val_mae\",\"val_mae\",\"val_mae\",\"val_mae\",\"val_mae\",\"val_mae\",\"val_mae\",\"val_mae\",\"val_mae\",\"val_mae\",\"val_mae\",\"val_mae\",\"val_mae\",\"val_mae\",\"val_mae\",\"val_mae\",\"val_mae\",\"val_mae\",\"val_mae\",\"val_mae\",\"val_mae\",\"val_mae\",\"val_mae\",\"val_mae\",\"val_mae\",\"val_mae\",\"val_mae\",\"val_mae\",\"val_mae\",\"val_mae\",\"val_mae\",\"val_mae\",\"val_mae\",\"val_mae\",\"val_mae\",\"val_mae\",\"val_mae\",\"val_mae\",\"val_mae\",\"val_mae\",\"val_mae\",\"val_mae\",\"val_mae\",\"val_mae\",\"val_mae\",\"val_mae\",\"val_mae\",\"val_mae\",\"val_mae\",\"val_mae\",\"val_mae\",\"val_mae\",\"val_mae\",\"val_mae\",\"val_mae\",\"val_mae\",\"val_mae\",\"val_mae\",\"val_mae\",\"val_mae\",\"val_mae\",\"val_mae\",\"val_mae\",\"val_mae\",\"val_mae\",\"val_mae\",\"val_mae\",\"val_mae\",\"val_mae\",\"val_mae\",\"val_mae\",\"val_mae\",\"val_mae\",\"val_mae\",\"val_mae\",\"val_mae\",\"val_mae\",\"val_mae\",\"val_mae\",\"val_mae\",\"val_mae\",\"val_mae\",\"val_mae\",\"val_mae\",\"val_mae\",\"val_mae\",\"val_mae\",\"val_mae\",\"val_mae\",\"val_mae\",\"val_mae\",\"val_mae\",\"val_mae\",\"val_mae\",\"val_mae\",\"val_mae\",\"val_mae\",\"val_mae\",\"val_mae\",\"val_mae\",\"val_mae\",\"val_mae\",\"val_mae\",\"val_mae\",\"val_mae\",\"val_mae\",\"val_mae\",\"val_mae\",\"val_mae\",\"val_mae\",\"val_mae\",\"val_mae\",\"val_mae\",\"val_mae\",\"val_mae\",\"val_mae\",\"val_mae\",\"val_mae\",\"val_mae\",\"val_mae\",\"val_mae\",\"val_mae\",\"val_mae\",\"val_mae\",\"val_mae\",\"val_mae\",\"val_mae\",\"val_mae\",\"val_mae\",\"val_mae\",\"val_mae\",\"val_mae\",\"val_mae\",\"val_mae\",\"val_mae\",\"val_mae\",\"val_mae\",\"val_mae\",\"val_mae\",\"val_mae\",\"val_mae\",\"val_mae\",\"val_mae\",\"val_mae\",\"val_mae\",\"val_mae\",\"val_mae\",\"val_mae\",\"val_mae\",\"val_mae\",\"val_mae\",\"val_mae\",\"val_mae\",\"val_mae\",\"val_mae\",\"val_mae\",\"val_mae\",\"val_mae\",\"val_mae\",\"val_mae\",\"val_mae\",\"val_mae\",\"val_mae\",\"val_mae\",\"val_mae\",\"val_mae\",\"val_mae\",\"val_mae\",\"val_mae\",\"val_mae\",\"val_mae\",\"val_mae\",\"val_mae\",\"val_mae\",\"val_mae\",\"val_mae\",\"val_mae\",\"val_mae\",\"val_mae\",\"val_mae\",\"val_mae\",\"val_mae\",\"val_mae\",\"val_mae\",\"val_mae\",\"val_mae\",\"val_mae\",\"val_mae\",\"val_mae\",\"val_mae\",\"val_mae\",\"val_mae\",\"val_mae\",\"val_mae\",\"val_mae\",\"val_mae\",\"val_mae\",\"val_mae\",\"val_mae\",\"val_mae\",\"val_mae\",\"val_mae\",\"val_mae\",\"val_mae\",\"val_mae\",\"val_mae\",\"val_mae\",\"val_mae\",\"val_mae\",\"val_mae\",\"val_mae\",\"val_mae\",\"val_mae\",\"val_mae\",\"val_mae\",\"val_mae\",\"val_mae\",\"val_mae\",\"val_mae\",\"val_mae\",\"val_mae\",\"val_mae\",\"val_mae\",\"val_mae\",\"val_mae\",\"val_mae\",\"val_mae\",\"val_mae\",\"val_mae\",\"val_mae\",\"val_mae\",\"val_mae\",\"val_mae\",\"val_mae\",\"val_mae\",\"val_mae\",\"val_mae\",\"val_mae\",\"val_mae\",\"val_mae\",\"val_mae\",\"val_mae\",\"val_mae\",\"val_mae\",\"val_mae\",\"val_mae\",\"val_mae\",\"val_mae\",\"val_mae\",\"val_mae\",\"val_mae\",\"val_mae\",\"val_mae\",\"val_mae\",\"val_mae\",\"val_mae\",\"val_mae\",\"val_mae\",\"val_mae\",\"val_mae\",\"val_mae\",\"val_mae\",\"val_mae\",\"val_mae\",\"val_mae\",\"val_mae\",\"val_mae\",\"val_mae\",\"val_mae\",\"val_mae\",\"val_mae\",\"val_mae\",\"val_mae\",\"val_mae\",\"val_mae\",\"val_mae\",\"val_mae\",\"val_mae\",\"val_mae\",\"val_mae\",\"val_mae\",\"val_mae\",\"val_mae\",\"val_mae\",\"val_mae\",\"val_mae\",\"val_mae\",\"val_mae\",\"val_mae\",\"val_mae\",\"val_mae\",\"val_mae\",\"val_mae\",\"val_mae\",\"val_mae\",\"val_mae\",\"val_mae\",\"val_mae\",\"val_mae\",\"val_mae\",\"val_mae\",\"val_mae\",\"val_mae\",\"val_mae\",\"val_mae\",\"val_mae\",\"val_mae\",\"val_mae\",\"val_mae\",\"val_mae\",\"val_mae\",\"val_mae\",\"val_mae\",\"val_mae\",\"val_mae\",\"val_mae\",\"val_mae\",\"val_mae\",\"val_mae\",\"val_mae\",\"val_mae\",\"val_mae\",\"val_mae\",\"val_mae\",\"val_mae\",\"val_mae\",\"val_mae\",\"val_mae\",\"val_mae\",\"val_mae\",\"val_mae\",\"val_mae\",\"val_mae\",\"val_mae\",\"val_mae\",\"val_mae\",\"val_mae\",\"val_mae\",\"val_mae\",\"val_mae\",\"val_mae\",\"val_mae\",\"val_mae\",\"val_mae\",\"val_mae\",\"val_mae\",\"val_mae\",\"val_mae\",\"val_mae\",\"val_mae\",\"val_mae\",\"val_mae\",\"val_mae\",\"val_mae\",\"val_mae\",\"val_mae\",\"val_mae\",\"val_mae\",\"val_mae\",\"val_mae\",\"val_mae\",\"val_mae\",\"val_mae\",\"val_mae\",\"val_mae\",\"val_mae\",\"val_mae\",\"val_mae\",\"val_mae\",\"val_mae\",\"val_mae\",\"val_mae\",\"val_mae\",\"val_mae\",\"val_mae\",\"val_mae\",\"val_mae\",\"val_mae\",\"val_mae\",\"val_mae\",\"val_mae\",\"val_mae\",\"val_mae\",\"val_mae\",\"val_mae\",\"val_mae\",\"val_mae\",\"val_mae\",\"val_mae\",\"val_mae\",\"val_mae\",\"val_mae\",\"val_mae\",\"val_mae\",\"val_mae\",\"val_mae\",\"val_mae\",\"val_mae\",\"val_mae\",\"val_mae\",\"val_mae\",\"val_mae\",\"val_mae\",\"val_mae\",\"val_mae\",\"val_mae\",\"val_mae\",\"val_mae\",\"val_mae\",\"val_mae\",\"val_mae\",\"val_mae\",\"val_mae\",\"val_mae\",\"val_mae\",\"val_mae\",\"val_mae\",\"val_mae\",\"val_mae\",\"val_mae\",\"val_mae\",\"val_mae\",\"val_mae\",\"val_mae\",\"val_mae\",\"val_mae\",\"val_mae\",\"val_mae\",\"val_mae\",\"val_mae\",\"val_mae\",\"val_mae\",\"val_mae\",\"val_mae\",\"val_mae\",\"val_mae\",\"val_mae\",\"val_mae\",\"val_mae\",\"val_mae\",\"val_mae\",\"val_mae\",\"val_mae\",\"val_mae\",\"val_mae\",\"val_mae\",\"val_mae\",\"val_mae\",\"val_mae\",\"val_mae\",\"val_mae\",\"val_mae\",\"val_mae\",\"val_mae\",\"val_mae\",\"val_mae\",\"val_mae\",\"val_mae\",\"val_mae\",\"val_mae\",\"val_mae\",\"val_mae\",\"val_mae\",\"val_mae\"],\"index\":[0,1,2,3,4,5,6,7,8,9,10,11,12,13,14,15,16,17,18,19,20,21,22,23,24,25,26,27,28,29,30,31,32,33,34,35,36,37,38,39,40,41,42,43,44,45,46,47,48,49,50,51,52,53,54,55,56,57,58,59,60,61,62,63,64,65,66,67,68,69,70,71,72,73,74,75,76,77,78,79,80,81,82,83,84,85,86,87,88,89,90,91,92,93,94,95,96,97,98,99,100,101,102,103,104,105,106,107,108,109,110,111,112,113,114,115,116,117,118,119,120,121,122,123,124,125,126,127,128,129,130,131,132,133,134,135,136,137,138,139,140,141,142,143,144,145,146,147,148,149,150,151,152,153,154,155,156,157,158,159,160,161,162,163,164,165,166,167,168,169,170,171,172,173,174,175,176,177,178,179,180,181,182,183,184,185,186,187,188,189,190,191,192,193,194,195,196,197,198,199,200,201,202,203,204,205,206,207,208,209,210,211,212,213,214,215,216,217,218,219,220,221,222,223,224,225,226,227,228,229,230,231,232,233,234,235,236,237,238,239,240,241,242,243,244,245,246,247,248,249,250,251,252,253,254,255,256,257,258,259,260,261,262,263,264,265,266,267,268,269,270,271,272,273,274,275,276,277,278,279,280,281,282,283,284,285,286,287,288,289,290,291,292,293,294,295,296,297,298,299,300,301,302,303,304,305,306,307,308,309,310,311,312,313,314,315,316,317,318,319,320,321,322,323,324,325,326,327,328,329,330,331,332,333,334,335,336,337,338,339,340,341,342,343,344,345,346,347,348,349,350,351,352,353,354,355,356,357,358,359,360,361,362,363,364,365,366,367,368,369,370,371,372,373,374,375,376,377,378,379,380,381,382,383,384,385,386,387,388,389,390,391,392,393,394,395,396,397,398,399,400,401,402,403,404,405,406,407,408,409,410,411,412,413,414,415,416,417,418,419,420,421,422,423,424,425,426,427,428,429,430,431,432,433,434,435,436,437,438,439,440,441,442,443,444,445,446,447,448,449,450,451,452,453,454,455,456,457,458,459,460,461,462,463,464,465,466,467,468,469,470,471,472,473,474,475,476,477,478,479,480,481,482,483,484,485,486,487,488,489,490,491,492,493,494,495,496,497,498,499,500,501,502,503,504,505,506,507,508,509,510,511,512,513,514,515,516,517,518,519,520,521,522,523,524,525,526,527,528,529,530,531,532,533,534,535,536,537,538,539,540,541,542,543,544,545,546,547,548,549,550,551,552,553,554,555,556,557,558,559,560,561,562,563,564,565,566,567,568,569,570,571,572,573,574,575,576,577,578,579,580,581,582,583,584,585,586,587,588,589,590,591,592,593,594,595,596,597,598,599,600,601,602,603,604,605,606,607,608,609,610,611,612,613,614,615,616,617,618,619,620,621,622,623,624,625,626,627,628,629,630,631,632,633,634,635,636,637,638,639,640,641,642,643,644,645,646,647,648,649,650,651,652,653,654,655,656,657,658,659,660,661,662,663,664,665,666,667,668,669,670,671,672,673,674,675,676,677,678,679,680,681,682,683,684,685,686,687,688,689,690,691,692,693,694,695,696,697,698,699,700,701,702,703,704,705,706,707,708,709,710,711,712,713,714,715,716,717,718,719,720,721,722,723,724,725,726,727,728,729,730,731,732,733,734,735,736,737,738,739,740,741,742,743,744,745,746,747,748,749,750,751,752,753,754,755,756,757,758,759,760,761,762,763,764,765,766,767,768,769,770,771,772,773,774,775,776,777,778,779,780,781,782,783,784,785,786,787,788,789,790,791,792,793,794,795,796,797,798,799,800,801,802,803,804,805,806,807,808,809,810,811,812,813,814,815,816,817,818,819,820,821,822,823,824,825,826,827,828,829,830,831,832,833,834,835,836,837,838,839,840,841,842,843,844,845,846,847,848,849,850,851,852,853,854,855,856,857,858,859,860,861,862,863,864,865,866,867,868,869,870,871,872,873,874,875,876,877,878,879,880,881,882,883,884,885,886,887,888,889,890,891,892,893,894,895,896,897,898,899,900,901,902,903,904,905,906,907,908,909,910,911,912,913,914,915,916,917,918,919,920,921,922,923,924,925,926,927,928,929,930,931,932,933,934,935,936,937,938,939,940,941,942,943,944,945,946,947,948,949,950,951,952,953,954,955,956,957,958,959,960,961,962,963,964,965,966,967,968,969,970,971,972,973,974,975,976,977,978,979,980,981,982,983,984,985,986,987,988,989,990,991,992,993,994,995,996,997,998,999],\"value\":{\"__ndarray__\":\"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\",\"dtype\":\"float64\",\"shape\":[1000]}},\"selected\":{\"id\":\"6903\",\"type\":\"Selection\"},\"selection_policy\":{\"id\":\"6926\",\"type\":\"UnionRenderers\"}},\"id\":\"6902\",\"type\":\"ColumnDataSource\"},{\"attributes\":{\"callback\":null,\"renderers\":[{\"id\":\"6892\",\"type\":\"GlyphRenderer\"},{\"id\":\"6908\",\"type\":\"GlyphRenderer\"}],\"tooltips\":[[\"Variable\",\"@{Variable}\"],[\"index\",\"@{index}\"],[\"value\",\"@{value}\"]]},\"id\":\"6849\",\"type\":\"HoverTool\"},{\"attributes\":{},\"id\":\"6874\",\"type\":\"ResetTool\"},{\"attributes\":{\"data_source\":{\"id\":\"6902\",\"type\":\"ColumnDataSource\"},\"glyph\":{\"id\":\"6905\",\"type\":\"Line\"},\"hover_glyph\":null,\"muted_glyph\":{\"id\":\"6907\",\"type\":\"Line\"},\"nonselection_glyph\":{\"id\":\"6906\",\"type\":\"Line\"},\"selection_glyph\":null,\"view\":{\"id\":\"6909\",\"type\":\"CDSView\"}},\"id\":\"6908\",\"type\":\"GlyphRenderer\"},{\"attributes\":{\"line_color\":\"#1f77b4\",\"line_width\":2,\"x\":{\"field\":\"index\"},\"y\":{\"field\":\"value\"}},\"id\":\"6889\",\"type\":\"Line\"},{\"attributes\":{},\"id\":\"6870\",\"type\":\"SaveTool\"},{\"attributes\":{\"line_alpha\":0.1,\"line_color\":\"#1f77b4\",\"line_width\":2,\"x\":{\"field\":\"index\"},\"y\":{\"field\":\"value\"}},\"id\":\"6890\",\"type\":\"Line\"},{\"attributes\":{\"grid_line_color\":{\"value\":null},\"ticker\":{\"id\":\"6861\",\"type\":\"BasicTicker\"}},\"id\":\"6864\",\"type\":\"Grid\"},{\"attributes\":{},\"id\":\"6871\",\"type\":\"PanTool\"},{\"attributes\":{},\"id\":\"6915\",\"type\":\"UnionRenderers\"},{\"attributes\":{},\"id\":\"6887\",\"type\":\"Selection\"},{\"attributes\":{},\"id\":\"6872\",\"type\":\"WheelZoomTool\"},{\"attributes\":{},\"id\":\"6861\",\"type\":\"BasicTicker\"},{\"attributes\":{\"overlay\":{\"id\":\"6899\",\"type\":\"BoxAnnotation\"}},\"id\":\"6873\",\"type\":\"BoxZoomTool\"},{\"attributes\":{},\"id\":\"6885\",\"type\":\"BasicTickFormatter\"},{\"attributes\":{\"source\":{\"id\":\"6902\",\"type\":\"ColumnDataSource\"}},\"id\":\"6909\",\"type\":\"CDSView\"},{\"attributes\":{\"axis_label\":\"\",\"bounds\":\"auto\",\"formatter\":{\"id\":\"6883\",\"type\":\"BasicTickFormatter\"},\"major_label_orientation\":\"horizontal\",\"ticker\":{\"id\":\"6861\",\"type\":\"BasicTicker\"}},\"id\":\"6860\",\"type\":\"LinearAxis\"},{\"attributes\":{},\"id\":\"6903\",\"type\":\"Selection\"},{\"attributes\":{\"label\":{\"value\":\"val_mae\"},\"renderers\":[{\"id\":\"6908\",\"type\":\"GlyphRenderer\"}]},\"id\":\"6918\",\"type\":\"LegendItem\"},{\"attributes\":{\"line_alpha\":0.1,\"line_color\":\"#ff7f0e\",\"line_width\":2,\"x\":{\"field\":\"index\"},\"y\":{\"field\":\"value\"}},\"id\":\"6906\",\"type\":\"Line\"},{\"attributes\":{},\"id\":\"6856\",\"type\":\"LinearScale\"},{\"attributes\":{},\"id\":\"6883\",\"type\":\"BasicTickFormatter\"},{\"attributes\":{\"text\":\"MAE\",\"text_color\":{\"value\":\"black\"},\"text_font_size\":{\"value\":\"12pt\"}},\"id\":\"6852\",\"type\":\"Title\"},{\"attributes\":{\"line_color\":\"#ff7f0e\",\"line_width\":2,\"x\":{\"field\":\"index\"},\"y\":{\"field\":\"value\"}},\"id\":\"6905\",\"type\":\"Line\"},{\"attributes\":{\"callback\":null,\"end\":999.0,\"reset_end\":999.0,\"reset_start\":0.0,\"tags\":[[[\"index\",\"index\",null]]]},\"id\":\"6847\",\"type\":\"Range1d\"},{\"attributes\":{\"callback\":null,\"end\":23.031484603881836,\"reset_end\":23.031484603881836,\"reset_start\":0.8013142943382263,\"start\":0.8013142943382263,\"tags\":[[[\"value\",\"value\",null]]]},\"id\":\"6848\",\"type\":\"Range1d\"},{\"attributes\":{\"line_alpha\":0.2,\"line_color\":\"#ff7f0e\",\"line_width\":2,\"x\":{\"field\":\"index\"},\"y\":{\"field\":\"value\"}},\"id\":\"6907\",\"type\":\"Line\"},{\"attributes\":{\"active_drag\":\"auto\",\"active_inspect\":\"auto\",\"active_multi\":null,\"active_scroll\":\"auto\",\"active_tap\":\"auto\",\"tools\":[{\"id\":\"6849\",\"type\":\"HoverTool\"},{\"id\":\"6870\",\"type\":\"SaveTool\"},{\"id\":\"6871\",\"type\":\"PanTool\"},{\"id\":\"6872\",\"type\":\"WheelZoomTool\"},{\"id\":\"6873\",\"type\":\"BoxZoomTool\"},{\"id\":\"6874\",\"type\":\"ResetTool\"}]},\"id\":\"6875\",\"type\":\"Toolbar\"},{\"attributes\":{\"callback\":null,\"data\":{\"Variable\":[\"mae\",\"mae\",\"mae\",\"mae\",\"mae\",\"mae\",\"mae\",\"mae\",\"mae\",\"mae\",\"mae\",\"mae\",\"mae\",\"mae\",\"mae\",\"mae\",\"mae\",\"mae\",\"mae\",\"mae\",\"mae\",\"mae\",\"mae\",\"mae\",\"mae\",\"mae\",\"mae\",\"mae\",\"mae\",\"mae\",\"mae\",\"mae\",\"mae\",\"mae\",\"mae\",\"mae\",\"mae\",\"mae\",\"mae\",\"mae\",\"mae\",\"mae\",\"mae\",\"mae\",\"mae\",\"mae\",\"mae\",\"mae\",\"mae\",\"mae\",\"mae\",\"mae\",\"mae\",\"mae\",\"mae\",\"mae\",\"mae\",\"mae\",\"mae\",\"mae\",\"mae\",\"mae\",\"mae\",\"mae\",\"mae\",\"mae\",\"mae\",\"mae\",\"mae\",\"mae\",\"mae\",\"mae\",\"mae\",\"mae\",\"mae\",\"mae\",\"mae\",\"mae\",\"mae\",\"mae\",\"mae\",\"mae\",\"mae\",\"mae\",\"mae\",\"mae\",\"mae\",\"mae\",\"mae\",\"mae\",\"mae\",\"mae\",\"mae\",\"mae\",\"mae\",\"mae\",\"mae\",\"mae\",\"mae\",\"mae\",\"mae\",\"mae\",\"mae\",\"mae\",\"mae\",\"mae\",\"mae\",\"mae\",\"mae\",\"mae\",\"mae\",\"mae\",\"mae\",\"mae\",\"mae\",\"mae\",\"mae\",\"mae\",\"mae\",\"mae\",\"mae\",\"mae\",\"mae\",\"mae\",\"mae\",\"mae\",\"mae\",\"mae\",\"mae\",\"mae\",\"mae\",\"mae\",\"mae\",\"mae\",\"mae\",\"mae\",\"mae\",\"mae\",\"mae\",\"mae\",\"mae\",\"mae\",\"mae\",\"mae\",\"mae\",\"mae\",\"mae\",\"mae\",\"mae\",\"mae\",\"mae\",\"mae\",\"mae\",\"mae\",\"mae\",\"mae\",\"mae\",\"mae\",\"mae\",\"mae\",\"mae\",\"mae\",\"mae\",\"mae\",\"mae\",\"mae\",\"mae\",\"mae\",\"mae\",\"mae\",\"mae\",\"mae\",\"mae\",\"mae\",\"mae\",\"mae\",\"mae\",\"mae\",\"mae\",\"mae\",\"mae\",\"mae\",\"mae\",\"mae\",\"mae\",\"mae\",\"mae\",\"mae\",\"mae\",\"mae\",\"mae\",\"mae\",\"mae\",\"mae\",\"mae\",\"mae\",\"mae\",\"mae\",\"mae\",\"mae\",\"mae\",\"mae\",\"mae\",\"mae\",\"mae\",\"mae\",\"mae\",\"mae\",\"mae\",\"mae\",\"mae\",\"mae\",\"mae\",\"mae\",\"mae\",\"mae\",\"mae\",\"mae\",\"mae\",\"mae\",\"mae\",\"mae\",\"mae\",\"mae\",\"mae\",\"mae\",\"mae\",\"mae\",\"mae\",\"mae\",\"mae\",\"mae\",\"mae\",\"mae\",\"mae\",\"mae\",\"mae\",\"mae\",\"mae\",\"mae\",\"mae\",\"mae\",\"mae\",\"mae\",\"mae\",\"mae\",\"mae\",\"mae\",\"mae\",\"mae\",\"mae\",\"mae\",\"mae\",\"mae\",\"mae\",\"mae\",\"mae\",\"mae\",\"mae\",\"mae\",\"mae\",\"mae\",\"mae\",\"mae\",\"mae\",\"mae\",\"mae\",\"mae\",\"mae\",\"mae\",\"mae\",\"mae\",\"mae\",\"mae\",\"mae\",\"mae\",\"mae\",\"mae\",\"mae\",\"mae\",\"mae\",\"mae\",\"mae\",\"mae\",\"mae\",\"mae\",\"mae\",\"mae\",\"mae\",\"mae\",\"mae\",\"mae\",\"mae\",\"mae\",\"mae\",\"mae\",\"mae\",\"mae\",\"mae\",\"mae\",\"mae\",\"mae\",\"mae\",\"mae\",\"mae\",\"mae\",\"mae\",\"mae\",\"mae\",\"mae\",\"mae\",\"mae\",\"mae\",\"mae\",\"mae\",\"mae\",\"mae\",\"mae\",\"mae\",\"mae\",\"mae\",\"mae\",\"mae\",\"mae\",\"mae\",\"mae\",\"mae\",\"mae\",\"mae\",\"mae\",\"mae\",\"mae\",\"mae\",\"mae\",\"mae\",\"mae\",\"mae\",\"mae\",\"mae\",\"mae\",\"mae\",\"mae\",\"mae\",\"mae\",\"mae\",\"mae\",\"mae\",\"mae\",\"mae\",\"mae\",\"mae\",\"mae\",\"mae\",\"mae\",\"mae\",\"mae\",\"mae\",\"mae\",\"mae\",\"mae\",\"mae\",\"mae\",\"mae\",\"mae\",\"mae\",\"mae\",\"mae\",\"mae\",\"mae\",\"mae\",\"mae\",\"mae\",\"mae\",\"mae\",\"mae\",\"mae\",\"mae\",\"mae\",\"mae\",\"mae\",\"mae\",\"mae\",\"mae\",\"mae\",\"mae\",\"mae\",\"mae\",\"mae\",\"mae\",\"mae\",\"mae\",\"mae\",\"mae\",\"mae\",\"mae\",\"mae\",\"mae\",\"mae\",\"mae\",\"mae\",\"mae\",\"mae\",\"mae\",\"mae\",\"mae\",\"mae\",\"mae\",\"mae\",\"mae\",\"mae\",\"mae\",\"mae\",\"mae\",\"mae\",\"mae\",\"mae\",\"mae\",\"mae\",\"mae\",\"mae\",\"mae\",\"mae\",\"mae\",\"mae\",\"mae\",\"mae\",\"mae\",\"mae\",\"mae\",\"mae\",\"mae\",\"mae\",\"mae\",\"mae\",\"mae\",\"mae\",\"mae\",\"mae\",\"mae\",\"mae\",\"mae\",\"mae\",\"mae\",\"mae\",\"mae\",\"mae\",\"mae\",\"mae\",\"mae\",\"mae\",\"mae\",\"mae\",\"mae\",\"mae\",\"mae\",\"mae\",\"mae\",\"mae\",\"mae\",\"mae\",\"mae\",\"mae\",\"mae\",\"mae\",\"mae\",\"mae\",\"mae\",\"mae\",\"mae\",\"mae\",\"mae\",\"mae\",\"mae\",\"mae\",\"mae\",\"mae\",\"mae\",\"mae\",\"mae\",\"mae\",\"mae\",\"mae\",\"mae\",\"mae\",\"mae\",\"mae\",\"mae\",\"mae\",\"mae\",\"mae\",\"mae\",\"mae\",\"mae\",\"mae\",\"mae\",\"mae\",\"mae\",\"mae\",\"mae\",\"mae\",\"mae\",\"mae\",\"mae\",\"mae\",\"mae\",\"mae\",\"mae\",\"mae\",\"mae\",\"mae\",\"mae\",\"mae\",\"mae\",\"mae\",\"mae\",\"mae\",\"mae\",\"mae\",\"mae\",\"mae\",\"mae\",\"mae\",\"mae\",\"mae\",\"mae\",\"mae\",\"mae\",\"mae\",\"mae\",\"mae\",\"mae\",\"mae\",\"mae\",\"mae\",\"mae\",\"mae\",\"mae\",\"mae\",\"mae\",\"mae\",\"mae\",\"mae\",\"mae\",\"mae\",\"mae\",\"mae\",\"mae\",\"mae\",\"mae\",\"mae\",\"mae\",\"mae\",\"mae\",\"mae\",\"mae\",\"mae\",\"mae\",\"mae\",\"mae\",\"mae\",\"mae\",\"mae\",\"mae\",\"mae\",\"mae\",\"mae\",\"mae\",\"mae\",\"mae\",\"mae\",\"mae\",\"mae\",\"mae\",\"mae\",\"mae\",\"mae\",\"mae\",\"mae\",\"mae\",\"mae\",\"mae\",\"mae\",\"mae\",\"mae\",\"mae\",\"mae\",\"mae\",\"mae\",\"mae\",\"mae\",\"mae\",\"mae\",\"mae\",\"mae\",\"mae\",\"mae\",\"mae\",\"mae\",\"mae\",\"mae\",\"mae\",\"mae\",\"mae\",\"mae\",\"mae\",\"mae\",\"mae\",\"mae\",\"mae\",\"mae\",\"mae\",\"mae\",\"mae\",\"mae\",\"mae\",\"mae\",\"mae\",\"mae\",\"mae\",\"mae\",\"mae\",\"mae\",\"mae\",\"mae\",\"mae\",\"mae\",\"mae\",\"mae\",\"mae\",\"mae\",\"mae\",\"mae\",\"mae\",\"mae\",\"mae\",\"mae\",\"mae\",\"mae\",\"mae\",\"mae\",\"mae\",\"mae\",\"mae\",\"mae\",\"mae\",\"mae\",\"mae\",\"mae\",\"mae\",\"mae\",\"mae\",\"mae\",\"mae\",\"mae\",\"mae\",\"mae\",\"mae\",\"mae\",\"mae\",\"mae\",\"mae\",\"mae\",\"mae\",\"mae\",\"mae\",\"mae\",\"mae\",\"mae\",\"mae\",\"mae\",\"mae\",\"mae\",\"mae\",\"mae\",\"mae\",\"mae\",\"mae\",\"mae\",\"mae\",\"mae\",\"mae\",\"mae\",\"mae\",\"mae\",\"mae\",\"mae\",\"mae\",\"mae\",\"mae\",\"mae\",\"mae\",\"mae\",\"mae\",\"mae\",\"mae\",\"mae\",\"mae\",\"mae\",\"mae\",\"mae\",\"mae\",\"mae\",\"mae\",\"mae\",\"mae\",\"mae\",\"mae\",\"mae\",\"mae\",\"mae\",\"mae\",\"mae\",\"mae\",\"mae\",\"mae\",\"mae\",\"mae\",\"mae\",\"mae\",\"mae\",\"mae\",\"mae\",\"mae\",\"mae\",\"mae\",\"mae\",\"mae\",\"mae\",\"mae\",\"mae\",\"mae\",\"mae\",\"mae\",\"mae\",\"mae\",\"mae\",\"mae\",\"mae\",\"mae\",\"mae\",\"mae\",\"mae\",\"mae\",\"mae\",\"mae\",\"mae\",\"mae\",\"mae\",\"mae\",\"mae\",\"mae\",\"mae\",\"mae\",\"mae\",\"mae\",\"mae\",\"mae\",\"mae\",\"mae\",\"mae\",\"mae\",\"mae\",\"mae\",\"mae\",\"mae\",\"mae\",\"mae\",\"mae\",\"mae\",\"mae\",\"mae\",\"mae\",\"mae\",\"mae\",\"mae\",\"mae\",\"mae\",\"mae\",\"mae\",\"mae\",\"mae\",\"mae\",\"mae\",\"mae\",\"mae\",\"mae\",\"mae\",\"mae\",\"mae\",\"mae\",\"mae\",\"mae\",\"mae\",\"mae\",\"mae\",\"mae\",\"mae\",\"mae\",\"mae\",\"mae\",\"mae\",\"mae\",\"mae\",\"mae\",\"mae\",\"mae\",\"mae\",\"mae\",\"mae\",\"mae\",\"mae\",\"mae\",\"mae\",\"mae\",\"mae\",\"mae\",\"mae\",\"mae\",\"mae\",\"mae\",\"mae\",\"mae\",\"mae\",\"mae\",\"mae\",\"mae\",\"mae\",\"mae\",\"mae\",\"mae\",\"mae\",\"mae\",\"mae\",\"mae\",\"mae\",\"mae\",\"mae\",\"mae\",\"mae\",\"mae\",\"mae\",\"mae\",\"mae\",\"mae\",\"mae\",\"mae\",\"mae\",\"mae\",\"mae\",\"mae\",\"mae\",\"mae\",\"mae\",\"mae\",\"mae\",\"mae\",\"mae\",\"mae\",\"mae\",\"mae\",\"mae\",\"mae\",\"mae\",\"mae\",\"mae\",\"mae\",\"mae\",\"mae\",\"mae\",\"mae\",\"mae\",\"mae\",\"mae\",\"mae\",\"mae\",\"mae\",\"mae\",\"mae\",\"mae\",\"mae\",\"mae\",\"mae\",\"mae\",\"mae\",\"mae\",\"mae\",\"mae\",\"mae\",\"mae\",\"mae\",\"mae\",\"mae\",\"mae\",\"mae\",\"mae\",\"mae\",\"mae\",\"mae\",\"mae\",\"mae\",\"mae\",\"mae\",\"mae\",\"mae\",\"mae\",\"mae\",\"mae\",\"mae\",\"mae\",\"mae\",\"mae\",\"mae\",\"mae\",\"mae\",\"mae\",\"mae\",\"mae\",\"mae\",\"mae\",\"mae\",\"mae\",\"mae\",\"mae\",\"mae\",\"mae\",\"mae\",\"mae\",\"mae\",\"mae\",\"mae\",\"mae\",\"mae\",\"mae\",\"mae\",\"mae\",\"mae\",\"mae\",\"mae\",\"mae\",\"mae\",\"mae\",\"mae\",\"mae\",\"mae\",\"mae\",\"mae\",\"mae\",\"mae\",\"mae\",\"mae\",\"mae\",\"mae\",\"mae\",\"mae\",\"mae\",\"mae\",\"mae\",\"mae\",\"mae\",\"mae\",\"mae\",\"mae\",\"mae\",\"mae\",\"mae\",\"mae\",\"mae\",\"mae\",\"mae\",\"mae\",\"mae\",\"mae\",\"mae\",\"mae\",\"mae\",\"mae\",\"mae\",\"mae\",\"mae\",\"mae\",\"mae\",\"mae\",\"mae\",\"mae\",\"mae\",\"mae\",\"mae\",\"mae\",\"mae\",\"mae\",\"mae\",\"mae\",\"mae\",\"mae\",\"mae\",\"mae\",\"mae\",\"mae\",\"mae\",\"mae\"],\"index\":[0,1,2,3,4,5,6,7,8,9,10,11,12,13,14,15,16,17,18,19,20,21,22,23,24,25,26,27,28,29,30,31,32,33,34,35,36,37,38,39,40,41,42,43,44,45,46,47,48,49,50,51,52,53,54,55,56,57,58,59,60,61,62,63,64,65,66,67,68,69,70,71,72,73,74,75,76,77,78,79,80,81,82,83,84,85,86,87,88,89,90,91,92,93,94,95,96,97,98,99,100,101,102,103,104,105,106,107,108,109,110,111,112,113,114,115,116,117,118,119,120,121,122,123,124,125,126,127,128,129,130,131,132,133,134,135,136,137,138,139,140,141,142,143,144,145,146,147,148,149,150,151,152,153,154,155,156,157,158,159,160,161,162,163,164,165,166,167,168,169,170,171,172,173,174,175,176,177,178,179,180,181,182,183,184,185,186,187,188,189,190,191,192,193,194,195,196,197,198,199,200,201,202,203,204,205,206,207,208,209,210,211,212,213,214,215,216,217,218,219,220,221,222,223,224,225,226,227,228,229,230,231,232,233,234,235,236,237,238,239,240,241,242,243,244,245,246,247,248,249,250,251,252,253,254,255,256,257,258,259,260,261,262,263,264,265,266,267,268,269,270,271,272,273,274,275,276,277,278,279,280,281,282,283,284,285,286,287,288,289,290,291,292,293,294,295,296,297,298,299,300,301,302,303,304,305,306,307,308,309,310,311,312,313,314,315,316,317,318,319,320,321,322,323,324,325,326,327,328,329,330,331,332,333,334,335,336,337,338,339,340,341,342,343,344,345,346,347,348,349,350,351,352,353,354,355,356,357,358,359,360,361,362,363,364,365,366,367,368,369,370,371,372,373,374,375,376,377,378,379,380,381,382,383,384,385,386,387,388,389,390,391,392,393,394,395,396,397,398,399,400,401,402,403,404,405,406,407,408,409,410,411,412,413,414,415,416,417,418,419,420,421,422,423,424,425,426,427,428,429,430,431,432,433,434,435,436,437,438,439,440,441,442,443,444,445,446,447,448,449,450,451,452,453,454,455,456,457,458,459,460,461,462,463,464,465,466,467,468,469,470,471,472,473,474,475,476,477,478,479,480,481,482,483,484,485,486,487,488,489,490,491,492,493,494,495,496,497,498,499,500,501,502,503,504,505,506,507,508,509,510,511,512,513,514,515,516,517,518,519,520,521,522,523,524,525,526,527,528,529,530,531,532,533,534,535,536,537,538,539,540,541,542,543,544,545,546,547,548,549,550,551,552,553,554,555,556,557,558,559,560,561,562,563,564,565,566,567,568,569,570,571,572,573,574,575,576,577,578,579,580,581,582,583,584,585,586,587,588,589,590,591,592,593,594,595,596,597,598,599,600,601,602,603,604,605,606,607,608,609,610,611,612,613,614,615,616,617,618,619,620,621,622,623,624,625,626,627,628,629,630,631,632,633,634,635,636,637,638,639,640,641,642,643,644,645,646,647,648,649,650,651,652,653,654,655,656,657,658,659,660,661,662,663,664,665,666,667,668,669,670,671,672,673,674,675,676,677,678,679,680,681,682,683,684,685,686,687,688,689,690,691,692,693,694,695,696,697,698,699,700,701,702,703,704,705,706,707,708,709,710,711,712,713,714,715,716,717,718,719,720,721,722,723,724,725,726,727,728,729,730,731,732,733,734,735,736,737,738,739,740,741,742,743,744,745,746,747,748,749,750,751,752,753,754,755,756,757,758,759,760,761,762,763,764,765,766,767,768,769,770,771,772,773,774,775,776,777,778,779,780,781,782,783,784,785,786,787,788,789,790,791,792,793,794,795,796,797,798,799,800,801,802,803,804,805,806,807,808,809,810,811,812,813,814,815,816,817,818,819,820,821,822,823,824,825,826,827,828,829,830,831,832,833,834,835,836,837,838,839,840,841,842,843,844,845,846,847,848,849,850,851,852,853,854,855,856,857,858,859,860,861,862,863,864,865,866,867,868,869,870,871,872,873,874,875,876,877,878,879,880,881,882,883,884,885,886,887,888,889,890,891,892,893,894,895,896,897,898,899,900,901,902,903,904,905,906,907,908,909,910,911,912,913,914,915,916,917,918,919,920,921,922,923,924,925,926,927,928,929,930,931,932,933,934,935,936,937,938,939,940,941,942,943,944,945,946,947,948,949,950,951,952,953,954,955,956,957,958,959,960,961,962,963,964,965,966,967,968,969,970,971,972,973,974,975,976,977,978,979,980,981,982,983,984,985,986,987,988,989,990,991,992,993,994,995,996,997,998,999],\"value\":{\"__ndarray__\":\"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\",\"dtype\":\"float64\",\"shape\":[1000]}},\"selected\":{\"id\":\"6887\",\"type\":\"Selection\"},\"selection_policy\":{\"id\":\"6915\",\"type\":\"UnionRenderers\"}},\"id\":\"6886\",\"type\":\"ColumnDataSource\"}],\"root_ids\":[\"6851\"]},\"title\":\"Bokeh Application\",\"version\":\"1.1.0\"}};\n",
       "  var render_items = [{\"docid\":\"cfff2b31-9c29-4ffd-86ef-12cb69623e2c\",\"roots\":{\"6851\":\"35d2bbcc-eff1-4daf-ad3b-43a67cd77003\"}}];\n",
       "  root.Bokeh.embed.embed_items_notebook(docs_json, render_items);\n",
       "\n",
       "  }\n",
       "  if (root.Bokeh !== undefined) {\n",
       "    embed_document(root);\n",
       "  } else {\n",
       "    var attempts = 0;\n",
       "    var timer = setInterval(function(root) {\n",
       "      if (root.Bokeh !== undefined) {\n",
       "        embed_document(root);\n",
       "        clearInterval(timer);\n",
       "      }\n",
       "      attempts++;\n",
       "      if (attempts > 100) {\n",
       "        console.log(\"Bokeh: ERROR: Unable to run BokehJS code because BokehJS library is missing\");\n",
       "        clearInterval(timer);\n",
       "      }\n",
       "    }, 10, root)\n",
       "  }\n",
       "})(window);"
      ],
      "application/vnd.holoviews_exec.v0+json": "",
      "text/html": [
       "<div id='6851' style='display: table; margin: 0 auto;'>\n",
       "\n",
       "\n",
       "\n",
       "\n",
       "\n",
       "  <div class=\"bk-root\" id=\"35d2bbcc-eff1-4daf-ad3b-43a67cd77003\" data-root-id=\"6851\"></div>\n",
       "</div>"
      ],
      "text/plain": [
       ":NdOverlay   [Variable]\n",
       "   :Curve   [index]   (value)"
      ]
     },
     "execution_count": 137,
     "metadata": {
      "application/vnd.holoviews_exec.v0+json": {
       "id": "6851"
      }
     },
     "output_type": "execute_result"
    }
   ],
   "source": [
    "hist.loc[:, ['mae', 'val_mae']].hvplot(title='MAE')"
   ]
  },
  {
   "cell_type": "code",
   "execution_count": 138,
   "metadata": {},
   "outputs": [
    {
     "data": {
      "application/javascript": [
       "\n",
       "// Ugly hack - see HoloViews #2574 for more information\n",
       "if (!(document.getElementById('7073')) && !(document.getElementById('_anim_imgNone'))) {\n",
       "  console.log(\"Creating DOM nodes dynamically for assumed nbconvert export. To generate clean HTML output set HV_DOC_HTML as an environment variable.\")\n",
       "  var htmlObject = document.createElement('div');\n",
       "  htmlObject.innerHTML = `<div id='7073' style='display: table; margin: 0 auto;'>\n",
       "\n",
       "\n",
       "\n",
       "\n",
       "\n",
       "  <div class=\"bk-root\" id=\"1808d6fe-7b42-460c-b9ec-f637d0780502\" data-root-id=\"7073\"></div>\n",
       "</div>`;\n",
       "  var scriptTags = document.getElementsByTagName('script');\n",
       "  var parentTag = scriptTags[scriptTags.length-1].parentNode;\n",
       "  if (parentTag.attributes.length && (parentTag.attributes[0].name == 'data-shell-mode')) {\n",
       "    alert('Displaying PyViz objects in JupyterLab requires the jupyterlab_pyviz extension to be installed, install it with:\\n\\n\\tjupyter labextension install @pyviz/jupyterlab_pyviz');\n",
       "  } else {\n",
       "    parentTag.append(htmlObject)\n",
       "  }\n",
       "}\n",
       "(function(root) {\n",
       "  function embed_document(root) {\n",
       "    \n",
       "  var docs_json = {\"0554a4df-c5fd-49f8-b965-91ab8199bd95\":{\"roots\":{\"references\":[{\"attributes\":{\"below\":[{\"id\":\"7082\",\"type\":\"LinearAxis\"}],\"center\":[{\"id\":\"7086\",\"type\":\"Grid\"},{\"id\":\"7091\",\"type\":\"Grid\"},{\"id\":\"7122\",\"type\":\"Legend\"}],\"left\":[{\"id\":\"7087\",\"type\":\"LinearAxis\"}],\"margin\":null,\"min_border_bottom\":10,\"min_border_left\":10,\"min_border_right\":10,\"min_border_top\":10,\"plot_height\":300,\"plot_width\":700,\"renderers\":[{\"id\":\"7114\",\"type\":\"GlyphRenderer\"},{\"id\":\"7130\",\"type\":\"GlyphRenderer\"}],\"right\":[{\"id\":\"7122\",\"type\":\"Legend\"}],\"sizing_mode\":\"fixed\",\"title\":{\"id\":\"7074\",\"type\":\"Title\"},\"toolbar\":{\"id\":\"7097\",\"type\":\"Toolbar\"},\"x_range\":{\"id\":\"7069\",\"type\":\"Range1d\"},\"x_scale\":{\"id\":\"7078\",\"type\":\"LinearScale\"},\"y_range\":{\"id\":\"7070\",\"type\":\"Range1d\"},\"y_scale\":{\"id\":\"7080\",\"type\":\"LinearScale\"}},\"id\":\"7073\",\"subtype\":\"Figure\",\"type\":\"Plot\"},{\"attributes\":{},\"id\":\"7088\",\"type\":\"BasicTicker\"},{\"attributes\":{},\"id\":\"7083\",\"type\":\"BasicTicker\"},{\"attributes\":{\"line_alpha\":0.1,\"line_color\":\"#1f77b4\",\"line_width\":2,\"x\":{\"field\":\"index\"},\"y\":{\"field\":\"value\"}},\"id\":\"7112\",\"type\":\"Line\"},{\"attributes\":{},\"id\":\"7080\",\"type\":\"LinearScale\"},{\"attributes\":{\"source\":{\"id\":\"7108\",\"type\":\"ColumnDataSource\"}},\"id\":\"7115\",\"type\":\"CDSView\"},{\"attributes\":{\"active_drag\":\"auto\",\"active_inspect\":\"auto\",\"active_multi\":null,\"active_scroll\":\"auto\",\"active_tap\":\"auto\",\"tools\":[{\"id\":\"7071\",\"type\":\"HoverTool\"},{\"id\":\"7092\",\"type\":\"SaveTool\"},{\"id\":\"7093\",\"type\":\"PanTool\"},{\"id\":\"7094\",\"type\":\"WheelZoomTool\"},{\"id\":\"7095\",\"type\":\"BoxZoomTool\"},{\"id\":\"7096\",\"type\":\"ResetTool\"}]},\"id\":\"7097\",\"type\":\"Toolbar\"},{\"attributes\":{},\"id\":\"7137\",\"type\":\"UnionRenderers\"},{\"attributes\":{\"data_source\":{\"id\":\"7108\",\"type\":\"ColumnDataSource\"},\"glyph\":{\"id\":\"7111\",\"type\":\"Line\"},\"hover_glyph\":null,\"muted_glyph\":{\"id\":\"7113\",\"type\":\"Line\"},\"nonselection_glyph\":{\"id\":\"7112\",\"type\":\"Line\"},\"selection_glyph\":null,\"view\":{\"id\":\"7115\",\"type\":\"CDSView\"}},\"id\":\"7114\",\"type\":\"GlyphRenderer\"},{\"attributes\":{\"axis_label\":\"\",\"bounds\":\"auto\",\"formatter\":{\"id\":\"7105\",\"type\":\"BasicTickFormatter\"},\"major_label_orientation\":\"horizontal\",\"ticker\":{\"id\":\"7083\",\"type\":\"BasicTicker\"}},\"id\":\"7082\",\"type\":\"LinearAxis\"},{\"attributes\":{\"overlay\":{\"id\":\"7121\",\"type\":\"BoxAnnotation\"}},\"id\":\"7095\",\"type\":\"BoxZoomTool\"},{\"attributes\":{},\"id\":\"7096\",\"type\":\"ResetTool\"},{\"attributes\":{\"label\":{\"value\":\"mse\"},\"renderers\":[{\"id\":\"7114\",\"type\":\"GlyphRenderer\"}]},\"id\":\"7123\",\"type\":\"LegendItem\"},{\"attributes\":{},\"id\":\"7107\",\"type\":\"BasicTickFormatter\"},{\"attributes\":{\"click_policy\":\"mute\",\"items\":[{\"id\":\"7123\",\"type\":\"LegendItem\"},{\"id\":\"7140\",\"type\":\"LegendItem\"}],\"location\":[0,0]},\"id\":\"7122\",\"type\":\"Legend\"},{\"attributes\":{\"grid_line_color\":{\"value\":null},\"ticker\":{\"id\":\"7083\",\"type\":\"BasicTicker\"}},\"id\":\"7086\",\"type\":\"Grid\"},{\"attributes\":{\"line_alpha\":0.2,\"line_color\":\"#1f77b4\",\"line_width\":2,\"x\":{\"field\":\"index\"},\"y\":{\"field\":\"value\"}},\"id\":\"7113\",\"type\":\"Line\"},{\"attributes\":{\"dimension\":1,\"grid_line_color\":{\"value\":null},\"ticker\":{\"id\":\"7088\",\"type\":\"BasicTicker\"}},\"id\":\"7091\",\"type\":\"Grid\"},{\"attributes\":{\"callback\":null,\"end\":999.0,\"reset_end\":999.0,\"reset_start\":0.0,\"tags\":[[[\"index\",\"index\",null]]]},\"id\":\"7069\",\"type\":\"Range1d\"},{\"attributes\":{},\"id\":\"7125\",\"type\":\"Selection\"},{\"attributes\":{\"callback\":null,\"data\":{\"Variable\":[\"val_mse\",\"val_mse\",\"val_mse\",\"val_mse\",\"val_mse\",\"val_mse\",\"val_mse\",\"val_mse\",\"val_mse\",\"val_mse\",\"val_mse\",\"val_mse\",\"val_mse\",\"val_mse\",\"val_mse\",\"val_mse\",\"val_mse\",\"val_mse\",\"val_mse\",\"val_mse\",\"val_mse\",\"val_mse\",\"val_mse\",\"val_mse\",\"val_mse\",\"val_mse\",\"val_mse\",\"val_mse\",\"val_mse\",\"val_mse\",\"val_mse\",\"val_mse\",\"val_mse\",\"val_mse\",\"val_mse\",\"val_mse\",\"val_mse\",\"val_mse\",\"val_mse\",\"val_mse\",\"val_mse\",\"val_mse\",\"val_mse\",\"val_mse\",\"val_mse\",\"val_mse\",\"val_mse\",\"val_mse\",\"val_mse\",\"val_mse\",\"val_mse\",\"val_mse\",\"val_mse\",\"val_mse\",\"val_mse\",\"val_mse\",\"val_mse\",\"val_mse\",\"val_mse\",\"val_mse\",\"val_mse\",\"val_mse\",\"val_mse\",\"val_mse\",\"val_mse\",\"val_mse\",\"val_mse\",\"val_mse\",\"val_mse\",\"val_mse\",\"val_mse\",\"val_mse\",\"val_mse\",\"val_mse\",\"val_mse\",\"val_mse\",\"val_mse\",\"val_mse\",\"val_mse\",\"val_mse\",\"val_mse\",\"val_mse\",\"val_mse\",\"val_mse\",\"val_mse\",\"val_mse\",\"val_mse\",\"val_mse\",\"val_mse\",\"val_mse\",\"val_mse\",\"val_mse\",\"val_mse\",\"val_mse\",\"val_mse\",\"val_mse\",\"val_mse\",\"val_mse\",\"val_mse\",\"val_mse\",\"val_mse\",\"val_mse\",\"val_mse\",\"val_mse\",\"val_mse\",\"val_mse\",\"val_mse\",\"val_mse\",\"val_mse\",\"val_mse\",\"val_mse\",\"val_mse\",\"val_mse\",\"val_mse\",\"val_mse\",\"val_mse\",\"val_mse\",\"val_mse\",\"val_mse\",\"val_mse\",\"val_mse\",\"val_mse\",\"val_mse\",\"val_mse\",\"val_mse\",\"val_mse\",\"val_mse\",\"val_mse\",\"val_mse\",\"val_mse\",\"val_mse\",\"val_mse\",\"val_mse\",\"val_mse\",\"val_mse\",\"val_mse\",\"val_mse\",\"val_mse\",\"val_mse\",\"val_mse\",\"val_mse\",\"val_mse\",\"val_mse\",\"val_mse\",\"val_mse\",\"val_mse\",\"val_mse\",\"val_mse\",\"val_mse\",\"val_mse\",\"val_mse\",\"val_mse\",\"val_mse\",\"val_mse\",\"val_mse\",\"val_mse\",\"val_mse\",\"val_mse\",\"val_mse\",\"val_mse\",\"val_mse\",\"val_mse\",\"val_mse\",\"val_mse\",\"val_mse\",\"val_mse\",\"val_mse\",\"val_mse\",\"val_mse\",\"val_mse\",\"val_mse\",\"val_mse\",\"val_mse\",\"val_mse\",\"val_mse\",\"val_mse\",\"val_mse\",\"val_mse\",\"val_mse\",\"val_mse\",\"val_mse\",\"val_mse\",\"val_mse\",\"val_mse\",\"val_mse\",\"val_mse\",\"val_mse\",\"val_mse\",\"val_mse\",\"val_mse\",\"val_mse\",\"val_mse\",\"val_mse\",\"val_mse\",\"val_mse\",\"val_mse\",\"val_mse\",\"val_mse\",\"val_mse\",\"val_mse\",\"val_mse\",\"val_mse\",\"val_mse\",\"val_mse\",\"val_mse\",\"val_mse\",\"val_mse\",\"val_mse\",\"val_mse\",\"val_mse\",\"val_mse\",\"val_mse\",\"val_mse\",\"val_mse\",\"val_mse\",\"val_mse\",\"val_mse\",\"val_mse\",\"val_mse\",\"val_mse\",\"val_mse\",\"val_mse\",\"val_mse\",\"val_mse\",\"val_mse\",\"val_mse\",\"val_mse\",\"val_mse\",\"val_mse\",\"val_mse\",\"val_mse\",\"val_mse\",\"val_mse\",\"val_mse\",\"val_mse\",\"val_mse\",\"val_mse\",\"val_mse\",\"val_mse\",\"val_mse\",\"val_mse\",\"val_mse\",\"val_mse\",\"val_mse\",\"val_mse\",\"val_mse\",\"val_mse\",\"val_mse\",\"val_mse\",\"val_mse\",\"val_mse\",\"val_mse\",\"val_mse\",\"val_mse\",\"val_mse\",\"val_mse\",\"val_mse\",\"val_mse\",\"val_mse\",\"val_mse\",\"val_mse\",\"val_mse\",\"val_mse\",\"val_mse\",\"val_mse\",\"val_mse\",\"val_mse\",\"val_mse\",\"val_mse\",\"val_mse\",\"val_mse\",\"val_mse\",\"val_mse\",\"val_mse\",\"val_mse\",\"val_mse\",\"val_mse\",\"val_mse\",\"val_mse\",\"val_mse\",\"val_mse\",\"val_mse\",\"val_mse\",\"val_mse\",\"val_mse\",\"val_mse\",\"val_mse\",\"val_mse\",\"val_mse\",\"val_mse\",\"val_mse\",\"val_mse\",\"val_mse\",\"val_mse\",\"val_mse\",\"val_mse\",\"val_mse\",\"val_mse\",\"val_mse\",\"val_mse\",\"val_mse\",\"val_mse\",\"val_mse\",\"val_mse\",\"val_mse\",\"val_mse\",\"val_mse\",\"val_mse\",\"val_mse\",\"val_mse\",\"val_mse\",\"val_mse\",\"val_mse\",\"val_mse\",\"val_mse\",\"val_mse\",\"val_mse\",\"val_mse\",\"val_mse\",\"val_mse\",\"val_mse\",\"val_mse\",\"val_mse\",\"val_mse\",\"val_mse\",\"val_mse\",\"val_mse\",\"val_mse\",\"val_mse\",\"val_mse\",\"val_mse\",\"val_mse\",\"val_mse\",\"val_mse\",\"val_mse\",\"val_mse\",\"val_mse\",\"val_mse\",\"val_mse\",\"val_mse\",\"val_mse\",\"val_mse\",\"val_mse\",\"val_mse\",\"val_mse\",\"val_mse\",\"val_mse\",\"val_mse\",\"val_mse\",\"val_mse\",\"val_mse\",\"val_mse\",\"val_mse\",\"val_mse\",\"val_mse\",\"val_mse\",\"val_mse\",\"val_mse\",\"val_mse\",\"val_mse\",\"val_mse\",\"val_mse\",\"val_mse\",\"val_mse\",\"val_mse\",\"val_mse\",\"val_mse\",\"val_mse\",\"val_mse\",\"val_mse\",\"val_mse\",\"val_mse\",\"val_mse\",\"val_mse\",\"val_mse\",\"val_mse\",\"val_mse\",\"val_mse\",\"val_mse\",\"val_mse\",\"val_mse\",\"val_mse\",\"val_mse\",\"val_mse\",\"val_mse\",\"val_mse\",\"val_mse\",\"val_mse\",\"val_mse\",\"val_mse\",\"val_mse\",\"val_mse\",\"val_mse\",\"val_mse\",\"val_mse\",\"val_mse\",\"val_mse\",\"val_mse\",\"val_mse\",\"val_mse\",\"val_mse\",\"val_mse\",\"val_mse\",\"val_mse\",\"val_mse\",\"val_mse\",\"val_mse\",\"val_mse\",\"val_mse\",\"val_mse\",\"val_mse\",\"val_mse\",\"val_mse\",\"val_mse\",\"val_mse\",\"val_mse\",\"val_mse\",\"val_mse\",\"val_mse\",\"val_mse\",\"val_mse\",\"val_mse\",\"val_mse\",\"val_mse\",\"val_mse\",\"val_mse\",\"val_mse\",\"val_mse\",\"val_mse\",\"val_mse\",\"val_mse\",\"val_mse\",\"val_mse\",\"val_mse\",\"val_mse\",\"val_mse\",\"val_mse\",\"val_mse\",\"val_mse\",\"val_mse\",\"val_mse\",\"val_mse\",\"val_mse\",\"val_mse\",\"val_mse\",\"val_mse\",\"val_mse\",\"val_mse\",\"val_mse\",\"val_mse\",\"val_mse\",\"val_mse\",\"val_mse\",\"val_mse\",\"val_mse\",\"val_mse\",\"val_mse\",\"val_mse\",\"val_mse\",\"val_mse\",\"val_mse\",\"val_mse\",\"val_mse\",\"val_mse\",\"val_mse\",\"val_mse\",\"val_mse\",\"val_mse\",\"val_mse\",\"val_mse\",\"val_mse\",\"val_mse\",\"val_mse\",\"val_mse\",\"val_mse\",\"val_mse\",\"val_mse\",\"val_mse\",\"val_mse\",\"val_mse\",\"val_mse\",\"val_mse\",\"val_mse\",\"val_mse\",\"val_mse\",\"val_mse\",\"val_mse\",\"val_mse\",\"val_mse\",\"val_mse\",\"val_mse\",\"val_mse\",\"val_mse\",\"val_mse\",\"val_mse\",\"val_mse\",\"val_mse\",\"val_mse\",\"val_mse\",\"val_mse\",\"val_mse\",\"val_mse\",\"val_mse\",\"val_mse\",\"val_mse\",\"val_mse\",\"val_mse\",\"val_mse\",\"val_mse\",\"val_mse\",\"val_mse\",\"val_mse\",\"val_mse\",\"val_mse\",\"val_mse\",\"val_mse\",\"val_mse\",\"val_mse\",\"val_mse\",\"val_mse\",\"val_mse\",\"val_mse\",\"val_mse\",\"val_mse\",\"val_mse\",\"val_mse\",\"val_mse\",\"val_mse\",\"val_mse\",\"val_mse\",\"val_mse\",\"val_mse\",\"val_mse\",\"val_mse\",\"val_mse\",\"val_mse\",\"val_mse\",\"val_mse\",\"val_mse\",\"val_mse\",\"val_mse\",\"val_mse\",\"val_mse\",\"val_mse\",\"val_mse\",\"val_mse\",\"val_mse\",\"val_mse\",\"val_mse\",\"val_mse\",\"val_mse\",\"val_mse\",\"val_mse\",\"val_mse\",\"val_mse\",\"val_mse\",\"val_mse\",\"val_mse\",\"val_mse\",\"val_mse\",\"val_mse\",\"val_mse\",\"val_mse\",\"val_mse\",\"val_mse\",\"val_mse\",\"val_mse\",\"val_mse\",\"val_mse\",\"val_mse\",\"val_mse\",\"val_mse\",\"val_mse\",\"val_mse\",\"val_mse\",\"val_mse\",\"val_mse\",\"val_mse\",\"val_mse\",\"val_mse\",\"val_mse\",\"val_mse\",\"val_mse\",\"val_mse\",\"val_mse\",\"val_mse\",\"val_mse\",\"val_mse\",\"val_mse\",\"val_mse\",\"val_mse\",\"val_mse\",\"val_mse\",\"val_mse\",\"val_mse\",\"val_mse\",\"val_mse\",\"val_mse\",\"val_mse\",\"val_mse\",\"val_mse\",\"val_mse\",\"val_mse\",\"val_mse\",\"val_mse\",\"val_mse\",\"val_mse\",\"val_mse\",\"val_mse\",\"val_mse\",\"val_mse\",\"val_mse\",\"val_mse\",\"val_mse\",\"val_mse\",\"val_mse\",\"val_mse\",\"val_mse\",\"val_mse\",\"val_mse\",\"val_mse\",\"val_mse\",\"val_mse\",\"val_mse\",\"val_mse\",\"val_mse\",\"val_mse\",\"val_mse\",\"val_mse\",\"val_mse\",\"val_mse\",\"val_mse\",\"val_mse\",\"val_mse\",\"val_mse\",\"val_mse\",\"val_mse\",\"val_mse\",\"val_mse\",\"val_mse\",\"val_mse\",\"val_mse\",\"val_mse\",\"val_mse\",\"val_mse\",\"val_mse\",\"val_mse\",\"val_mse\",\"val_mse\",\"val_mse\",\"val_mse\",\"val_mse\",\"val_mse\",\"val_mse\",\"val_mse\",\"val_mse\",\"val_mse\",\"val_mse\",\"val_mse\",\"val_mse\",\"val_mse\",\"val_mse\",\"val_mse\",\"val_mse\",\"val_mse\",\"val_mse\",\"val_mse\",\"val_mse\",\"val_mse\",\"val_mse\",\"val_mse\",\"val_mse\",\"val_mse\",\"val_mse\",\"val_mse\",\"val_mse\",\"val_mse\",\"val_mse\",\"val_mse\",\"val_mse\",\"val_mse\",\"val_mse\",\"val_mse\",\"val_mse\",\"val_mse\",\"val_mse\",\"val_mse\",\"val_mse\",\"val_mse\",\"val_mse\",\"val_mse\",\"val_mse\",\"val_mse\",\"val_mse\",\"val_mse\",\"val_mse\",\"val_mse\",\"val_mse\",\"val_mse\",\"val_mse\",\"val_mse\",\"val_mse\",\"val_mse\",\"val_mse\",\"val_mse\",\"val_mse\",\"val_mse\",\"val_mse\",\"val_mse\",\"val_mse\",\"val_mse\",\"val_mse\",\"val_mse\",\"val_mse\",\"val_mse\",\"val_mse\",\"val_mse\",\"val_mse\",\"val_mse\",\"val_mse\",\"val_mse\",\"val_mse\",\"val_mse\",\"val_mse\",\"val_mse\",\"val_mse\",\"val_mse\",\"val_mse\",\"val_mse\",\"val_mse\",\"val_mse\",\"val_mse\",\"val_mse\",\"val_mse\",\"val_mse\",\"val_mse\",\"val_mse\",\"val_mse\",\"val_mse\",\"val_mse\",\"val_mse\",\"val_mse\",\"val_mse\",\"val_mse\",\"val_mse\",\"val_mse\",\"val_mse\",\"val_mse\",\"val_mse\",\"val_mse\",\"val_mse\",\"val_mse\",\"val_mse\",\"val_mse\",\"val_mse\",\"val_mse\",\"val_mse\",\"val_mse\",\"val_mse\",\"val_mse\",\"val_mse\",\"val_mse\",\"val_mse\",\"val_mse\",\"val_mse\",\"val_mse\",\"val_mse\",\"val_mse\",\"val_mse\",\"val_mse\",\"val_mse\",\"val_mse\",\"val_mse\",\"val_mse\",\"val_mse\",\"val_mse\",\"val_mse\",\"val_mse\",\"val_mse\",\"val_mse\",\"val_mse\",\"val_mse\",\"val_mse\",\"val_mse\",\"val_mse\",\"val_mse\",\"val_mse\",\"val_mse\",\"val_mse\",\"val_mse\",\"val_mse\",\"val_mse\",\"val_mse\",\"val_mse\",\"val_mse\",\"val_mse\",\"val_mse\",\"val_mse\",\"val_mse\",\"val_mse\",\"val_mse\",\"val_mse\",\"val_mse\",\"val_mse\",\"val_mse\",\"val_mse\",\"val_mse\",\"val_mse\",\"val_mse\",\"val_mse\",\"val_mse\",\"val_mse\",\"val_mse\",\"val_mse\",\"val_mse\",\"val_mse\",\"val_mse\",\"val_mse\",\"val_mse\",\"val_mse\",\"val_mse\",\"val_mse\",\"val_mse\",\"val_mse\",\"val_mse\",\"val_mse\",\"val_mse\",\"val_mse\",\"val_mse\",\"val_mse\",\"val_mse\",\"val_mse\",\"val_mse\",\"val_mse\",\"val_mse\",\"val_mse\",\"val_mse\",\"val_mse\",\"val_mse\",\"val_mse\",\"val_mse\",\"val_mse\",\"val_mse\",\"val_mse\",\"val_mse\",\"val_mse\",\"val_mse\",\"val_mse\",\"val_mse\",\"val_mse\",\"val_mse\",\"val_mse\",\"val_mse\",\"val_mse\",\"val_mse\",\"val_mse\",\"val_mse\",\"val_mse\",\"val_mse\",\"val_mse\",\"val_mse\",\"val_mse\",\"val_mse\",\"val_mse\",\"val_mse\",\"val_mse\",\"val_mse\",\"val_mse\",\"val_mse\",\"val_mse\",\"val_mse\",\"val_mse\",\"val_mse\",\"val_mse\",\"val_mse\",\"val_mse\",\"val_mse\",\"val_mse\",\"val_mse\",\"val_mse\",\"val_mse\",\"val_mse\",\"val_mse\",\"val_mse\",\"val_mse\",\"val_mse\",\"val_mse\",\"val_mse\",\"val_mse\",\"val_mse\",\"val_mse\",\"val_mse\",\"val_mse\",\"val_mse\",\"val_mse\",\"val_mse\",\"val_mse\",\"val_mse\",\"val_mse\",\"val_mse\",\"val_mse\",\"val_mse\",\"val_mse\",\"val_mse\",\"val_mse\",\"val_mse\",\"val_mse\",\"val_mse\",\"val_mse\",\"val_mse\",\"val_mse\",\"val_mse\",\"val_mse\",\"val_mse\",\"val_mse\",\"val_mse\",\"val_mse\",\"val_mse\",\"val_mse\",\"val_mse\",\"val_mse\",\"val_mse\",\"val_mse\",\"val_mse\",\"val_mse\",\"val_mse\",\"val_mse\",\"val_mse\",\"val_mse\",\"val_mse\",\"val_mse\",\"val_mse\",\"val_mse\",\"val_mse\",\"val_mse\",\"val_mse\",\"val_mse\",\"val_mse\",\"val_mse\",\"val_mse\",\"val_mse\",\"val_mse\",\"val_mse\",\"val_mse\",\"val_mse\",\"val_mse\",\"val_mse\",\"val_mse\",\"val_mse\",\"val_mse\",\"val_mse\",\"val_mse\",\"val_mse\",\"val_mse\",\"val_mse\",\"val_mse\",\"val_mse\",\"val_mse\",\"val_mse\",\"val_mse\",\"val_mse\",\"val_mse\",\"val_mse\",\"val_mse\",\"val_mse\",\"val_mse\",\"val_mse\",\"val_mse\",\"val_mse\",\"val_mse\",\"val_mse\",\"val_mse\",\"val_mse\",\"val_mse\",\"val_mse\",\"val_mse\",\"val_mse\",\"val_mse\",\"val_mse\",\"val_mse\",\"val_mse\",\"val_mse\",\"val_mse\",\"val_mse\",\"val_mse\",\"val_mse\",\"val_mse\",\"val_mse\",\"val_mse\",\"val_mse\",\"val_mse\",\"val_mse\",\"val_mse\",\"val_mse\",\"val_mse\",\"val_mse\",\"val_mse\",\"val_mse\",\"val_mse\",\"val_mse\"],\"index\":[0,1,2,3,4,5,6,7,8,9,10,11,12,13,14,15,16,17,18,19,20,21,22,23,24,25,26,27,28,29,30,31,32,33,34,35,36,37,38,39,40,41,42,43,44,45,46,47,48,49,50,51,52,53,54,55,56,57,58,59,60,61,62,63,64,65,66,67,68,69,70,71,72,73,74,75,76,77,78,79,80,81,82,83,84,85,86,87,88,89,90,91,92,93,94,95,96,97,98,99,100,101,102,103,104,105,106,107,108,109,110,111,112,113,114,115,116,117,118,119,120,121,122,123,124,125,126,127,128,129,130,131,132,133,134,135,136,137,138,139,140,141,142,143,144,145,146,147,148,149,150,151,152,153,154,155,156,157,158,159,160,161,162,163,164,165,166,167,168,169,170,171,172,173,174,175,176,177,178,179,180,181,182,183,184,185,186,187,188,189,190,191,192,193,194,195,196,197,198,199,200,201,202,203,204,205,206,207,208,209,210,211,212,213,214,215,216,217,218,219,220,221,222,223,224,225,226,227,228,229,230,231,232,233,234,235,236,237,238,239,240,241,242,243,244,245,246,247,248,249,250,251,252,253,254,255,256,257,258,259,260,261,262,263,264,265,266,267,268,269,270,271,272,273,274,275,276,277,278,279,280,281,282,283,284,285,286,287,288,289,290,291,292,293,294,295,296,297,298,299,300,301,302,303,304,305,306,307,308,309,310,311,312,313,314,315,316,317,318,319,320,321,322,323,324,325,326,327,328,329,330,331,332,333,334,335,336,337,338,339,340,341,342,343,344,345,346,347,348,349,350,351,352,353,354,355,356,357,358,359,360,361,362,363,364,365,366,367,368,369,370,371,372,373,374,375,376,377,378,379,380,381,382,383,384,385,386,387,388,389,390,391,392,393,394,395,396,397,398,399,400,401,402,403,404,405,406,407,408,409,410,411,412,413,414,415,416,417,418,419,420,421,422,423,424,425,426,427,428,429,430,431,432,433,434,435,436,437,438,439,440,441,442,443,444,445,446,447,448,449,450,451,452,453,454,455,456,457,458,459,460,461,462,463,464,465,466,467,468,469,470,471,472,473,474,475,476,477,478,479,480,481,482,483,484,485,486,487,488,489,490,491,492,493,494,495,496,497,498,499,500,501,502,503,504,505,506,507,508,509,510,511,512,513,514,515,516,517,518,519,520,521,522,523,524,525,526,527,528,529,530,531,532,533,534,535,536,537,538,539,540,541,542,543,544,545,546,547,548,549,550,551,552,553,554,555,556,557,558,559,560,561,562,563,564,565,566,567,568,569,570,571,572,573,574,575,576,577,578,579,580,581,582,583,584,585,586,587,588,589,590,591,592,593,594,595,596,597,598,599,600,601,602,603,604,605,606,607,608,609,610,611,612,613,614,615,616,617,618,619,620,621,622,623,624,625,626,627,628,629,630,631,632,633,634,635,636,637,638,639,640,641,642,643,644,645,646,647,648,649,650,651,652,653,654,655,656,657,658,659,660,661,662,663,664,665,666,667,668,669,670,671,672,673,674,675,676,677,678,679,680,681,682,683,684,685,686,687,688,689,690,691,692,693,694,695,696,697,698,699,700,701,702,703,704,705,706,707,708,709,710,711,712,713,714,715,716,717,718,719,720,721,722,723,724,725,726,727,728,729,730,731,732,733,734,735,736,737,738,739,740,741,742,743,744,745,746,747,748,749,750,751,752,753,754,755,756,757,758,759,760,761,762,763,764,765,766,767,768,769,770,771,772,773,774,775,776,777,778,779,780,781,782,783,784,785,786,787,788,789,790,791,792,793,794,795,796,797,798,799,800,801,802,803,804,805,806,807,808,809,810,811,812,813,814,815,816,817,818,819,820,821,822,823,824,825,826,827,828,829,830,831,832,833,834,835,836,837,838,839,840,841,842,843,844,845,846,847,848,849,850,851,852,853,854,855,856,857,858,859,860,861,862,863,864,865,866,867,868,869,870,871,872,873,874,875,876,877,878,879,880,881,882,883,884,885,886,887,888,889,890,891,892,893,894,895,896,897,898,899,900,901,902,903,904,905,906,907,908,909,910,911,912,913,914,915,916,917,918,919,920,921,922,923,924,925,926,927,928,929,930,931,932,933,934,935,936,937,938,939,940,941,942,943,944,945,946,947,948,949,950,951,952,953,954,955,956,957,958,959,960,961,962,963,964,965,966,967,968,969,970,971,972,973,974,975,976,977,978,979,980,981,982,983,984,985,986,987,988,989,990,991,992,993,994,995,996,997,998,999],\"value\":{\"__ndarray__\":\"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\",\"dtype\":\"float64\",\"shape\":[1000]}},\"selected\":{\"id\":\"7125\",\"type\":\"Selection\"},\"selection_policy\":{\"id\":\"7148\",\"type\":\"UnionRenderers\"}},\"id\":\"7124\",\"type\":\"ColumnDataSource\"},{\"attributes\":{\"bottom_units\":\"screen\",\"fill_alpha\":{\"value\":0.5},\"fill_color\":{\"value\":\"lightgrey\"},\"left_units\":\"screen\",\"level\":\"overlay\",\"line_alpha\":{\"value\":1.0},\"line_color\":{\"value\":\"black\"},\"line_dash\":[4,4],\"line_width\":{\"value\":2},\"render_mode\":\"css\",\"right_units\":\"screen\",\"top_units\":\"screen\"},\"id\":\"7121\",\"type\":\"BoxAnnotation\"},{\"attributes\":{\"callback\":null,\"renderers\":[{\"id\":\"7114\",\"type\":\"GlyphRenderer\"},{\"id\":\"7130\",\"type\":\"GlyphRenderer\"}],\"tooltips\":[[\"Variable\",\"@{Variable}\"],[\"index\",\"@{index}\"],[\"value\",\"@{value}\"]]},\"id\":\"7071\",\"type\":\"HoverTool\"},{\"attributes\":{\"line_color\":\"#1f77b4\",\"line_width\":2,\"x\":{\"field\":\"index\"},\"y\":{\"field\":\"value\"}},\"id\":\"7111\",\"type\":\"Line\"},{\"attributes\":{\"line_alpha\":0.1,\"line_color\":\"#ff7f0e\",\"line_width\":2,\"x\":{\"field\":\"index\"},\"y\":{\"field\":\"value\"}},\"id\":\"7128\",\"type\":\"Line\"},{\"attributes\":{\"callback\":null,\"end\":587.9295654296875,\"reset_end\":587.9295654296875,\"reset_start\":1.8136427402496338,\"start\":1.8136427402496338,\"tags\":[[[\"value\",\"value\",null]]]},\"id\":\"7070\",\"type\":\"Range1d\"},{\"attributes\":{\"callback\":null,\"data\":{\"Variable\":[\"mse\",\"mse\",\"mse\",\"mse\",\"mse\",\"mse\",\"mse\",\"mse\",\"mse\",\"mse\",\"mse\",\"mse\",\"mse\",\"mse\",\"mse\",\"mse\",\"mse\",\"mse\",\"mse\",\"mse\",\"mse\",\"mse\",\"mse\",\"mse\",\"mse\",\"mse\",\"mse\",\"mse\",\"mse\",\"mse\",\"mse\",\"mse\",\"mse\",\"mse\",\"mse\",\"mse\",\"mse\",\"mse\",\"mse\",\"mse\",\"mse\",\"mse\",\"mse\",\"mse\",\"mse\",\"mse\",\"mse\",\"mse\",\"mse\",\"mse\",\"mse\",\"mse\",\"mse\",\"mse\",\"mse\",\"mse\",\"mse\",\"mse\",\"mse\",\"mse\",\"mse\",\"mse\",\"mse\",\"mse\",\"mse\",\"mse\",\"mse\",\"mse\",\"mse\",\"mse\",\"mse\",\"mse\",\"mse\",\"mse\",\"mse\",\"mse\",\"mse\",\"mse\",\"mse\",\"mse\",\"mse\",\"mse\",\"mse\",\"mse\",\"mse\",\"mse\",\"mse\",\"mse\",\"mse\",\"mse\",\"mse\",\"mse\",\"mse\",\"mse\",\"mse\",\"mse\",\"mse\",\"mse\",\"mse\",\"mse\",\"mse\",\"mse\",\"mse\",\"mse\",\"mse\",\"mse\",\"mse\",\"mse\",\"mse\",\"mse\",\"mse\",\"mse\",\"mse\",\"mse\",\"mse\",\"mse\",\"mse\",\"mse\",\"mse\",\"mse\",\"mse\",\"mse\",\"mse\",\"mse\",\"mse\",\"mse\",\"mse\",\"mse\",\"mse\",\"mse\",\"mse\",\"mse\",\"mse\",\"mse\",\"mse\",\"mse\",\"mse\",\"mse\",\"mse\",\"mse\",\"mse\",\"mse\",\"mse\",\"mse\",\"mse\",\"mse\",\"mse\",\"mse\",\"mse\",\"mse\",\"mse\",\"mse\",\"mse\",\"mse\",\"mse\",\"mse\",\"mse\",\"mse\",\"mse\",\"mse\",\"mse\",\"mse\",\"mse\",\"mse\",\"mse\",\"mse\",\"mse\",\"mse\",\"mse\",\"mse\",\"mse\",\"mse\",\"mse\",\"mse\",\"mse\",\"mse\",\"mse\",\"mse\",\"mse\",\"mse\",\"mse\",\"mse\",\"mse\",\"mse\",\"mse\",\"mse\",\"mse\",\"mse\",\"mse\",\"mse\",\"mse\",\"mse\",\"mse\",\"mse\",\"mse\",\"mse\",\"mse\",\"mse\",\"mse\",\"mse\",\"mse\",\"mse\",\"mse\",\"mse\",\"mse\",\"mse\",\"mse\",\"mse\",\"mse\",\"mse\",\"mse\",\"mse\",\"mse\",\"mse\",\"mse\",\"mse\",\"mse\",\"mse\",\"mse\",\"mse\",\"mse\",\"mse\",\"mse\",\"mse\",\"mse\",\"mse\",\"mse\",\"mse\",\"mse\",\"mse\",\"mse\",\"mse\",\"mse\",\"mse\",\"mse\",\"mse\",\"mse\",\"mse\",\"mse\",\"mse\",\"mse\",\"mse\",\"mse\",\"mse\",\"mse\",\"mse\",\"mse\",\"mse\",\"mse\",\"mse\",\"mse\",\"mse\",\"mse\",\"mse\",\"mse\",\"mse\",\"mse\",\"mse\",\"mse\",\"mse\",\"mse\",\"mse\",\"mse\",\"mse\",\"mse\",\"mse\",\"mse\",\"mse\",\"mse\",\"mse\",\"mse\",\"mse\",\"mse\",\"mse\",\"mse\",\"mse\",\"mse\",\"mse\",\"mse\",\"mse\",\"mse\",\"mse\",\"mse\",\"mse\",\"mse\",\"mse\",\"mse\",\"mse\",\"mse\",\"mse\",\"mse\",\"mse\",\"mse\",\"mse\",\"mse\",\"mse\",\"mse\",\"mse\",\"mse\",\"mse\",\"mse\",\"mse\",\"mse\",\"mse\",\"mse\",\"mse\",\"mse\",\"mse\",\"mse\",\"mse\",\"mse\",\"mse\",\"mse\",\"mse\",\"mse\",\"mse\",\"mse\",\"mse\",\"mse\",\"mse\",\"mse\",\"mse\",\"mse\",\"mse\",\"mse\",\"mse\",\"mse\",\"mse\",\"mse\",\"mse\",\"mse\",\"mse\",\"mse\",\"mse\",\"mse\",\"mse\",\"mse\",\"mse\",\"mse\",\"mse\",\"mse\",\"mse\",\"mse\",\"mse\",\"mse\",\"mse\",\"mse\",\"mse\",\"mse\",\"mse\",\"mse\",\"mse\",\"mse\",\"mse\",\"mse\",\"mse\",\"mse\",\"mse\",\"mse\",\"mse\",\"mse\",\"mse\",\"mse\",\"mse\",\"mse\",\"mse\",\"mse\",\"mse\",\"mse\",\"mse\",\"mse\",\"mse\",\"mse\",\"mse\",\"mse\",\"mse\",\"mse\",\"mse\",\"mse\",\"mse\",\"mse\",\"mse\",\"mse\",\"mse\",\"mse\",\"mse\",\"mse\",\"mse\",\"mse\",\"mse\",\"mse\",\"mse\",\"mse\",\"mse\",\"mse\",\"mse\",\"mse\",\"mse\",\"mse\",\"mse\",\"mse\",\"mse\",\"mse\",\"mse\",\"mse\",\"mse\",\"mse\",\"mse\",\"mse\",\"mse\",\"mse\",\"mse\",\"mse\",\"mse\",\"mse\",\"mse\",\"mse\",\"mse\",\"mse\",\"mse\",\"mse\",\"mse\",\"mse\",\"mse\",\"mse\",\"mse\",\"mse\",\"mse\",\"mse\",\"mse\",\"mse\",\"mse\",\"mse\",\"mse\",\"mse\",\"mse\",\"mse\",\"mse\",\"mse\",\"mse\",\"mse\",\"mse\",\"mse\",\"mse\",\"mse\",\"mse\",\"mse\",\"mse\",\"mse\",\"mse\",\"mse\",\"mse\",\"mse\",\"mse\",\"mse\",\"mse\",\"mse\",\"mse\",\"mse\",\"mse\",\"mse\",\"mse\",\"mse\",\"mse\",\"mse\",\"mse\",\"mse\",\"mse\",\"mse\",\"mse\",\"mse\",\"mse\",\"mse\",\"mse\",\"mse\",\"mse\",\"mse\",\"mse\",\"mse\",\"mse\",\"mse\",\"mse\",\"mse\",\"mse\",\"mse\",\"mse\",\"mse\",\"mse\",\"mse\",\"mse\",\"mse\",\"mse\",\"mse\",\"mse\",\"mse\",\"mse\",\"mse\",\"mse\",\"mse\",\"mse\",\"mse\",\"mse\",\"mse\",\"mse\",\"mse\",\"mse\",\"mse\",\"mse\",\"mse\",\"mse\",\"mse\",\"mse\",\"mse\",\"mse\",\"mse\",\"mse\",\"mse\",\"mse\",\"mse\",\"mse\",\"mse\",\"mse\",\"mse\",\"mse\",\"mse\",\"mse\",\"mse\",\"mse\",\"mse\",\"mse\",\"mse\",\"mse\",\"mse\",\"mse\",\"mse\",\"mse\",\"mse\",\"mse\",\"mse\",\"mse\",\"mse\",\"mse\",\"mse\",\"mse\",\"mse\",\"mse\",\"mse\",\"mse\",\"mse\",\"mse\",\"mse\",\"mse\",\"mse\",\"mse\",\"mse\",\"mse\",\"mse\",\"mse\",\"mse\",\"mse\",\"mse\",\"mse\",\"mse\",\"mse\",\"mse\",\"mse\",\"mse\",\"mse\",\"mse\",\"mse\",\"mse\",\"mse\",\"mse\",\"mse\",\"mse\",\"mse\",\"mse\",\"mse\",\"mse\",\"mse\",\"mse\",\"mse\",\"mse\",\"mse\",\"mse\",\"mse\",\"mse\",\"mse\",\"mse\",\"mse\",\"mse\",\"mse\",\"mse\",\"mse\",\"mse\",\"mse\",\"mse\",\"mse\",\"mse\",\"mse\",\"mse\",\"mse\",\"mse\",\"mse\",\"mse\",\"mse\",\"mse\",\"mse\",\"mse\",\"mse\",\"mse\",\"mse\",\"mse\",\"mse\",\"mse\",\"mse\",\"mse\",\"mse\",\"mse\",\"mse\",\"mse\",\"mse\",\"mse\",\"mse\",\"mse\",\"mse\",\"mse\",\"mse\",\"mse\",\"mse\",\"mse\",\"mse\",\"mse\",\"mse\",\"mse\",\"mse\",\"mse\",\"mse\",\"mse\",\"mse\",\"mse\",\"mse\",\"mse\",\"mse\",\"mse\",\"mse\",\"mse\",\"mse\",\"mse\",\"mse\",\"mse\",\"mse\",\"mse\",\"mse\",\"mse\",\"mse\",\"mse\",\"mse\",\"mse\",\"mse\",\"mse\",\"mse\",\"mse\",\"mse\",\"mse\",\"mse\",\"mse\",\"mse\",\"mse\",\"mse\",\"mse\",\"mse\",\"mse\",\"mse\",\"mse\",\"mse\",\"mse\",\"mse\",\"mse\",\"mse\",\"mse\",\"mse\",\"mse\",\"mse\",\"mse\",\"mse\",\"mse\",\"mse\",\"mse\",\"mse\",\"mse\",\"mse\",\"mse\",\"mse\",\"mse\",\"mse\",\"mse\",\"mse\",\"mse\",\"mse\",\"mse\",\"mse\",\"mse\",\"mse\",\"mse\",\"mse\",\"mse\",\"mse\",\"mse\",\"mse\",\"mse\",\"mse\",\"mse\",\"mse\",\"mse\",\"mse\",\"mse\",\"mse\",\"mse\",\"mse\",\"mse\",\"mse\",\"mse\",\"mse\",\"mse\",\"mse\",\"mse\",\"mse\",\"mse\",\"mse\",\"mse\",\"mse\",\"mse\",\"mse\",\"mse\",\"mse\",\"mse\",\"mse\",\"mse\",\"mse\",\"mse\",\"mse\",\"mse\",\"mse\",\"mse\",\"mse\",\"mse\",\"mse\",\"mse\",\"mse\",\"mse\",\"mse\",\"mse\",\"mse\",\"mse\",\"mse\",\"mse\",\"mse\",\"mse\",\"mse\",\"mse\",\"mse\",\"mse\",\"mse\",\"mse\",\"mse\",\"mse\",\"mse\",\"mse\",\"mse\",\"mse\",\"mse\",\"mse\",\"mse\",\"mse\",\"mse\",\"mse\",\"mse\",\"mse\",\"mse\",\"mse\",\"mse\",\"mse\",\"mse\",\"mse\",\"mse\",\"mse\",\"mse\",\"mse\",\"mse\",\"mse\",\"mse\",\"mse\",\"mse\",\"mse\",\"mse\",\"mse\",\"mse\",\"mse\",\"mse\",\"mse\",\"mse\",\"mse\",\"mse\",\"mse\",\"mse\",\"mse\",\"mse\",\"mse\",\"mse\",\"mse\",\"mse\",\"mse\",\"mse\",\"mse\",\"mse\",\"mse\",\"mse\",\"mse\",\"mse\",\"mse\",\"mse\",\"mse\",\"mse\",\"mse\",\"mse\",\"mse\",\"mse\",\"mse\",\"mse\",\"mse\",\"mse\",\"mse\",\"mse\",\"mse\",\"mse\",\"mse\",\"mse\",\"mse\",\"mse\",\"mse\",\"mse\",\"mse\",\"mse\",\"mse\",\"mse\",\"mse\",\"mse\",\"mse\",\"mse\",\"mse\",\"mse\",\"mse\",\"mse\",\"mse\",\"mse\",\"mse\",\"mse\",\"mse\",\"mse\",\"mse\",\"mse\",\"mse\",\"mse\",\"mse\",\"mse\",\"mse\",\"mse\",\"mse\",\"mse\",\"mse\",\"mse\",\"mse\",\"mse\",\"mse\",\"mse\",\"mse\",\"mse\",\"mse\",\"mse\",\"mse\",\"mse\",\"mse\",\"mse\",\"mse\",\"mse\",\"mse\",\"mse\",\"mse\",\"mse\",\"mse\",\"mse\",\"mse\",\"mse\",\"mse\",\"mse\",\"mse\",\"mse\",\"mse\",\"mse\",\"mse\",\"mse\",\"mse\",\"mse\",\"mse\",\"mse\",\"mse\",\"mse\",\"mse\",\"mse\",\"mse\",\"mse\",\"mse\",\"mse\",\"mse\",\"mse\",\"mse\",\"mse\",\"mse\",\"mse\",\"mse\",\"mse\",\"mse\",\"mse\",\"mse\",\"mse\",\"mse\",\"mse\",\"mse\",\"mse\",\"mse\",\"mse\",\"mse\",\"mse\",\"mse\",\"mse\",\"mse\",\"mse\",\"mse\",\"mse\",\"mse\",\"mse\",\"mse\",\"mse\",\"mse\",\"mse\",\"mse\",\"mse\",\"mse\",\"mse\",\"mse\",\"mse\",\"mse\",\"mse\",\"mse\",\"mse\",\"mse\",\"mse\",\"mse\",\"mse\",\"mse\",\"mse\",\"mse\",\"mse\",\"mse\",\"mse\",\"mse\",\"mse\",\"mse\",\"mse\",\"mse\",\"mse\",\"mse\",\"mse\",\"mse\",\"mse\",\"mse\",\"mse\",\"mse\",\"mse\",\"mse\",\"mse\",\"mse\",\"mse\",\"mse\",\"mse\",\"mse\",\"mse\",\"mse\",\"mse\",\"mse\",\"mse\",\"mse\",\"mse\",\"mse\",\"mse\",\"mse\",\"mse\",\"mse\",\"mse\"],\"index\":[0,1,2,3,4,5,6,7,8,9,10,11,12,13,14,15,16,17,18,19,20,21,22,23,24,25,26,27,28,29,30,31,32,33,34,35,36,37,38,39,40,41,42,43,44,45,46,47,48,49,50,51,52,53,54,55,56,57,58,59,60,61,62,63,64,65,66,67,68,69,70,71,72,73,74,75,76,77,78,79,80,81,82,83,84,85,86,87,88,89,90,91,92,93,94,95,96,97,98,99,100,101,102,103,104,105,106,107,108,109,110,111,112,113,114,115,116,117,118,119,120,121,122,123,124,125,126,127,128,129,130,131,132,133,134,135,136,137,138,139,140,141,142,143,144,145,146,147,148,149,150,151,152,153,154,155,156,157,158,159,160,161,162,163,164,165,166,167,168,169,170,171,172,173,174,175,176,177,178,179,180,181,182,183,184,185,186,187,188,189,190,191,192,193,194,195,196,197,198,199,200,201,202,203,204,205,206,207,208,209,210,211,212,213,214,215,216,217,218,219,220,221,222,223,224,225,226,227,228,229,230,231,232,233,234,235,236,237,238,239,240,241,242,243,244,245,246,247,248,249,250,251,252,253,254,255,256,257,258,259,260,261,262,263,264,265,266,267,268,269,270,271,272,273,274,275,276,277,278,279,280,281,282,283,284,285,286,287,288,289,290,291,292,293,294,295,296,297,298,299,300,301,302,303,304,305,306,307,308,309,310,311,312,313,314,315,316,317,318,319,320,321,322,323,324,325,326,327,328,329,330,331,332,333,334,335,336,337,338,339,340,341,342,343,344,345,346,347,348,349,350,351,352,353,354,355,356,357,358,359,360,361,362,363,364,365,366,367,368,369,370,371,372,373,374,375,376,377,378,379,380,381,382,383,384,385,386,387,388,389,390,391,392,393,394,395,396,397,398,399,400,401,402,403,404,405,406,407,408,409,410,411,412,413,414,415,416,417,418,419,420,421,422,423,424,425,426,427,428,429,430,431,432,433,434,435,436,437,438,439,440,441,442,443,444,445,446,447,448,449,450,451,452,453,454,455,456,457,458,459,460,461,462,463,464,465,466,467,468,469,470,471,472,473,474,475,476,477,478,479,480,481,482,483,484,485,486,487,488,489,490,491,492,493,494,495,496,497,498,499,500,501,502,503,504,505,506,507,508,509,510,511,512,513,514,515,516,517,518,519,520,521,522,523,524,525,526,527,528,529,530,531,532,533,534,535,536,537,538,539,540,541,542,543,544,545,546,547,548,549,550,551,552,553,554,555,556,557,558,559,560,561,562,563,564,565,566,567,568,569,570,571,572,573,574,575,576,577,578,579,580,581,582,583,584,585,586,587,588,589,590,591,592,593,594,595,596,597,598,599,600,601,602,603,604,605,606,607,608,609,610,611,612,613,614,615,616,617,618,619,620,621,622,623,624,625,626,627,628,629,630,631,632,633,634,635,636,637,638,639,640,641,642,643,644,645,646,647,648,649,650,651,652,653,654,655,656,657,658,659,660,661,662,663,664,665,666,667,668,669,670,671,672,673,674,675,676,677,678,679,680,681,682,683,684,685,686,687,688,689,690,691,692,693,694,695,696,697,698,699,700,701,702,703,704,705,706,707,708,709,710,711,712,713,714,715,716,717,718,719,720,721,722,723,724,725,726,727,728,729,730,731,732,733,734,735,736,737,738,739,740,741,742,743,744,745,746,747,748,749,750,751,752,753,754,755,756,757,758,759,760,761,762,763,764,765,766,767,768,769,770,771,772,773,774,775,776,777,778,779,780,781,782,783,784,785,786,787,788,789,790,791,792,793,794,795,796,797,798,799,800,801,802,803,804,805,806,807,808,809,810,811,812,813,814,815,816,817,818,819,820,821,822,823,824,825,826,827,828,829,830,831,832,833,834,835,836,837,838,839,840,841,842,843,844,845,846,847,848,849,850,851,852,853,854,855,856,857,858,859,860,861,862,863,864,865,866,867,868,869,870,871,872,873,874,875,876,877,878,879,880,881,882,883,884,885,886,887,888,889,890,891,892,893,894,895,896,897,898,899,900,901,902,903,904,905,906,907,908,909,910,911,912,913,914,915,916,917,918,919,920,921,922,923,924,925,926,927,928,929,930,931,932,933,934,935,936,937,938,939,940,941,942,943,944,945,946,947,948,949,950,951,952,953,954,955,956,957,958,959,960,961,962,963,964,965,966,967,968,969,970,971,972,973,974,975,976,977,978,979,980,981,982,983,984,985,986,987,988,989,990,991,992,993,994,995,996,997,998,999],\"value\":{\"__ndarray__\":\"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\",\"dtype\":\"float64\",\"shape\":[1000]}},\"selected\":{\"id\":\"7109\",\"type\":\"Selection\"},\"selection_policy\":{\"id\":\"7137\",\"type\":\"UnionRenderers\"}},\"id\":\"7108\",\"type\":\"ColumnDataSource\"},{\"attributes\":{},\"id\":\"7109\",\"type\":\"Selection\"},{\"attributes\":{\"line_color\":\"#ff7f0e\",\"line_width\":2,\"x\":{\"field\":\"index\"},\"y\":{\"field\":\"value\"}},\"id\":\"7127\",\"type\":\"Line\"},{\"attributes\":{},\"id\":\"7092\",\"type\":\"SaveTool\"},{\"attributes\":{\"line_alpha\":0.2,\"line_color\":\"#ff7f0e\",\"line_width\":2,\"x\":{\"field\":\"index\"},\"y\":{\"field\":\"value\"}},\"id\":\"7129\",\"type\":\"Line\"},{\"attributes\":{},\"id\":\"7148\",\"type\":\"UnionRenderers\"},{\"attributes\":{\"data_source\":{\"id\":\"7124\",\"type\":\"ColumnDataSource\"},\"glyph\":{\"id\":\"7127\",\"type\":\"Line\"},\"hover_glyph\":null,\"muted_glyph\":{\"id\":\"7129\",\"type\":\"Line\"},\"nonselection_glyph\":{\"id\":\"7128\",\"type\":\"Line\"},\"selection_glyph\":null,\"view\":{\"id\":\"7131\",\"type\":\"CDSView\"}},\"id\":\"7130\",\"type\":\"GlyphRenderer\"},{\"attributes\":{},\"id\":\"7094\",\"type\":\"WheelZoomTool\"},{\"attributes\":{\"label\":{\"value\":\"val_mse\"},\"renderers\":[{\"id\":\"7130\",\"type\":\"GlyphRenderer\"}]},\"id\":\"7140\",\"type\":\"LegendItem\"},{\"attributes\":{\"axis_label\":\"\",\"bounds\":\"auto\",\"formatter\":{\"id\":\"7107\",\"type\":\"BasicTickFormatter\"},\"major_label_orientation\":\"horizontal\",\"ticker\":{\"id\":\"7088\",\"type\":\"BasicTicker\"}},\"id\":\"7087\",\"type\":\"LinearAxis\"},{\"attributes\":{},\"id\":\"7078\",\"type\":\"LinearScale\"},{\"attributes\":{\"text\":\"MSE\",\"text_color\":{\"value\":\"black\"},\"text_font_size\":{\"value\":\"12pt\"}},\"id\":\"7074\",\"type\":\"Title\"},{\"attributes\":{},\"id\":\"7105\",\"type\":\"BasicTickFormatter\"},{\"attributes\":{},\"id\":\"7093\",\"type\":\"PanTool\"},{\"attributes\":{\"source\":{\"id\":\"7124\",\"type\":\"ColumnDataSource\"}},\"id\":\"7131\",\"type\":\"CDSView\"}],\"root_ids\":[\"7073\"]},\"title\":\"Bokeh Application\",\"version\":\"1.1.0\"}};\n",
       "  var render_items = [{\"docid\":\"0554a4df-c5fd-49f8-b965-91ab8199bd95\",\"roots\":{\"7073\":\"1808d6fe-7b42-460c-b9ec-f637d0780502\"}}];\n",
       "  root.Bokeh.embed.embed_items_notebook(docs_json, render_items);\n",
       "\n",
       "  }\n",
       "  if (root.Bokeh !== undefined) {\n",
       "    embed_document(root);\n",
       "  } else {\n",
       "    var attempts = 0;\n",
       "    var timer = setInterval(function(root) {\n",
       "      if (root.Bokeh !== undefined) {\n",
       "        embed_document(root);\n",
       "        clearInterval(timer);\n",
       "      }\n",
       "      attempts++;\n",
       "      if (attempts > 100) {\n",
       "        console.log(\"Bokeh: ERROR: Unable to run BokehJS code because BokehJS library is missing\");\n",
       "        clearInterval(timer);\n",
       "      }\n",
       "    }, 10, root)\n",
       "  }\n",
       "})(window);"
      ],
      "application/vnd.holoviews_exec.v0+json": "",
      "text/html": [
       "<div id='7073' style='display: table; margin: 0 auto;'>\n",
       "\n",
       "\n",
       "\n",
       "\n",
       "\n",
       "  <div class=\"bk-root\" id=\"1808d6fe-7b42-460c-b9ec-f637d0780502\" data-root-id=\"7073\"></div>\n",
       "</div>"
      ],
      "text/plain": [
       ":NdOverlay   [Variable]\n",
       "   :Curve   [index]   (value)"
      ]
     },
     "execution_count": 138,
     "metadata": {
      "application/vnd.holoviews_exec.v0+json": {
       "id": "7073"
      }
     },
     "output_type": "execute_result"
    }
   ],
   "source": [
    "hist.loc[:, ['mse', 'val_mse']].hvplot(title='MSE')"
   ]
  },
  {
   "cell_type": "code",
   "execution_count": 139,
   "metadata": {},
   "outputs": [
    {
     "name": "stdout",
     "output_type": "stream",
     "text": [
      "\n",
      "........................................................................"
     ]
    }
   ],
   "source": [
    "model = build_model()\n",
    "\n",
    "# The patience parameter is the amount of epochs to check for improvement\n",
    "early_stop = keras.callbacks.EarlyStopping(monitor='val_loss', patience=10)\n",
    "\n",
    "history = model.fit(normed_train_data, train_labels, epochs=EPOCHS,\n",
    "                    validation_split = 0.2, verbose=0, callbacks=[early_stop, PrintDot()])\n"
   ]
  },
  {
   "cell_type": "code",
   "execution_count": 140,
   "metadata": {},
   "outputs": [
    {
     "data": {
      "text/html": [
       "<div>\n",
       "<style scoped>\n",
       "    .dataframe tbody tr th:only-of-type {\n",
       "        vertical-align: middle;\n",
       "    }\n",
       "\n",
       "    .dataframe tbody tr th {\n",
       "        vertical-align: top;\n",
       "    }\n",
       "\n",
       "    .dataframe thead th {\n",
       "        text-align: right;\n",
       "    }\n",
       "</style>\n",
       "<table border=\"1\" class=\"dataframe\">\n",
       "  <thead>\n",
       "    <tr style=\"text-align: right;\">\n",
       "      <th></th>\n",
       "      <th>loss</th>\n",
       "      <th>mae</th>\n",
       "      <th>mse</th>\n",
       "      <th>val_loss</th>\n",
       "      <th>val_mae</th>\n",
       "      <th>val_mse</th>\n",
       "      <th>epoch</th>\n",
       "    </tr>\n",
       "  </thead>\n",
       "  <tbody>\n",
       "    <tr>\n",
       "      <th>67</th>\n",
       "      <td>6.512257</td>\n",
       "      <td>1.851649</td>\n",
       "      <td>6.512257</td>\n",
       "      <td>8.298506</td>\n",
       "      <td>2.276998</td>\n",
       "      <td>8.298507</td>\n",
       "      <td>67</td>\n",
       "    </tr>\n",
       "    <tr>\n",
       "      <th>68</th>\n",
       "      <td>6.861329</td>\n",
       "      <td>1.866956</td>\n",
       "      <td>6.861329</td>\n",
       "      <td>8.289279</td>\n",
       "      <td>2.190816</td>\n",
       "      <td>8.289279</td>\n",
       "      <td>68</td>\n",
       "    </tr>\n",
       "    <tr>\n",
       "      <th>69</th>\n",
       "      <td>6.507987</td>\n",
       "      <td>1.826550</td>\n",
       "      <td>6.507987</td>\n",
       "      <td>8.275130</td>\n",
       "      <td>2.197787</td>\n",
       "      <td>8.275131</td>\n",
       "      <td>69</td>\n",
       "    </tr>\n",
       "    <tr>\n",
       "      <th>70</th>\n",
       "      <td>6.454005</td>\n",
       "      <td>1.821394</td>\n",
       "      <td>6.454004</td>\n",
       "      <td>8.268127</td>\n",
       "      <td>2.265001</td>\n",
       "      <td>8.268127</td>\n",
       "      <td>70</td>\n",
       "    </tr>\n",
       "    <tr>\n",
       "      <th>71</th>\n",
       "      <td>6.550586</td>\n",
       "      <td>1.833067</td>\n",
       "      <td>6.550586</td>\n",
       "      <td>8.122172</td>\n",
       "      <td>2.186052</td>\n",
       "      <td>8.122172</td>\n",
       "      <td>71</td>\n",
       "    </tr>\n",
       "  </tbody>\n",
       "</table>\n",
       "</div>"
      ],
      "text/plain": [
       "        loss       mae       mse  val_loss   val_mae   val_mse  epoch\n",
       "67  6.512257  1.851649  6.512257  8.298506  2.276998  8.298507     67\n",
       "68  6.861329  1.866956  6.861329  8.289279  2.190816  8.289279     68\n",
       "69  6.507987  1.826550  6.507987  8.275130  2.197787  8.275131     69\n",
       "70  6.454005  1.821394  6.454004  8.268127  2.265001  8.268127     70\n",
       "71  6.550586  1.833067  6.550586  8.122172  2.186052  8.122172     71"
      ]
     },
     "execution_count": 140,
     "metadata": {},
     "output_type": "execute_result"
    }
   ],
   "source": [
    "hist = pd.DataFrame(history.history)\n",
    "hist['epoch'] = history.epoch\n",
    "hist.tail()"
   ]
  },
  {
   "cell_type": "code",
   "execution_count": 145,
   "metadata": {},
   "outputs": [
    {
     "data": {
      "application/javascript": [
       "\n",
       "// Ugly hack - see HoloViews #2574 for more information\n",
       "if (!(document.getElementById('8453')) && !(document.getElementById('_anim_imgNone'))) {\n",
       "  console.log(\"Creating DOM nodes dynamically for assumed nbconvert export. To generate clean HTML output set HV_DOC_HTML as an environment variable.\")\n",
       "  var htmlObject = document.createElement('div');\n",
       "  htmlObject.innerHTML = `<div id='8453' style='display: table; margin: 0 auto;'>\n",
       "\n",
       "\n",
       "\n",
       "\n",
       "\n",
       "  <div class=\"bk-root\" id=\"e4dceb25-ceb1-44ac-b739-a769a1f78a67\" data-root-id=\"8453\"></div>\n",
       "</div>`;\n",
       "  var scriptTags = document.getElementsByTagName('script');\n",
       "  var parentTag = scriptTags[scriptTags.length-1].parentNode;\n",
       "  if (parentTag.attributes.length && (parentTag.attributes[0].name == 'data-shell-mode')) {\n",
       "    alert('Displaying PyViz objects in JupyterLab requires the jupyterlab_pyviz extension to be installed, install it with:\\n\\n\\tjupyter labextension install @pyviz/jupyterlab_pyviz');\n",
       "  } else {\n",
       "    parentTag.append(htmlObject)\n",
       "  }\n",
       "}\n",
       "(function(root) {\n",
       "  function embed_document(root) {\n",
       "    \n",
       "  var docs_json = {\"383c8e57-7b40-42d0-ba33-cb2a23886e61\":{\"roots\":{\"references\":[{\"attributes\":{\"below\":[{\"id\":\"8462\",\"type\":\"LinearAxis\"}],\"center\":[{\"id\":\"8466\",\"type\":\"Grid\"},{\"id\":\"8471\",\"type\":\"Grid\"},{\"id\":\"8502\",\"type\":\"Legend\"}],\"left\":[{\"id\":\"8467\",\"type\":\"LinearAxis\"}],\"margin\":null,\"min_border_bottom\":10,\"min_border_left\":10,\"min_border_right\":10,\"min_border_top\":10,\"plot_height\":300,\"plot_width\":700,\"renderers\":[{\"id\":\"8494\",\"type\":\"GlyphRenderer\"},{\"id\":\"8510\",\"type\":\"GlyphRenderer\"}],\"right\":[{\"id\":\"8502\",\"type\":\"Legend\"}],\"sizing_mode\":\"fixed\",\"title\":{\"id\":\"8454\",\"type\":\"Title\"},\"toolbar\":{\"id\":\"8477\",\"type\":\"Toolbar\"},\"x_range\":{\"id\":\"8449\",\"type\":\"Range1d\"},\"x_scale\":{\"id\":\"8458\",\"type\":\"LinearScale\"},\"y_range\":{\"id\":\"8450\",\"type\":\"Range1d\"},\"y_scale\":{\"id\":\"8460\",\"type\":\"LinearScale\"}},\"id\":\"8453\",\"subtype\":\"Figure\",\"type\":\"Plot\"},{\"attributes\":{\"label\":{\"value\":\"val_loss\"},\"renderers\":[{\"id\":\"8510\",\"type\":\"GlyphRenderer\"}]},\"id\":\"8520\",\"type\":\"LegendItem\"},{\"attributes\":{},\"id\":\"8476\",\"type\":\"ResetTool\"},{\"attributes\":{\"callback\":null,\"end\":71.0,\"reset_end\":71.0,\"reset_start\":0.0,\"tags\":[[[\"index\",\"index\",null]]]},\"id\":\"8449\",\"type\":\"Range1d\"},{\"attributes\":{\"callback\":null,\"end\":562.0735504028806,\"reset_end\":562.0735504028806,\"reset_start\":6.399624634548962,\"start\":6.399624634548962,\"tags\":[[[\"value\",\"value\",null]]]},\"id\":\"8450\",\"type\":\"Range1d\"},{\"attributes\":{},\"id\":\"8489\",\"type\":\"Selection\"},{\"attributes\":{},\"id\":\"8463\",\"type\":\"BasicTicker\"},{\"attributes\":{},\"id\":\"8472\",\"type\":\"SaveTool\"},{\"attributes\":{\"callback\":null,\"renderers\":[{\"id\":\"8494\",\"type\":\"GlyphRenderer\"},{\"id\":\"8510\",\"type\":\"GlyphRenderer\"}],\"tooltips\":[[\"Variable\",\"@{Variable}\"],[\"index\",\"@{index}\"],[\"value\",\"@{value}\"]]},\"id\":\"8451\",\"type\":\"HoverTool\"},{\"attributes\":{\"overlay\":{\"id\":\"8501\",\"type\":\"BoxAnnotation\"}},\"id\":\"8475\",\"type\":\"BoxZoomTool\"},{\"attributes\":{\"line_color\":\"#ff7f0e\",\"line_width\":2,\"x\":{\"field\":\"index\"},\"y\":{\"field\":\"value\"}},\"id\":\"8507\",\"type\":\"Line\"},{\"attributes\":{},\"id\":\"8487\",\"type\":\"BasicTickFormatter\"},{\"attributes\":{\"dimension\":1,\"grid_line_color\":{\"value\":null},\"ticker\":{\"id\":\"8468\",\"type\":\"BasicTicker\"}},\"id\":\"8471\",\"type\":\"Grid\"},{\"attributes\":{\"line_color\":\"#1f77b4\",\"line_width\":2,\"x\":{\"field\":\"index\"},\"y\":{\"field\":\"value\"}},\"id\":\"8491\",\"type\":\"Line\"},{\"attributes\":{},\"id\":\"8517\",\"type\":\"UnionRenderers\"},{\"attributes\":{\"line_alpha\":0.1,\"line_color\":\"#1f77b4\",\"line_width\":2,\"x\":{\"field\":\"index\"},\"y\":{\"field\":\"value\"}},\"id\":\"8492\",\"type\":\"Line\"},{\"attributes\":{\"callback\":null,\"data\":{\"Variable\":[\"val_loss\",\"val_loss\",\"val_loss\",\"val_loss\",\"val_loss\",\"val_loss\",\"val_loss\",\"val_loss\",\"val_loss\",\"val_loss\",\"val_loss\",\"val_loss\",\"val_loss\",\"val_loss\",\"val_loss\",\"val_loss\",\"val_loss\",\"val_loss\",\"val_loss\",\"val_loss\",\"val_loss\",\"val_loss\",\"val_loss\",\"val_loss\",\"val_loss\",\"val_loss\",\"val_loss\",\"val_loss\",\"val_loss\",\"val_loss\",\"val_loss\",\"val_loss\",\"val_loss\",\"val_loss\",\"val_loss\",\"val_loss\",\"val_loss\",\"val_loss\",\"val_loss\",\"val_loss\",\"val_loss\",\"val_loss\",\"val_loss\",\"val_loss\",\"val_loss\",\"val_loss\",\"val_loss\",\"val_loss\",\"val_loss\",\"val_loss\",\"val_loss\",\"val_loss\",\"val_loss\",\"val_loss\",\"val_loss\",\"val_loss\",\"val_loss\",\"val_loss\",\"val_loss\",\"val_loss\",\"val_loss\",\"val_loss\",\"val_loss\",\"val_loss\",\"val_loss\",\"val_loss\",\"val_loss\",\"val_loss\",\"val_loss\",\"val_loss\",\"val_loss\",\"val_loss\"],\"index\":[0,1,2,3,4,5,6,7,8,9,10,11,12,13,14,15,16,17,18,19,20,21,22,23,24,25,26,27,28,29,30,31,32,33,34,35,36,37,38,39,40,41,42,43,44,45,46,47,48,49,50,51,52,53,54,55,56,57,58,59,60,61,62,63,64,65,66,67,68,69,70,71],\"value\":{\"__ndarray__\":\"ZlmWlcQ/gUBN0zRNOK1+QAAAAODyt3pAx3EcRziVdkAlSZLE8HNyQPD7vg/nqWxAq6qqSl8WZUAYhmHYIpxdQAAAACD2Z1RA+H3fNwb5TECnaZrGXitGQKdpmgbtG0JADMMw7N5HPkA5juP4TpE5QE3TNG05gjVAu67rqo8GM0DLsiyrkkQxQOh5nueHXy1AOY7jWEfDKkCv67pupA8pQPQ8z9NbDidA+H3ftzMLJ0C3bduW+cklQOy6rmtLWSVAx3Ecx3HRI0B2Xde139giQEVRFOXJwSJAnud5PjCrI0BFURTFqQ4jQAAAAODBYCRAnud5PoNCIkA1TdM0ldghQPQ8z3MUgyFAYhiGodTZIUApiqJIfXohQKuqqmqSDyJAhmEYppCkIUCe53n+L0UjQG7btq3LwSFAbtu2DaiGIUB+3/dNxo0hQM/zPD8dFiFAVVVVhb9oIUD0PM9zkOMgQLuu63pEFiJA9DzPU0N1IUCGYRgWSSYhQGqapglEgCJA0zRNYzvzIEDoeZ5n79AgQHIcx3HI7CFAhmEYJm+3IEA9z/O8fxwhQG7bts01dyFAKYqiSGAhIUCapmkatdcgQHZd13Xg0SBA9DzPE7eNIEB2XdcVZ2EgQOh5nmdAgiBAq6qqyqONIEC3bdv2+zogQC3LslymkyBAmqZpGgyNIUAcx3F8BP4gQCEIgtBqiCBAYhiGobACIUB+3/fN1ZggQLdt21YclCBAhmEY5t2MIEC3bdv2R4kgQMuyLEuNPiBA\",\"dtype\":\"float64\",\"shape\":[72]}},\"selected\":{\"id\":\"8505\",\"type\":\"Selection\"},\"selection_policy\":{\"id\":\"8528\",\"type\":\"UnionRenderers\"}},\"id\":\"8504\",\"type\":\"ColumnDataSource\"},{\"attributes\":{\"grid_line_color\":{\"value\":null},\"ticker\":{\"id\":\"8463\",\"type\":\"BasicTicker\"}},\"id\":\"8466\",\"type\":\"Grid\"},{\"attributes\":{\"line_alpha\":0.2,\"line_color\":\"#1f77b4\",\"line_width\":2,\"x\":{\"field\":\"index\"},\"y\":{\"field\":\"value\"}},\"id\":\"8493\",\"type\":\"Line\"},{\"attributes\":{},\"id\":\"8505\",\"type\":\"Selection\"},{\"attributes\":{},\"id\":\"8460\",\"type\":\"LinearScale\"},{\"attributes\":{\"data_source\":{\"id\":\"8488\",\"type\":\"ColumnDataSource\"},\"glyph\":{\"id\":\"8491\",\"type\":\"Line\"},\"hover_glyph\":null,\"muted_glyph\":{\"id\":\"8493\",\"type\":\"Line\"},\"nonselection_glyph\":{\"id\":\"8492\",\"type\":\"Line\"},\"selection_glyph\":null,\"view\":{\"id\":\"8495\",\"type\":\"CDSView\"}},\"id\":\"8494\",\"type\":\"GlyphRenderer\"},{\"attributes\":{\"active_drag\":\"auto\",\"active_inspect\":\"auto\",\"active_multi\":null,\"active_scroll\":\"auto\",\"active_tap\":\"auto\",\"tools\":[{\"id\":\"8451\",\"type\":\"HoverTool\"},{\"id\":\"8472\",\"type\":\"SaveTool\"},{\"id\":\"8473\",\"type\":\"PanTool\"},{\"id\":\"8474\",\"type\":\"WheelZoomTool\"},{\"id\":\"8475\",\"type\":\"BoxZoomTool\"},{\"id\":\"8476\",\"type\":\"ResetTool\"}]},\"id\":\"8477\",\"type\":\"Toolbar\"},{\"attributes\":{\"source\":{\"id\":\"8488\",\"type\":\"ColumnDataSource\"}},\"id\":\"8495\",\"type\":\"CDSView\"},{\"attributes\":{},\"id\":\"8528\",\"type\":\"UnionRenderers\"},{\"attributes\":{\"text\":\"loss\",\"text_color\":{\"value\":\"black\"},\"text_font_size\":{\"value\":\"12pt\"}},\"id\":\"8454\",\"type\":\"Title\"},{\"attributes\":{},\"id\":\"8473\",\"type\":\"PanTool\"},{\"attributes\":{},\"id\":\"8485\",\"type\":\"BasicTickFormatter\"},{\"attributes\":{\"line_alpha\":0.2,\"line_color\":\"#ff7f0e\",\"line_width\":2,\"x\":{\"field\":\"index\"},\"y\":{\"field\":\"value\"}},\"id\":\"8509\",\"type\":\"Line\"},{\"attributes\":{\"axis_label\":\"\",\"bounds\":\"auto\",\"formatter\":{\"id\":\"8485\",\"type\":\"BasicTickFormatter\"},\"major_label_orientation\":\"horizontal\",\"ticker\":{\"id\":\"8463\",\"type\":\"BasicTicker\"}},\"id\":\"8462\",\"type\":\"LinearAxis\"},{\"attributes\":{\"line_alpha\":0.1,\"line_color\":\"#ff7f0e\",\"line_width\":2,\"x\":{\"field\":\"index\"},\"y\":{\"field\":\"value\"}},\"id\":\"8508\",\"type\":\"Line\"},{\"attributes\":{\"callback\":null,\"data\":{\"Variable\":[\"loss\",\"loss\",\"loss\",\"loss\",\"loss\",\"loss\",\"loss\",\"loss\",\"loss\",\"loss\",\"loss\",\"loss\",\"loss\",\"loss\",\"loss\",\"loss\",\"loss\",\"loss\",\"loss\",\"loss\",\"loss\",\"loss\",\"loss\",\"loss\",\"loss\",\"loss\",\"loss\",\"loss\",\"loss\",\"loss\",\"loss\",\"loss\",\"loss\",\"loss\",\"loss\",\"loss\",\"loss\",\"loss\",\"loss\",\"loss\",\"loss\",\"loss\",\"loss\",\"loss\",\"loss\",\"loss\",\"loss\",\"loss\",\"loss\",\"loss\",\"loss\",\"loss\",\"loss\",\"loss\",\"loss\",\"loss\",\"loss\",\"loss\",\"loss\",\"loss\",\"loss\",\"loss\",\"loss\",\"loss\",\"loss\",\"loss\",\"loss\",\"loss\",\"loss\",\"loss\",\"loss\",\"loss\"],\"index\":[0,1,2,3,4,5,6,7,8,9,10,11,12,13,14,15,16,17,18,19,20,21,22,23,24,25,26,27,28,29,30,31,32,33,34,35,36,37,38,39,40,41,42,43,44,45,46,47,48,49,50,51,52,53,54,55,56,57,58,59,60,61,62,63,64,65,66,67,68,69,70,71],\"value\":{\"__ndarray__\":\"1/eXoZaQgUBFdEp1wa1/QNSQttdeInxARw42cYxyeEBQduTgQ6R0QDw/pgenxXBAw/NjesEOakAsb0kYplZjQBQENDeUtltAvFirSLa3U0Ab0vaKqoBMQDc+2VF7jkVA45MdWa3RQED2/WWUhgU7QGl75c2P4zVABQHNValzMkB/GQWBXZYvQPH8mN5nPSxARw42cRH8KUDox/QQxBQoQHN9f5mxUCZAKDty0G5uJUBAc33//GYkQORgE0cThiNAq4hOaU5JI0AzCgL6A28iQHbkYBMRISJA0SnVfe+gIUCCs/BcH0AhQKTtlZcZwyBAGQUBfRnLIEBlRw6m34QgQF3fX362YiBAzfX9BeWSH0AuCTXEkhYgQPH8mP5T7x5AvFirqN2xHkBXEZ0S7hoeQPlkR87tjR9ASNsrL4e1HkBtr7zFd4QdQAbOwnOQEx5AoLm+H1YZHUBSENBsZmAdQEPaXvnqax1A08PA+VThHEDdxVrFVhwdQNVdrFUX1xtAMj0MPDAmHkCYURBQ+zgcQEjbK18ophtA0SnV/WqyHEBPqe6iy60bQHh+TI8yiBtAufHJDqy/G0Boru8v8EMcQHexVpFJBBtAO3KwKc8qG0CvvCUB25cbQM31/aX1FhtAyo4cbOQYG0CPHGxiB2QbQHyyI8fFphpARkFAMzeZGUBRQ9peSGsbQMImboy9iBpAHwbOQuT7GUDs+8sojQwaQGBGQSAAchtAeH5Mry0IGkApCGiO5tAZQB1s4sbMMxpA\",\"dtype\":\"float64\",\"shape\":[72]}},\"selected\":{\"id\":\"8489\",\"type\":\"Selection\"},\"selection_policy\":{\"id\":\"8517\",\"type\":\"UnionRenderers\"}},\"id\":\"8488\",\"type\":\"ColumnDataSource\"},{\"attributes\":{},\"id\":\"8474\",\"type\":\"WheelZoomTool\"},{\"attributes\":{\"data_source\":{\"id\":\"8504\",\"type\":\"ColumnDataSource\"},\"glyph\":{\"id\":\"8507\",\"type\":\"Line\"},\"hover_glyph\":null,\"muted_glyph\":{\"id\":\"8509\",\"type\":\"Line\"},\"nonselection_glyph\":{\"id\":\"8508\",\"type\":\"Line\"},\"selection_glyph\":null,\"view\":{\"id\":\"8511\",\"type\":\"CDSView\"}},\"id\":\"8510\",\"type\":\"GlyphRenderer\"},{\"attributes\":{},\"id\":\"8468\",\"type\":\"BasicTicker\"},{\"attributes\":{\"axis_label\":\"\",\"bounds\":\"auto\",\"formatter\":{\"id\":\"8487\",\"type\":\"BasicTickFormatter\"},\"major_label_orientation\":\"horizontal\",\"ticker\":{\"id\":\"8468\",\"type\":\"BasicTicker\"}},\"id\":\"8467\",\"type\":\"LinearAxis\"},{\"attributes\":{},\"id\":\"8458\",\"type\":\"LinearScale\"},{\"attributes\":{\"click_policy\":\"mute\",\"items\":[{\"id\":\"8503\",\"type\":\"LegendItem\"},{\"id\":\"8520\",\"type\":\"LegendItem\"}],\"location\":[0,0]},\"id\":\"8502\",\"type\":\"Legend\"},{\"attributes\":{\"source\":{\"id\":\"8504\",\"type\":\"ColumnDataSource\"}},\"id\":\"8511\",\"type\":\"CDSView\"},{\"attributes\":{\"label\":{\"value\":\"loss\"},\"renderers\":[{\"id\":\"8494\",\"type\":\"GlyphRenderer\"}]},\"id\":\"8503\",\"type\":\"LegendItem\"},{\"attributes\":{\"bottom_units\":\"screen\",\"fill_alpha\":{\"value\":0.5},\"fill_color\":{\"value\":\"lightgrey\"},\"left_units\":\"screen\",\"level\":\"overlay\",\"line_alpha\":{\"value\":1.0},\"line_color\":{\"value\":\"black\"},\"line_dash\":[4,4],\"line_width\":{\"value\":2},\"render_mode\":\"css\",\"right_units\":\"screen\",\"top_units\":\"screen\"},\"id\":\"8501\",\"type\":\"BoxAnnotation\"}],\"root_ids\":[\"8453\"]},\"title\":\"Bokeh Application\",\"version\":\"1.1.0\"}};\n",
       "  var render_items = [{\"docid\":\"383c8e57-7b40-42d0-ba33-cb2a23886e61\",\"roots\":{\"8453\":\"e4dceb25-ceb1-44ac-b739-a769a1f78a67\"}}];\n",
       "  root.Bokeh.embed.embed_items_notebook(docs_json, render_items);\n",
       "\n",
       "  }\n",
       "  if (root.Bokeh !== undefined) {\n",
       "    embed_document(root);\n",
       "  } else {\n",
       "    var attempts = 0;\n",
       "    var timer = setInterval(function(root) {\n",
       "      if (root.Bokeh !== undefined) {\n",
       "        embed_document(root);\n",
       "        clearInterval(timer);\n",
       "      }\n",
       "      attempts++;\n",
       "      if (attempts > 100) {\n",
       "        console.log(\"Bokeh: ERROR: Unable to run BokehJS code because BokehJS library is missing\");\n",
       "        clearInterval(timer);\n",
       "      }\n",
       "    }, 10, root)\n",
       "  }\n",
       "})(window);"
      ],
      "application/vnd.holoviews_exec.v0+json": "",
      "text/html": [
       "<div id='8453' style='display: table; margin: 0 auto;'>\n",
       "\n",
       "\n",
       "\n",
       "\n",
       "\n",
       "  <div class=\"bk-root\" id=\"e4dceb25-ceb1-44ac-b739-a769a1f78a67\" data-root-id=\"8453\"></div>\n",
       "</div>"
      ],
      "text/plain": [
       ":NdOverlay   [Variable]\n",
       "   :Curve   [index]   (value)"
      ]
     },
     "execution_count": 145,
     "metadata": {
      "application/vnd.holoviews_exec.v0+json": {
       "id": "8453"
      }
     },
     "output_type": "execute_result"
    }
   ],
   "source": [
    "hist.loc[:, ['loss', 'val_loss']].hvplot(title='loss')"
   ]
  },
  {
   "cell_type": "code",
   "execution_count": 146,
   "metadata": {},
   "outputs": [
    {
     "data": {
      "application/javascript": [
       "\n",
       "// Ugly hack - see HoloViews #2574 for more information\n",
       "if (!(document.getElementById('8675')) && !(document.getElementById('_anim_imgNone'))) {\n",
       "  console.log(\"Creating DOM nodes dynamically for assumed nbconvert export. To generate clean HTML output set HV_DOC_HTML as an environment variable.\")\n",
       "  var htmlObject = document.createElement('div');\n",
       "  htmlObject.innerHTML = `<div id='8675' style='display: table; margin: 0 auto;'>\n",
       "\n",
       "\n",
       "\n",
       "\n",
       "\n",
       "  <div class=\"bk-root\" id=\"daf4e8dc-b3e1-432a-b3c5-0b339909c073\" data-root-id=\"8675\"></div>\n",
       "</div>`;\n",
       "  var scriptTags = document.getElementsByTagName('script');\n",
       "  var parentTag = scriptTags[scriptTags.length-1].parentNode;\n",
       "  if (parentTag.attributes.length && (parentTag.attributes[0].name == 'data-shell-mode')) {\n",
       "    alert('Displaying PyViz objects in JupyterLab requires the jupyterlab_pyviz extension to be installed, install it with:\\n\\n\\tjupyter labextension install @pyviz/jupyterlab_pyviz');\n",
       "  } else {\n",
       "    parentTag.append(htmlObject)\n",
       "  }\n",
       "}\n",
       "(function(root) {\n",
       "  function embed_document(root) {\n",
       "    \n",
       "  var docs_json = {\"c77e6f78-2531-48d0-8954-24ae692f4a0a\":{\"roots\":{\"references\":[{\"attributes\":{\"below\":[{\"id\":\"8684\",\"type\":\"LinearAxis\"}],\"center\":[{\"id\":\"8688\",\"type\":\"Grid\"},{\"id\":\"8693\",\"type\":\"Grid\"},{\"id\":\"8724\",\"type\":\"Legend\"}],\"left\":[{\"id\":\"8689\",\"type\":\"LinearAxis\"}],\"margin\":null,\"min_border_bottom\":10,\"min_border_left\":10,\"min_border_right\":10,\"min_border_top\":10,\"plot_height\":300,\"plot_width\":700,\"renderers\":[{\"id\":\"8716\",\"type\":\"GlyphRenderer\"},{\"id\":\"8732\",\"type\":\"GlyphRenderer\"}],\"right\":[{\"id\":\"8724\",\"type\":\"Legend\"}],\"sizing_mode\":\"fixed\",\"title\":{\"id\":\"8676\",\"type\":\"Title\"},\"toolbar\":{\"id\":\"8699\",\"type\":\"Toolbar\"},\"x_range\":{\"id\":\"8671\",\"type\":\"Range1d\"},\"x_scale\":{\"id\":\"8680\",\"type\":\"LinearScale\"},\"y_range\":{\"id\":\"8672\",\"type\":\"Range1d\"},\"y_scale\":{\"id\":\"8682\",\"type\":\"LinearScale\"}},\"id\":\"8675\",\"subtype\":\"Figure\",\"type\":\"Plot\"},{\"attributes\":{\"line_alpha\":0.2,\"line_color\":\"#ff7f0e\",\"line_width\":2,\"x\":{\"field\":\"index\"},\"y\":{\"field\":\"value\"}},\"id\":\"8731\",\"type\":\"Line\"},{\"attributes\":{\"line_color\":\"#ff7f0e\",\"line_width\":2,\"x\":{\"field\":\"index\"},\"y\":{\"field\":\"value\"}},\"id\":\"8729\",\"type\":\"Line\"},{\"attributes\":{\"source\":{\"id\":\"8726\",\"type\":\"ColumnDataSource\"}},\"id\":\"8733\",\"type\":\"CDSView\"},{\"attributes\":{},\"id\":\"8694\",\"type\":\"SaveTool\"},{\"attributes\":{\"axis_label\":\"\",\"bounds\":\"auto\",\"formatter\":{\"id\":\"8709\",\"type\":\"BasicTickFormatter\"},\"major_label_orientation\":\"horizontal\",\"ticker\":{\"id\":\"8690\",\"type\":\"BasicTicker\"}},\"id\":\"8689\",\"type\":\"LinearAxis\"},{\"attributes\":{},\"id\":\"8698\",\"type\":\"ResetTool\"},{\"attributes\":{\"label\":{\"value\":\"val_mae\"},\"renderers\":[{\"id\":\"8732\",\"type\":\"GlyphRenderer\"}]},\"id\":\"8742\",\"type\":\"LegendItem\"},{\"attributes\":{\"dimension\":1,\"grid_line_color\":{\"value\":null},\"ticker\":{\"id\":\"8690\",\"type\":\"BasicTicker\"}},\"id\":\"8693\",\"type\":\"Grid\"},{\"attributes\":{},\"id\":\"8739\",\"type\":\"UnionRenderers\"},{\"attributes\":{},\"id\":\"8727\",\"type\":\"Selection\"},{\"attributes\":{\"overlay\":{\"id\":\"8723\",\"type\":\"BoxAnnotation\"}},\"id\":\"8697\",\"type\":\"BoxZoomTool\"},{\"attributes\":{\"label\":{\"value\":\"mae\"},\"renderers\":[{\"id\":\"8716\",\"type\":\"GlyphRenderer\"}]},\"id\":\"8725\",\"type\":\"LegendItem\"},{\"attributes\":{\"line_alpha\":0.1,\"line_color\":\"#ff7f0e\",\"line_width\":2,\"x\":{\"field\":\"index\"},\"y\":{\"field\":\"value\"}},\"id\":\"8730\",\"type\":\"Line\"},{\"attributes\":{\"bottom_units\":\"screen\",\"fill_alpha\":{\"value\":0.5},\"fill_color\":{\"value\":\"lightgrey\"},\"left_units\":\"screen\",\"level\":\"overlay\",\"line_alpha\":{\"value\":1.0},\"line_color\":{\"value\":\"black\"},\"line_dash\":[4,4],\"line_width\":{\"value\":2},\"render_mode\":\"css\",\"right_units\":\"screen\",\"top_units\":\"screen\"},\"id\":\"8723\",\"type\":\"BoxAnnotation\"},{\"attributes\":{\"data_source\":{\"id\":\"8726\",\"type\":\"ColumnDataSource\"},\"glyph\":{\"id\":\"8729\",\"type\":\"Line\"},\"hover_glyph\":null,\"muted_glyph\":{\"id\":\"8731\",\"type\":\"Line\"},\"nonselection_glyph\":{\"id\":\"8730\",\"type\":\"Line\"},\"selection_glyph\":null,\"view\":{\"id\":\"8733\",\"type\":\"CDSView\"}},\"id\":\"8732\",\"type\":\"GlyphRenderer\"},{\"attributes\":{\"line_color\":\"#1f77b4\",\"line_width\":2,\"x\":{\"field\":\"index\"},\"y\":{\"field\":\"value\"}},\"id\":\"8713\",\"type\":\"Line\"},{\"attributes\":{\"data_source\":{\"id\":\"8710\",\"type\":\"ColumnDataSource\"},\"glyph\":{\"id\":\"8713\",\"type\":\"Line\"},\"hover_glyph\":null,\"muted_glyph\":{\"id\":\"8715\",\"type\":\"Line\"},\"nonselection_glyph\":{\"id\":\"8714\",\"type\":\"Line\"},\"selection_glyph\":null,\"view\":{\"id\":\"8717\",\"type\":\"CDSView\"}},\"id\":\"8716\",\"type\":\"GlyphRenderer\"},{\"attributes\":{\"callback\":null,\"data\":{\"Variable\":[\"mae\",\"mae\",\"mae\",\"mae\",\"mae\",\"mae\",\"mae\",\"mae\",\"mae\",\"mae\",\"mae\",\"mae\",\"mae\",\"mae\",\"mae\",\"mae\",\"mae\",\"mae\",\"mae\",\"mae\",\"mae\",\"mae\",\"mae\",\"mae\",\"mae\",\"mae\",\"mae\",\"mae\",\"mae\",\"mae\",\"mae\",\"mae\",\"mae\",\"mae\",\"mae\",\"mae\",\"mae\",\"mae\",\"mae\",\"mae\",\"mae\",\"mae\",\"mae\",\"mae\",\"mae\",\"mae\",\"mae\",\"mae\",\"mae\",\"mae\",\"mae\",\"mae\",\"mae\",\"mae\",\"mae\",\"mae\",\"mae\",\"mae\",\"mae\",\"mae\",\"mae\",\"mae\",\"mae\",\"mae\",\"mae\",\"mae\",\"mae\",\"mae\",\"mae\",\"mae\",\"mae\",\"mae\"],\"index\":[0,1,2,3,4,5,6,7,8,9,10,11,12,13,14,15,16,17,18,19,20,21,22,23,24,25,26,27,28,29,30,31,32,33,34,35,36,37,38,39,40,41,42,43,44,45,46,47,48,49,50,51,52,53,54,55,56,57,58,59,60,61,62,63,64,65,66,67,68,69,70,71],\"value\":{\"__ndarray__\":\"AAAAYIpwNkAAAAAgMjI1QAAAAOAn4TNAAAAA4JZeMkAAAAAgBKswQAAAAOB/oi1AAAAAYOaCKUAAAABgV3klQAAAAOA7fyFAAAAAIBINHEAAAADgrxsXQAAAAMBZQhRAAAAAYJsYEkAAAACA4jUQQAAAAKA6Ng1AAAAA4LY2CkAAAACA6XoIQAAAAMDHCQdAAAAAAPexBUAAAAAg37QEQAAAAOAR/wNAAAAAoE9QA0AAAAAgLfQCQAAAAMAdOQJAAAAAIGVtAkAAAAAghawBQAAAAOAvmAFAAAAAgBJDAUAAAACgJjEBQAAAAOAIoQBAAAAAgL7vAEAAAACAXNMAQAAAACDl0QBAAAAAYKxgAEAAAABAGUsAQAAAAKAHSABAAAAAYIwvAEAAAAAgHRMAQAAAAID7FQBAAAAAAFll/z8AAAAgLbn/PwAAACBu4/8/AAAAYMhQ/z8AAACAyor/PwAAAKDGif8/AAAAQA+K/z8AAABg0HX/PwAAACDFYv4/AAAAYITg/z8AAACAI8z+PwAAAGDUwP4/AAAAAEcH/z8AAADg5VL+PwAAAAAvj/4/AAAAoK97/j8AAABgB5j+PwAAAIDWdv4/AAAAQLju/T8AAACgxHP+PwAAAIDKzv0/AAAAwBcp/j8AAAAg70D+PwAAAMCZ2P0/AAAAoPHO/D8AAAAA80L+PwAAAMAdbf0/AAAAIHh6/T8AAABgWqD9PwAAAGAN3/0/AAAAQIw5/T8AAAAgbiT9PwAAAIA+VP0/\",\"dtype\":\"float64\",\"shape\":[72]}},\"selected\":{\"id\":\"8711\",\"type\":\"Selection\"},\"selection_policy\":{\"id\":\"8739\",\"type\":\"UnionRenderers\"}},\"id\":\"8710\",\"type\":\"ColumnDataSource\"},{\"attributes\":{},\"id\":\"8680\",\"type\":\"LinearScale\"},{\"attributes\":{\"click_policy\":\"mute\",\"items\":[{\"id\":\"8725\",\"type\":\"LegendItem\"},{\"id\":\"8742\",\"type\":\"LegendItem\"}],\"location\":[0,0]},\"id\":\"8724\",\"type\":\"Legend\"},{\"attributes\":{},\"id\":\"8707\",\"type\":\"BasicTickFormatter\"},{\"attributes\":{\"source\":{\"id\":\"8710\",\"type\":\"ColumnDataSource\"}},\"id\":\"8717\",\"type\":\"CDSView\"},{\"attributes\":{},\"id\":\"8695\",\"type\":\"PanTool\"},{\"attributes\":{\"active_drag\":\"auto\",\"active_inspect\":\"auto\",\"active_multi\":null,\"active_scroll\":\"auto\",\"active_tap\":\"auto\",\"tools\":[{\"id\":\"8673\",\"type\":\"HoverTool\"},{\"id\":\"8694\",\"type\":\"SaveTool\"},{\"id\":\"8695\",\"type\":\"PanTool\"},{\"id\":\"8696\",\"type\":\"WheelZoomTool\"},{\"id\":\"8697\",\"type\":\"BoxZoomTool\"},{\"id\":\"8698\",\"type\":\"ResetTool\"}]},\"id\":\"8699\",\"type\":\"Toolbar\"},{\"attributes\":{\"text\":\"MAE\",\"text_color\":{\"value\":\"black\"},\"text_font_size\":{\"value\":\"12pt\"}},\"id\":\"8676\",\"type\":\"Title\"},{\"attributes\":{},\"id\":\"8696\",\"type\":\"WheelZoomTool\"},{\"attributes\":{\"callback\":null,\"data\":{\"Variable\":[\"val_mae\",\"val_mae\",\"val_mae\",\"val_mae\",\"val_mae\",\"val_mae\",\"val_mae\",\"val_mae\",\"val_mae\",\"val_mae\",\"val_mae\",\"val_mae\",\"val_mae\",\"val_mae\",\"val_mae\",\"val_mae\",\"val_mae\",\"val_mae\",\"val_mae\",\"val_mae\",\"val_mae\",\"val_mae\",\"val_mae\",\"val_mae\",\"val_mae\",\"val_mae\",\"val_mae\",\"val_mae\",\"val_mae\",\"val_mae\",\"val_mae\",\"val_mae\",\"val_mae\",\"val_mae\",\"val_mae\",\"val_mae\",\"val_mae\",\"val_mae\",\"val_mae\",\"val_mae\",\"val_mae\",\"val_mae\",\"val_mae\",\"val_mae\",\"val_mae\",\"val_mae\",\"val_mae\",\"val_mae\",\"val_mae\",\"val_mae\",\"val_mae\",\"val_mae\",\"val_mae\",\"val_mae\",\"val_mae\",\"val_mae\",\"val_mae\",\"val_mae\",\"val_mae\",\"val_mae\",\"val_mae\",\"val_mae\",\"val_mae\",\"val_mae\",\"val_mae\",\"val_mae\",\"val_mae\",\"val_mae\",\"val_mae\",\"val_mae\",\"val_mae\",\"val_mae\"],\"index\":[0,1,2,3,4,5,6,7,8,9,10,11,12,13,14,15,16,17,18,19,20,21,22,23,24,25,26,27,28,29,30,31,32,33,34,35,36,37,38,39,40,41,42,43,44,45,46,47,48,49,50,51,52,53,54,55,56,57,58,59,60,61,62,63,64,65,66,67,68,69,70,71],\"value\":{\"__ndarray__\":\"AAAAAL8uNkAAAAAgOc00QAAAAMCRRDNAAAAAQKyGMUAAAAAgdzMvQAAAAABh8SpAAAAAwMKfJkAAAACAcXIiQAAAAIA/5x1AAAAA4K/tGEAAAACgK2oVQAAAAMDMCBNAAAAAIOJOEUAAAAAgIGwPQAAAAEAZJQ1AAAAAwCPZCkAAAADA90cJQAAAAAAa6wdAAAAAIIsAB0AAAACApXMGQAAAAOA5CAVAAAAAoMDEBEAAAADg2kYEQAAAAKAXrANAAAAA4IyGA0AAAABAosoCQAAAAICh9QJAAAAA4AuxAkAAAADAUM4CQAAAAOB0igJAAAAAIG8JAkAAAADg9A8CQAAAAMAlHgJAAAAAwHISA0AAAAAAywMCQAAAAADaqAFAAAAAAAVDAkAAAACAfNwDQAAAAIAZwwJAAAAAICuQAUAAAADgkg8CQAAAAAD9AQJAAAAAgHykAkAAAADgZ8cBQAAAACCidAFAAAAAAH0bAkAAAABAuRoCQAAAAADtowFAAAAAQPCRAUAAAABgzLYBQAAAAMBROQNAAAAA4PpmAUAAAABAoUsBQAAAAODA4wJAAAAAYGS9AUAAAACg1WQBQAAAACD2SwFAAAAAgFveAUAAAABAsJcBQAAAAMBVaQFAAAAAYKy2AUAAAAAAMVYBQAAAAOD+YgJAAAAAAHg0AUAAAABgG14CQAAAAOCYxgFAAAAAQP3GAkAAAACgSjcCQAAAAGDKhgFAAAAAYBGVAUAAAADguB4CQAAAAKAIfQFA\",\"dtype\":\"float64\",\"shape\":[72]}},\"selected\":{\"id\":\"8727\",\"type\":\"Selection\"},\"selection_policy\":{\"id\":\"8750\",\"type\":\"UnionRenderers\"}},\"id\":\"8726\",\"type\":\"ColumnDataSource\"},{\"attributes\":{},\"id\":\"8682\",\"type\":\"LinearScale\"},{\"attributes\":{\"callback\":null,\"renderers\":[{\"id\":\"8716\",\"type\":\"GlyphRenderer\"},{\"id\":\"8732\",\"type\":\"GlyphRenderer\"}],\"tooltips\":[[\"Variable\",\"@{Variable}\"],[\"index\",\"@{index}\"],[\"value\",\"@{value}\"]]},\"id\":\"8673\",\"type\":\"HoverTool\"},{\"attributes\":{\"grid_line_color\":{\"value\":null},\"ticker\":{\"id\":\"8685\",\"type\":\"BasicTicker\"}},\"id\":\"8688\",\"type\":\"Grid\"},{\"attributes\":{},\"id\":\"8690\",\"type\":\"BasicTicker\"},{\"attributes\":{\"axis_label\":\"\",\"bounds\":\"auto\",\"formatter\":{\"id\":\"8707\",\"type\":\"BasicTickFormatter\"},\"major_label_orientation\":\"horizontal\",\"ticker\":{\"id\":\"8685\",\"type\":\"BasicTicker\"}},\"id\":\"8684\",\"type\":\"LinearAxis\"},{\"attributes\":{\"callback\":null,\"end\":71.0,\"reset_end\":71.0,\"reset_start\":0.0,\"tags\":[[[\"index\",\"index\",null]]]},\"id\":\"8671\",\"type\":\"Range1d\"},{\"attributes\":{},\"id\":\"8685\",\"type\":\"BasicTicker\"},{\"attributes\":{\"callback\":null,\"end\":22.439611434936523,\"reset_end\":22.439611434936523,\"reset_start\":1.8005234003067017,\"start\":1.8005234003067017,\"tags\":[[[\"value\",\"value\",null]]]},\"id\":\"8672\",\"type\":\"Range1d\"},{\"attributes\":{\"line_alpha\":0.2,\"line_color\":\"#1f77b4\",\"line_width\":2,\"x\":{\"field\":\"index\"},\"y\":{\"field\":\"value\"}},\"id\":\"8715\",\"type\":\"Line\"},{\"attributes\":{},\"id\":\"8711\",\"type\":\"Selection\"},{\"attributes\":{},\"id\":\"8750\",\"type\":\"UnionRenderers\"},{\"attributes\":{\"line_alpha\":0.1,\"line_color\":\"#1f77b4\",\"line_width\":2,\"x\":{\"field\":\"index\"},\"y\":{\"field\":\"value\"}},\"id\":\"8714\",\"type\":\"Line\"},{\"attributes\":{},\"id\":\"8709\",\"type\":\"BasicTickFormatter\"}],\"root_ids\":[\"8675\"]},\"title\":\"Bokeh Application\",\"version\":\"1.1.0\"}};\n",
       "  var render_items = [{\"docid\":\"c77e6f78-2531-48d0-8954-24ae692f4a0a\",\"roots\":{\"8675\":\"daf4e8dc-b3e1-432a-b3c5-0b339909c073\"}}];\n",
       "  root.Bokeh.embed.embed_items_notebook(docs_json, render_items);\n",
       "\n",
       "  }\n",
       "  if (root.Bokeh !== undefined) {\n",
       "    embed_document(root);\n",
       "  } else {\n",
       "    var attempts = 0;\n",
       "    var timer = setInterval(function(root) {\n",
       "      if (root.Bokeh !== undefined) {\n",
       "        embed_document(root);\n",
       "        clearInterval(timer);\n",
       "      }\n",
       "      attempts++;\n",
       "      if (attempts > 100) {\n",
       "        console.log(\"Bokeh: ERROR: Unable to run BokehJS code because BokehJS library is missing\");\n",
       "        clearInterval(timer);\n",
       "      }\n",
       "    }, 10, root)\n",
       "  }\n",
       "})(window);"
      ],
      "application/vnd.holoviews_exec.v0+json": "",
      "text/html": [
       "<div id='8675' style='display: table; margin: 0 auto;'>\n",
       "\n",
       "\n",
       "\n",
       "\n",
       "\n",
       "  <div class=\"bk-root\" id=\"daf4e8dc-b3e1-432a-b3c5-0b339909c073\" data-root-id=\"8675\"></div>\n",
       "</div>"
      ],
      "text/plain": [
       ":NdOverlay   [Variable]\n",
       "   :Curve   [index]   (value)"
      ]
     },
     "execution_count": 146,
     "metadata": {
      "application/vnd.holoviews_exec.v0+json": {
       "id": "8675"
      }
     },
     "output_type": "execute_result"
    }
   ],
   "source": [
    "hist.loc[:, ['mae', 'val_mae']].hvplot(title='MAE')"
   ]
  },
  {
   "cell_type": "code",
   "execution_count": 147,
   "metadata": {},
   "outputs": [
    {
     "data": {
      "application/javascript": [
       "\n",
       "// Ugly hack - see HoloViews #2574 for more information\n",
       "if (!(document.getElementById('8897')) && !(document.getElementById('_anim_imgNone'))) {\n",
       "  console.log(\"Creating DOM nodes dynamically for assumed nbconvert export. To generate clean HTML output set HV_DOC_HTML as an environment variable.\")\n",
       "  var htmlObject = document.createElement('div');\n",
       "  htmlObject.innerHTML = `<div id='8897' style='display: table; margin: 0 auto;'>\n",
       "\n",
       "\n",
       "\n",
       "\n",
       "\n",
       "  <div class=\"bk-root\" id=\"0505a4f1-7576-4054-a38f-cdbff1b6261f\" data-root-id=\"8897\"></div>\n",
       "</div>`;\n",
       "  var scriptTags = document.getElementsByTagName('script');\n",
       "  var parentTag = scriptTags[scriptTags.length-1].parentNode;\n",
       "  if (parentTag.attributes.length && (parentTag.attributes[0].name == 'data-shell-mode')) {\n",
       "    alert('Displaying PyViz objects in JupyterLab requires the jupyterlab_pyviz extension to be installed, install it with:\\n\\n\\tjupyter labextension install @pyviz/jupyterlab_pyviz');\n",
       "  } else {\n",
       "    parentTag.append(htmlObject)\n",
       "  }\n",
       "}\n",
       "(function(root) {\n",
       "  function embed_document(root) {\n",
       "    \n",
       "  var docs_json = {\"3607602b-77f1-4054-b1c0-415a89291a15\":{\"roots\":{\"references\":[{\"attributes\":{\"below\":[{\"id\":\"8906\",\"type\":\"LinearAxis\"}],\"center\":[{\"id\":\"8910\",\"type\":\"Grid\"},{\"id\":\"8915\",\"type\":\"Grid\"},{\"id\":\"8946\",\"type\":\"Legend\"}],\"left\":[{\"id\":\"8911\",\"type\":\"LinearAxis\"}],\"margin\":null,\"min_border_bottom\":10,\"min_border_left\":10,\"min_border_right\":10,\"min_border_top\":10,\"plot_height\":300,\"plot_width\":700,\"renderers\":[{\"id\":\"8938\",\"type\":\"GlyphRenderer\"},{\"id\":\"8954\",\"type\":\"GlyphRenderer\"}],\"right\":[{\"id\":\"8946\",\"type\":\"Legend\"}],\"sizing_mode\":\"fixed\",\"title\":{\"id\":\"8898\",\"type\":\"Title\"},\"toolbar\":{\"id\":\"8921\",\"type\":\"Toolbar\"},\"x_range\":{\"id\":\"8893\",\"type\":\"Range1d\"},\"x_scale\":{\"id\":\"8902\",\"type\":\"LinearScale\"},\"y_range\":{\"id\":\"8894\",\"type\":\"Range1d\"},\"y_scale\":{\"id\":\"8904\",\"type\":\"LinearScale\"}},\"id\":\"8897\",\"subtype\":\"Figure\",\"type\":\"Plot\"},{\"attributes\":{},\"id\":\"8920\",\"type\":\"ResetTool\"},{\"attributes\":{},\"id\":\"8902\",\"type\":\"LinearScale\"},{\"attributes\":{\"data_source\":{\"id\":\"8948\",\"type\":\"ColumnDataSource\"},\"glyph\":{\"id\":\"8951\",\"type\":\"Line\"},\"hover_glyph\":null,\"muted_glyph\":{\"id\":\"8953\",\"type\":\"Line\"},\"nonselection_glyph\":{\"id\":\"8952\",\"type\":\"Line\"},\"selection_glyph\":null,\"view\":{\"id\":\"8955\",\"type\":\"CDSView\"}},\"id\":\"8954\",\"type\":\"GlyphRenderer\"},{\"attributes\":{\"grid_line_color\":{\"value\":null},\"ticker\":{\"id\":\"8907\",\"type\":\"BasicTicker\"}},\"id\":\"8910\",\"type\":\"Grid\"},{\"attributes\":{},\"id\":\"8933\",\"type\":\"Selection\"},{\"attributes\":{},\"id\":\"8961\",\"type\":\"UnionRenderers\"},{\"attributes\":{\"source\":{\"id\":\"8948\",\"type\":\"ColumnDataSource\"}},\"id\":\"8955\",\"type\":\"CDSView\"},{\"attributes\":{\"label\":{\"value\":\"val_mse\"},\"renderers\":[{\"id\":\"8954\",\"type\":\"GlyphRenderer\"}]},\"id\":\"8964\",\"type\":\"LegendItem\"},{\"attributes\":{\"line_alpha\":0.1,\"line_color\":\"#ff7f0e\",\"line_width\":2,\"x\":{\"field\":\"index\"},\"y\":{\"field\":\"value\"}},\"id\":\"8952\",\"type\":\"Line\"},{\"attributes\":{\"line_alpha\":0.2,\"line_color\":\"#ff7f0e\",\"line_width\":2,\"x\":{\"field\":\"index\"},\"y\":{\"field\":\"value\"}},\"id\":\"8953\",\"type\":\"Line\"},{\"attributes\":{\"active_drag\":\"auto\",\"active_inspect\":\"auto\",\"active_multi\":null,\"active_scroll\":\"auto\",\"active_tap\":\"auto\",\"tools\":[{\"id\":\"8895\",\"type\":\"HoverTool\"},{\"id\":\"8916\",\"type\":\"SaveTool\"},{\"id\":\"8917\",\"type\":\"PanTool\"},{\"id\":\"8918\",\"type\":\"WheelZoomTool\"},{\"id\":\"8919\",\"type\":\"BoxZoomTool\"},{\"id\":\"8920\",\"type\":\"ResetTool\"}]},\"id\":\"8921\",\"type\":\"Toolbar\"},{\"attributes\":{\"line_color\":\"#ff7f0e\",\"line_width\":2,\"x\":{\"field\":\"index\"},\"y\":{\"field\":\"value\"}},\"id\":\"8951\",\"type\":\"Line\"},{\"attributes\":{},\"id\":\"8917\",\"type\":\"PanTool\"},{\"attributes\":{\"callback\":null,\"data\":{\"Variable\":[\"val_mse\",\"val_mse\",\"val_mse\",\"val_mse\",\"val_mse\",\"val_mse\",\"val_mse\",\"val_mse\",\"val_mse\",\"val_mse\",\"val_mse\",\"val_mse\",\"val_mse\",\"val_mse\",\"val_mse\",\"val_mse\",\"val_mse\",\"val_mse\",\"val_mse\",\"val_mse\",\"val_mse\",\"val_mse\",\"val_mse\",\"val_mse\",\"val_mse\",\"val_mse\",\"val_mse\",\"val_mse\",\"val_mse\",\"val_mse\",\"val_mse\",\"val_mse\",\"val_mse\",\"val_mse\",\"val_mse\",\"val_mse\",\"val_mse\",\"val_mse\",\"val_mse\",\"val_mse\",\"val_mse\",\"val_mse\",\"val_mse\",\"val_mse\",\"val_mse\",\"val_mse\",\"val_mse\",\"val_mse\",\"val_mse\",\"val_mse\",\"val_mse\",\"val_mse\",\"val_mse\",\"val_mse\",\"val_mse\",\"val_mse\",\"val_mse\",\"val_mse\",\"val_mse\",\"val_mse\",\"val_mse\",\"val_mse\",\"val_mse\",\"val_mse\",\"val_mse\",\"val_mse\",\"val_mse\",\"val_mse\",\"val_mse\",\"val_mse\",\"val_mse\",\"val_mse\"],\"index\":[0,1,2,3,4,5,6,7,8,9,10,11,12,13,14,15,16,17,18,19,20,21,22,23,24,25,26,27,28,29,30,31,32,33,34,35,36,37,38,39,40,41,42,43,44,45,46,47,48,49,50,51,52,53,54,55,56,57,58,59,60,61,62,63,64,65,66,67,68,69,70,71],\"value\":{\"__ndarray__\":\"AAAAoMQ/gUAAAABgOK1+QAAAAMDyt3pAAAAAQDiVdkAAAADA8HNyQAAAACDnqWxAAAAAQF8WZUAAAADAIpxdQAAAACD2Z1RAAAAAQAb5TEAAAADAXitGQAAAAADtG0JAAAAAAN9HPkAAAAAAT5E5QAAAAGA5gjVAAAAAwI8GM0AAAACgkkQxQAAAAOCHXy1AAAAAYEfDKkAAAACApA8pQAAAAMBbDidAAAAAwDMLJ0AAAACg+cklQAAAAGBLWSVAAAAAwHHRI0AAAADA39giQAAAAODJwSJAAAAAQDCrI0AAAADAqQ4jQAAAAODBYCRAAAAAQINCIkAAAABAldghQAAAAIAUgyFAAAAAoNTZIUAAAABAfXohQAAAAGCSDyJAAAAAoJCkIUAAAAAAMEUjQAAAAKDLwSFAAAAAAKiGIUAAAABgxo0hQAAAAEAdFiFAAAAAgL9oIUAAAACAkOMgQAAAAKBEFiJAAAAAQEN1IUAAAAAgSSYhQAAAACBEgCJAAAAAYDvzIEAAAACA79AgQAAAAGDI7CFAAAAAQG+3IEAAAADAfxwhQAAAAOA1dyFAAAAAQGAhIUAAAAAgtdcgQAAAAIDg0SBAAAAAILeNIEAAAAAgZ2EgQAAAAGBAgiBAAAAAwKONIEAAAADg+zogQAAAAGCmkyBAAAAAQAyNIUAAAACABP4gQAAAAMBqiCBAAAAAoLACIUAAAADg1ZggQAAAAGAclCBAAAAAAN6MIEAAAAAASIkgQAAAAGCNPiBA\",\"dtype\":\"float64\",\"shape\":[72]}},\"selected\":{\"id\":\"8949\",\"type\":\"Selection\"},\"selection_policy\":{\"id\":\"8972\",\"type\":\"UnionRenderers\"}},\"id\":\"8948\",\"type\":\"ColumnDataSource\"},{\"attributes\":{\"dimension\":1,\"grid_line_color\":{\"value\":null},\"ticker\":{\"id\":\"8912\",\"type\":\"BasicTicker\"}},\"id\":\"8915\",\"type\":\"Grid\"},{\"attributes\":{\"label\":{\"value\":\"mse\"},\"renderers\":[{\"id\":\"8938\",\"type\":\"GlyphRenderer\"}]},\"id\":\"8947\",\"type\":\"LegendItem\"},{\"attributes\":{\"axis_label\":\"\",\"bounds\":\"auto\",\"formatter\":{\"id\":\"8931\",\"type\":\"BasicTickFormatter\"},\"major_label_orientation\":\"horizontal\",\"ticker\":{\"id\":\"8912\",\"type\":\"BasicTicker\"}},\"id\":\"8911\",\"type\":\"LinearAxis\"},{\"attributes\":{\"callback\":null,\"end\":71.0,\"reset_end\":71.0,\"reset_start\":0.0,\"tags\":[[[\"index\",\"index\",null]]]},\"id\":\"8893\",\"type\":\"Range1d\"},{\"attributes\":{\"axis_label\":\"\",\"bounds\":\"auto\",\"formatter\":{\"id\":\"8929\",\"type\":\"BasicTickFormatter\"},\"major_label_orientation\":\"horizontal\",\"ticker\":{\"id\":\"8907\",\"type\":\"BasicTicker\"}},\"id\":\"8906\",\"type\":\"LinearAxis\"},{\"attributes\":{\"callback\":null,\"end\":562.0735473632812,\"reset_end\":562.0735473632812,\"reset_start\":6.399624824523926,\"start\":6.399624824523926,\"tags\":[[[\"value\",\"value\",null]]]},\"id\":\"8894\",\"type\":\"Range1d\"},{\"attributes\":{\"text\":\"MSE\",\"text_color\":{\"value\":\"black\"},\"text_font_size\":{\"value\":\"12pt\"}},\"id\":\"8898\",\"type\":\"Title\"},{\"attributes\":{\"callback\":null,\"data\":{\"Variable\":[\"mse\",\"mse\",\"mse\",\"mse\",\"mse\",\"mse\",\"mse\",\"mse\",\"mse\",\"mse\",\"mse\",\"mse\",\"mse\",\"mse\",\"mse\",\"mse\",\"mse\",\"mse\",\"mse\",\"mse\",\"mse\",\"mse\",\"mse\",\"mse\",\"mse\",\"mse\",\"mse\",\"mse\",\"mse\",\"mse\",\"mse\",\"mse\",\"mse\",\"mse\",\"mse\",\"mse\",\"mse\",\"mse\",\"mse\",\"mse\",\"mse\",\"mse\",\"mse\",\"mse\",\"mse\",\"mse\",\"mse\",\"mse\",\"mse\",\"mse\",\"mse\",\"mse\",\"mse\",\"mse\",\"mse\",\"mse\",\"mse\",\"mse\",\"mse\",\"mse\",\"mse\",\"mse\",\"mse\",\"mse\",\"mse\",\"mse\",\"mse\",\"mse\",\"mse\",\"mse\",\"mse\",\"mse\"],\"index\":[0,1,2,3,4,5,6,7,8,9,10,11,12,13,14,15,16,17,18,19,20,21,22,23,24,25,26,27,28,29,30,31,32,33,34,35,36,37,38,39,40,41,42,43,44,45,46,47,48,49,50,51,52,53,54,55,56,57,58,59,60,61,62,63,64,65,66,67,68,69,70,71],\"value\":{\"__ndarray__\":\"AAAAoJaQgUAAAABgwa1/QAAAAOBeInxAAAAAgIxyeEAAAADgQ6R0QAAAAACnxXBAAAAAYMEOakAAAAAgplZjQAAAACCUtltAAAAAILa3U0AAAACgqoBMQAAAAEB7jkVAAAAAYK3RQEAAAABghgU7QAAAAMCP4zVAAAAAQKlzMkAAAACAXZYvQAAAAOBnPSxAAAAAgBH8KUAAAAAAxBQoQAAAAICxUCZAAAAAwG5uJUAAAAAA/WYkQAAAAEAThiNAAAAAYE5JI0AAAAAgBG8iQAAAACARISJAAAAAYO+gIUAAAABgH0AhQAAAAKAZwyBAAAAAgBnLIEAAAACg34QgQAAAAKC2YiBAAAAAAOWSH0AAAADAkhYgQAAAAABU7x5AAAAAoN2xHkAAAAAA7hoeQAAAAODtjR9AAAAAIIe1HkAAAADgd4QdQAAAAGCQEx5AAAAA4FUZHUAAAABgZmAdQAAAAADrax1AAAAAAFXhHEAAAADAVhwdQAAAAEAX1xtAAAAAYDAmHkAAAABA+zgcQAAAAEAophtAAAAAAGuyHEAAAADAy60bQAAAAIAyiBtAAAAAIKy/G0AAAABg8EMcQAAAAGBJBBtAAAAAIM8qG0AAAAAA25cbQAAAAID1FhtAAAAAgOQYG0AAAABgB2QbQAAAAODFphpAAAAAQDeZGUAAAABASGsbQAAAAGC9iBpAAAAAQOT7GUAAAAAgjQwaQAAAACAAchtAAAAAwC0IGkAAAACA5tAZQAAAAODMMxpA\",\"dtype\":\"float64\",\"shape\":[72]}},\"selected\":{\"id\":\"8933\",\"type\":\"Selection\"},\"selection_policy\":{\"id\":\"8961\",\"type\":\"UnionRenderers\"}},\"id\":\"8932\",\"type\":\"ColumnDataSource\"},{\"attributes\":{\"bottom_units\":\"screen\",\"fill_alpha\":{\"value\":0.5},\"fill_color\":{\"value\":\"lightgrey\"},\"left_units\":\"screen\",\"level\":\"overlay\",\"line_alpha\":{\"value\":1.0},\"line_color\":{\"value\":\"black\"},\"line_dash\":[4,4],\"line_width\":{\"value\":2},\"render_mode\":\"css\",\"right_units\":\"screen\",\"top_units\":\"screen\"},\"id\":\"8945\",\"type\":\"BoxAnnotation\"},{\"attributes\":{},\"id\":\"8949\",\"type\":\"Selection\"},{\"attributes\":{\"callback\":null,\"renderers\":[{\"id\":\"8938\",\"type\":\"GlyphRenderer\"},{\"id\":\"8954\",\"type\":\"GlyphRenderer\"}],\"tooltips\":[[\"Variable\",\"@{Variable}\"],[\"index\",\"@{index}\"],[\"value\",\"@{value}\"]]},\"id\":\"8895\",\"type\":\"HoverTool\"},{\"attributes\":{\"click_policy\":\"mute\",\"items\":[{\"id\":\"8947\",\"type\":\"LegendItem\"},{\"id\":\"8964\",\"type\":\"LegendItem\"}],\"location\":[0,0]},\"id\":\"8946\",\"type\":\"Legend\"},{\"attributes\":{},\"id\":\"8904\",\"type\":\"LinearScale\"},{\"attributes\":{\"line_color\":\"#1f77b4\",\"line_width\":2,\"x\":{\"field\":\"index\"},\"y\":{\"field\":\"value\"}},\"id\":\"8935\",\"type\":\"Line\"},{\"attributes\":{},\"id\":\"8931\",\"type\":\"BasicTickFormatter\"},{\"attributes\":{\"overlay\":{\"id\":\"8945\",\"type\":\"BoxAnnotation\"}},\"id\":\"8919\",\"type\":\"BoxZoomTool\"},{\"attributes\":{},\"id\":\"8907\",\"type\":\"BasicTicker\"},{\"attributes\":{},\"id\":\"8918\",\"type\":\"WheelZoomTool\"},{\"attributes\":{\"line_alpha\":0.1,\"line_color\":\"#1f77b4\",\"line_width\":2,\"x\":{\"field\":\"index\"},\"y\":{\"field\":\"value\"}},\"id\":\"8936\",\"type\":\"Line\"},{\"attributes\":{},\"id\":\"8912\",\"type\":\"BasicTicker\"},{\"attributes\":{\"line_alpha\":0.2,\"line_color\":\"#1f77b4\",\"line_width\":2,\"x\":{\"field\":\"index\"},\"y\":{\"field\":\"value\"}},\"id\":\"8937\",\"type\":\"Line\"},{\"attributes\":{},\"id\":\"8929\",\"type\":\"BasicTickFormatter\"},{\"attributes\":{},\"id\":\"8972\",\"type\":\"UnionRenderers\"},{\"attributes\":{\"data_source\":{\"id\":\"8932\",\"type\":\"ColumnDataSource\"},\"glyph\":{\"id\":\"8935\",\"type\":\"Line\"},\"hover_glyph\":null,\"muted_glyph\":{\"id\":\"8937\",\"type\":\"Line\"},\"nonselection_glyph\":{\"id\":\"8936\",\"type\":\"Line\"},\"selection_glyph\":null,\"view\":{\"id\":\"8939\",\"type\":\"CDSView\"}},\"id\":\"8938\",\"type\":\"GlyphRenderer\"},{\"attributes\":{},\"id\":\"8916\",\"type\":\"SaveTool\"},{\"attributes\":{\"source\":{\"id\":\"8932\",\"type\":\"ColumnDataSource\"}},\"id\":\"8939\",\"type\":\"CDSView\"}],\"root_ids\":[\"8897\"]},\"title\":\"Bokeh Application\",\"version\":\"1.1.0\"}};\n",
       "  var render_items = [{\"docid\":\"3607602b-77f1-4054-b1c0-415a89291a15\",\"roots\":{\"8897\":\"0505a4f1-7576-4054-a38f-cdbff1b6261f\"}}];\n",
       "  root.Bokeh.embed.embed_items_notebook(docs_json, render_items);\n",
       "\n",
       "  }\n",
       "  if (root.Bokeh !== undefined) {\n",
       "    embed_document(root);\n",
       "  } else {\n",
       "    var attempts = 0;\n",
       "    var timer = setInterval(function(root) {\n",
       "      if (root.Bokeh !== undefined) {\n",
       "        embed_document(root);\n",
       "        clearInterval(timer);\n",
       "      }\n",
       "      attempts++;\n",
       "      if (attempts > 100) {\n",
       "        console.log(\"Bokeh: ERROR: Unable to run BokehJS code because BokehJS library is missing\");\n",
       "        clearInterval(timer);\n",
       "      }\n",
       "    }, 10, root)\n",
       "  }\n",
       "})(window);"
      ],
      "application/vnd.holoviews_exec.v0+json": "",
      "text/html": [
       "<div id='8897' style='display: table; margin: 0 auto;'>\n",
       "\n",
       "\n",
       "\n",
       "\n",
       "\n",
       "  <div class=\"bk-root\" id=\"0505a4f1-7576-4054-a38f-cdbff1b6261f\" data-root-id=\"8897\"></div>\n",
       "</div>"
      ],
      "text/plain": [
       ":NdOverlay   [Variable]\n",
       "   :Curve   [index]   (value)"
      ]
     },
     "execution_count": 147,
     "metadata": {
      "application/vnd.holoviews_exec.v0+json": {
       "id": "8897"
      }
     },
     "output_type": "execute_result"
    }
   ],
   "source": [
    "hist.loc[:, ['mse', 'val_mse']].hvplot(title='MSE')"
   ]
  },
  {
   "cell_type": "code",
   "execution_count": 148,
   "metadata": {},
   "outputs": [
    {
     "name": "stdout",
     "output_type": "stream",
     "text": [
      "Testing set Mean Abs Error:  1.86 MPG\n"
     ]
    }
   ],
   "source": [
    "loss, mae, mse = model.evaluate(normed_test_data, test_labels, verbose=0)\n",
    "\n",
    "print(\"Testing set Mean Abs Error: {:5.2f} MPG\".format(mae))"
   ]
  },
  {
   "cell_type": "code",
   "execution_count": 149,
   "metadata": {},
   "outputs": [
    {
     "data": {
      "image/png": "[encoded data removed]",
      "text/plain": [
       "<Figure size 432x288 with 1 Axes>"
      ]
     },
     "metadata": {
      "needs_background": "light"
     },
     "output_type": "display_data"
    }
   ],
   "source": [
    "test_predictions = model.predict(normed_test_data).flatten()\n",
    "\n",
    "plt.scatter(test_labels, test_predictions)\n",
    "plt.xlabel('True Values [MPG]')\n",
    "plt.ylabel('Predictions [MPG]')\n",
    "plt.axis('equal')\n",
    "plt.axis('square')\n",
    "plt.xlim([0,plt.xlim()[1]])\n",
    "plt.ylim([0,plt.ylim()[1]])\n",
    "_ = plt.plot([-100, 100], [-100, 100])"
   ]
  },
  {
   "cell_type": "code",
   "execution_count": 150,
   "metadata": {},
   "outputs": [
    {
     "data": {
      "image/png": "[encoded data removed]",
      "text/plain": [
       "<Figure size 432x288 with 1 Axes>"
      ]
     },
     "metadata": {
      "needs_background": "light"
     },
     "output_type": "display_data"
    }
   ],
   "source": [
    "error = test_predictions - test_labels\n",
    "plt.hist(error, bins = 25)\n",
    "plt.xlabel(\"Prediction Error [MPG]\")\n",
    "_ = plt.ylabel(\"Count\")"
   ]
  },
  {
   "cell_type": "code",
   "execution_count": null,
   "metadata": {},
   "outputs": [],
   "source": []
  }
 ],
 "metadata": {
  "kernelspec": {
   "display_name": "Python 3",
   "language": "python",
   "name": "python3"
  },
  "language_info": {
   "codemirror_mode": {
    "name": "ipython",
    "version": 3
   },
   "file_extension": ".py",
   "mimetype": "text/x-python",
   "name": "python",
   "nbconvert_exporter": "python",
   "pygments_lexer": "ipython3",
   "version": "3.6.7"
  }
 },
 "nbformat": 4,
 "nbformat_minor": 2
}
